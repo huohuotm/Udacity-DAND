{
 "cells": [
  {
   "cell_type": "markdown",
   "metadata": {},
   "source": [
    "## Background Information\n",
    "In a Stroop task, participants are presented with a list of words, with each word displayed in a\n",
    "color of ink. The participant’s task is to say out loud the color of the ink in which the word is\n",
    "printed. The task has two conditions: a congruent words condition, and an incongruent words\n",
    "condition. In the congruent words condition, the words being displayed are color words whose\n",
    "names match the colors in which they are printed: for example RED, BLUE. In the incongruent\n",
    "words condition, the words displayed are color words whose names do not match the colors in\n",
    "which they are printed: for example PURPLE, ORANGE. In each case, we measure the time it\n",
    "takes to name the ink colors in equally­sized lists. Each participant will go through and record a\n",
    "time from each condition.\n",
    "\n",
    "ref:https://en.wikipedia.org/wiki/Stroop_effect"
   ]
  },
  {
   "cell_type": "markdown",
   "metadata": {},
   "source": [
    " <script type=\"text/javascript\" src=\"http://cdn.mathjax.org/mathjax/latest/MathJax.js?config=default\"></script>\n",
    "## Quentions & Answers\n",
    "#### 1. What is our independent variable? What is our dependent variable?  \n",
    "Independent variable is the condition, a congruent words condition or an incongruent words condition.  \n",
    "Dependent variable is the time token to name the ink colors in equally-sized lists.  \n",
    "#### 2.1 What is an appropriate set of hypotheses for this task?\n",
    "\\\\(μ_d = μ_c - μ_i\\\\)  \n",
    "H0: \\\\(μ_d = 0\\\\)   \n",
    "HA: \\\\(μ_d \\neq 0 \\\\)  \n",
    "The null hypothesis is that there is no difference between the time token to name the ink colors in a congruent words condition and an incongruent words condition.  \n",
    "The alternative hypothesis is that the time token to name the ink colors in a congruent words is different from an incongruent word condition.\n",
    "#### 2.2 What kind of statistical test do you expect to perform? Justify your choices.\n",
    "I’d like to perform a two-tail t-test, α= 0.05, I don’t know the μ, σ of the population, z-test can not works. Besides, I get a pair of dependent sample. A t-test can tell whether there is a difference or not.\n",
    "#### 3. Report some descriptive statistics regarding this dataset. Include at least one measure of central tendency and at least one measure of variability."
   ]
  },
  {
   "cell_type": "code",
   "execution_count": 92,
   "metadata": {
    "collapsed": false
   },
   "outputs": [
    {
     "data": {
      "text/html": [
       "<div>\n",
       "<table border=\"1\" class=\"dataframe\">\n",
       "  <thead>\n",
       "    <tr style=\"text-align: right;\">\n",
       "      <th></th>\n",
       "      <th>Congruent</th>\n",
       "      <th>Incongruent</th>\n",
       "      <th>Difference</th>\n",
       "    </tr>\n",
       "  </thead>\n",
       "  <tbody>\n",
       "    <tr>\n",
       "      <th>0</th>\n",
       "      <td>12.079</td>\n",
       "      <td>19.278</td>\n",
       "      <td>-7.199</td>\n",
       "    </tr>\n",
       "    <tr>\n",
       "      <th>1</th>\n",
       "      <td>16.791</td>\n",
       "      <td>18.741</td>\n",
       "      <td>-1.950</td>\n",
       "    </tr>\n",
       "    <tr>\n",
       "      <th>2</th>\n",
       "      <td>9.564</td>\n",
       "      <td>21.214</td>\n",
       "      <td>-11.650</td>\n",
       "    </tr>\n",
       "    <tr>\n",
       "      <th>3</th>\n",
       "      <td>8.630</td>\n",
       "      <td>15.687</td>\n",
       "      <td>-7.057</td>\n",
       "    </tr>\n",
       "    <tr>\n",
       "      <th>4</th>\n",
       "      <td>14.669</td>\n",
       "      <td>22.803</td>\n",
       "      <td>-8.134</td>\n",
       "    </tr>\n",
       "    <tr>\n",
       "      <th>5</th>\n",
       "      <td>12.238</td>\n",
       "      <td>20.878</td>\n",
       "      <td>-8.640</td>\n",
       "    </tr>\n",
       "    <tr>\n",
       "      <th>6</th>\n",
       "      <td>14.692</td>\n",
       "      <td>24.572</td>\n",
       "      <td>-9.880</td>\n",
       "    </tr>\n",
       "    <tr>\n",
       "      <th>7</th>\n",
       "      <td>8.987</td>\n",
       "      <td>17.394</td>\n",
       "      <td>-8.407</td>\n",
       "    </tr>\n",
       "    <tr>\n",
       "      <th>8</th>\n",
       "      <td>9.401</td>\n",
       "      <td>20.762</td>\n",
       "      <td>-11.361</td>\n",
       "    </tr>\n",
       "    <tr>\n",
       "      <th>9</th>\n",
       "      <td>14.480</td>\n",
       "      <td>26.282</td>\n",
       "      <td>-11.802</td>\n",
       "    </tr>\n",
       "  </tbody>\n",
       "</table>\n",
       "</div>"
      ],
      "text/plain": [
       "   Congruent  Incongruent  Difference\n",
       "0     12.079       19.278      -7.199\n",
       "1     16.791       18.741      -1.950\n",
       "2      9.564       21.214     -11.650\n",
       "3      8.630       15.687      -7.057\n",
       "4     14.669       22.803      -8.134\n",
       "5     12.238       20.878      -8.640\n",
       "6     14.692       24.572      -9.880\n",
       "7      8.987       17.394      -8.407\n",
       "8      9.401       20.762     -11.361\n",
       "9     14.480       26.282     -11.802"
      ]
     },
     "execution_count": 92,
     "metadata": {},
     "output_type": "execute_result"
    }
   ],
   "source": [
    "import pandas as pd\n",
    "stroopdata = pd.read_csv('stroopdata.csv')\n",
    "stroopdata['Difference'] = stroopdata['Congruent']-stroopdata['Incongruent']\n",
    "stroopdata.head(10)"
   ]
  },
  {
   "cell_type": "code",
   "execution_count": 13,
   "metadata": {
    "collapsed": false
   },
   "outputs": [
    {
     "data": {
      "text/html": [
       "<div>\n",
       "<table border=\"1\" class=\"dataframe\">\n",
       "  <thead>\n",
       "    <tr style=\"text-align: right;\">\n",
       "      <th></th>\n",
       "      <th>Congruent</th>\n",
       "      <th>Incongruent</th>\n",
       "      <th>Difference</th>\n",
       "    </tr>\n",
       "  </thead>\n",
       "  <tbody>\n",
       "    <tr>\n",
       "      <th>count</th>\n",
       "      <td>24.000000</td>\n",
       "      <td>24.000000</td>\n",
       "      <td>24.000000</td>\n",
       "    </tr>\n",
       "    <tr>\n",
       "      <th>mean</th>\n",
       "      <td>14.051125</td>\n",
       "      <td>22.015917</td>\n",
       "      <td>-7.964792</td>\n",
       "    </tr>\n",
       "    <tr>\n",
       "      <th>std</th>\n",
       "      <td>3.559358</td>\n",
       "      <td>4.797057</td>\n",
       "      <td>4.864827</td>\n",
       "    </tr>\n",
       "    <tr>\n",
       "      <th>min</th>\n",
       "      <td>8.630000</td>\n",
       "      <td>15.687000</td>\n",
       "      <td>-21.919000</td>\n",
       "    </tr>\n",
       "    <tr>\n",
       "      <th>25%</th>\n",
       "      <td>11.895250</td>\n",
       "      <td>18.716750</td>\n",
       "      <td>-10.258500</td>\n",
       "    </tr>\n",
       "    <tr>\n",
       "      <th>50%</th>\n",
       "      <td>14.356500</td>\n",
       "      <td>21.017500</td>\n",
       "      <td>-7.666500</td>\n",
       "    </tr>\n",
       "    <tr>\n",
       "      <th>75%</th>\n",
       "      <td>16.200750</td>\n",
       "      <td>24.051500</td>\n",
       "      <td>-3.645500</td>\n",
       "    </tr>\n",
       "    <tr>\n",
       "      <th>max</th>\n",
       "      <td>22.328000</td>\n",
       "      <td>35.255000</td>\n",
       "      <td>-1.950000</td>\n",
       "    </tr>\n",
       "  </tbody>\n",
       "</table>\n",
       "</div>"
      ],
      "text/plain": [
       "       Congruent  Incongruent  Difference\n",
       "count  24.000000    24.000000   24.000000\n",
       "mean   14.051125    22.015917   -7.964792\n",
       "std     3.559358     4.797057    4.864827\n",
       "min     8.630000    15.687000  -21.919000\n",
       "25%    11.895250    18.716750  -10.258500\n",
       "50%    14.356500    21.017500   -7.666500\n",
       "75%    16.200750    24.051500   -3.645500\n",
       "max    22.328000    35.255000   -1.950000"
      ]
     },
     "execution_count": 13,
     "metadata": {},
     "output_type": "execute_result"
    }
   ],
   "source": [
    "stroopdata.describe()"
   ]
  },
  {
   "cell_type": "markdown",
   "metadata": {},
   "source": [
    "std for each sample is corrected.  \n",
    "ref:http://pandas.pydata.org/pandas-docs/version/0.17.0/generated/pandas.DataFrame.std.html\n",
    "    https://en.wikipedia.org/wiki/Unbiased_estimation_of_standard_deviation"
   ]
  },
  {
   "cell_type": "markdown",
   "metadata": {},
   "source": [
    "#### 4. Provide one or two visualizations that show the distribution of the sample data. Write one or two sentences noting what you observe about the plot or plots."
   ]
  },
  {
   "cell_type": "code",
   "execution_count": 91,
   "metadata": {
    "collapsed": false
   },
   "outputs": [
    {
     "data": {
      "image/png": "[encoded data removed]",
      "text/plain": [
       "<matplotlib.figure.Figure at 0x127a02610>"
      ]
     },
     "metadata": {},
     "output_type": "display_data"
    },
    {
     "data": {
      "image/png": "[encoded data removed]",
      "text/plain": [
       "<matplotlib.figure.Figure at 0x127abca50>"
      ]
     },
     "metadata": {},
     "output_type": "display_data"
    }
   ],
   "source": [
    "%matplotlib inline\n",
    "import seaborn as sns\n",
    "import matplotlib.pyplot as plt\n",
    "import numpy as np\n",
    "plt.style.use('fivethirtyeight')\n",
    "Congruent = stroopdata['Congruent']\n",
    "Incongruent = stroopdata['Incongruent']\n",
    "plt.hist(Congruent, bins=17, range=(0,40), normed=True,label ='Congruent' ,color=\"#FF0000\", alpha=.8)\n",
    "plt.hist(Incongruent, bins=17, range=(0,40) ,normed=True,label ='Incongruent', color=\"#C1F320\", alpha=.5)\n",
    "plt.legend(loc='upper right')\n",
    "plt.xlabel('Stroop task time in seconds')\n",
    "plt.ylabel('Frequency')\n",
    "plt.title('Distribution of Stroop Task times')\n",
    "plt.show()\n",
    "plt.close()\n",
    "\n",
    "Dif = stroopdata['Difference']\n",
    "plt.hist(Dif,bins=20 ,alpha=0.5, color='green',label='Difference')\n",
    "sns.rugplot(Dif,color ='yellow')\n",
    "plt.xlabel('Difference between Two conditions')\n",
    "plt.ylabel('Frequency')\n",
    "plt.legend(loc ='upper left')\n",
    "plt.title('Distribution of Difference')\n",
    "plt.show()\n",
    "plt.close()"
   ]
  },
  {
   "cell_type": "markdown",
   "metadata": {},
   "source": [
    "1. The first plot desribes the histograms of two samples in congruent and incongruent conditions respectively. And the orange area represents these overlap sample points. Although there is overlap, the second group data is greater than the first group data ,on the whole.  \n",
    "2. The second plot describe the distribution of the difference. Abviouly, the sample point in the congruent condition  is always less than the incongruent condition. And the difference  mainly lies in the range of minus twelve to minus two."
   ]
  },
  {
   "cell_type": "markdown",
   "metadata": {},
   "source": [
    "#### 5. Now, perform the statistical test and report your results. What is your confidence level and your critical statistic value? Do you reject the null hypothesis or fail to reject it? Come to a conclusion in terms of the experiment task. Did the results match up with your expectations?\n",
    "Confidence level: 95%  \n",
    "Critical statistic value: ±2.07  \n",
    "T-test statistic: -8.02  \n",
    "P-value: less than 0.0001  \n",
    "As the t-test statistic is less than -2.069 and p-value is less than 0.0001, we can reject the null hypothesis, which exactly matches up my expectations.\n"
   ]
  },
  {
   "cell_type": "markdown",
   "metadata": {},
   "source": [
    "#### 6.1 Optional: What do you think is responsible for the effects observed?\n",
    "In my opinion, we practice much more in reading words than naming the color in our daily life, which means that reading words is much more automatical and faster.\n",
    "ref:https://en.wikipedia.org/wiki/Stroop_effect\n",
    "#### 6.2 Optional:Can you think of analternative or similar task that would result in a similar effect?\n",
    "Give Bilingual people some pictures about animals,and ask them to name these animals. Peopel usually will use the language they are more familar with.\n"
   ]
  }
 ],
 "metadata": {
  "kernelspec": {
   "display_name": "Python 2",
   "language": "python",
   "name": "python2"
  },
  "language_info": {
   "codemirror_mode": {
    "name": "ipython",
    "version": 2
   },
   "file_extension": ".py",
   "mimetype": "text/x-python",
   "name": "python",
   "nbconvert_exporter": "python",
   "pygments_lexer": "ipython2",
   "version": "2.7.12"
  }
 },
 "nbformat": 4,
 "nbformat_minor": 0
}
