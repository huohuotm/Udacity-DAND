{
 "cells": [
  {
   "cell_type": "code",
   "execution_count": 27,
   "metadata": {
    "collapsed": false
   },
   "outputs": [
    {
     "name": "stdout",
     "output_type": "stream",
     "text": [
      "/Users/weidian1/Documents/GitHub/Udacity-DAND/P5-Intro to ML/Project5/final_project\n"
     ]
    }
   ],
   "source": [
    "import os\n",
    "print os.getcwd()"
   ]
  },
  {
   "cell_type": "code",
   "execution_count": 260,
   "metadata": {
    "collapsed": false
   },
   "outputs": [],
   "source": [
    "#!/usr/bin/python\n",
    "\n",
    "import sys\n",
    "import pickle\n",
    "sys.path.append(\"../tools/\")\n",
    "#sys.path.append(\"../pylof-master/\")\n",
    "\n",
    "from feature_format import featureFormat, targetFeatureSplit\n",
    "from tester import dump_classifier_and_data\n",
    "\n",
    "### Task 1: Select what features you'll use.\n",
    "### features_list is a list of strings, each of which is a feature name.\n",
    "### The first feature must be \"poi\".\n",
    "#features_list = ['poi','salary',''] # You will need to use more features\n",
    "\n",
    "### Load the dictionary containing the dataset\n",
    "with open(\"final_project_dataset.pkl\", \"r\") as data_file:\n",
    "    data_dict = pickle.load(data_file)\n"
   ]
  },
  {
   "cell_type": "markdown",
   "metadata": {},
   "source": [
    "## 数据探索"
   ]
  },
  {
   "cell_type": "code",
   "execution_count": 261,
   "metadata": {
    "collapsed": false
   },
   "outputs": [
    {
     "name": "stdout",
     "output_type": "stream",
     "text": [
      "Total number of data points:  145\n",
      "Number of POI: 18, no. of non-POI: 127\n",
      "Number of features used:  21\n"
     ]
    }
   ],
   "source": [
    "# 异常值， 去掉total\n",
    "def remove_outerliers(data_dict,names):\n",
    "    for name in names:\n",
    "        data_dict.pop(name, 0)\n",
    "    return data_dict\n",
    "\n",
    "def dateset_summary(data_dic):\n",
    "    n_poi,n_non_poi = 0,0\n",
    "    for key in data_dict.keys():\n",
    "        if data_dict[key]['poi']==1:\n",
    "            n_poi+=1\n",
    "        else:\n",
    "            n_non_poi+=1        \n",
    "    print \"Total number of data points: \", len(data_dict)\n",
    "    print \"Number of POI: %d, no. of non-POI: %d\"% (n_poi, n_non_poi)\n",
    "    print \"Number of features used: \",len(data_dict['METTS MARK']) # randomly pick one name, get the number of features.\n",
    "\n",
    "outliers_names = ['TOTAL']#,'LAVORATO JOHN J'\n",
    "\n",
    "data_dict = remove_outerliers(data_dict,outliers_names)\n",
    "dateset_summary(dateset_summary)"
   ]
  },
  {
   "cell_type": "code",
   "execution_count": 30,
   "metadata": {
    "collapsed": false
   },
   "outputs": [
    {
     "ename": "NameError",
     "evalue": "name 'data_df' is not defined",
     "output_type": "error",
     "traceback": [
      "\u001b[0;31m---------------------------------------------------------------------------\u001b[0m",
      "\u001b[0;31mNameError\u001b[0m                                 Traceback (most recent call last)",
      "\u001b[0;32m<ipython-input-30-7e19ab192b26>\u001b[0m in \u001b[0;36m<module>\u001b[0;34m()\u001b[0m\n\u001b[0;32m----> 1\u001b[0;31m \u001b[0;32mprint\u001b[0m \u001b[0mdata_df\u001b[0m\u001b[0;34m[\u001b[0m\u001b[0memail_fatures\u001b[0m\u001b[0;34m]\u001b[0m\u001b[0;34m.\u001b[0m\u001b[0mapply\u001b[0m\u001b[0;34m(\u001b[0m\u001b[0mNaNs_to_None\u001b[0m\u001b[0;34m,\u001b[0m \u001b[0maxis\u001b[0m\u001b[0;34m=\u001b[0m\u001b[0;36m0\u001b[0m\u001b[0;34m)\u001b[0m\u001b[0;34m.\u001b[0m\u001b[0mdescribe\u001b[0m\u001b[0;34m(\u001b[0m\u001b[0;34m)\u001b[0m\u001b[0;34m\u001b[0m\u001b[0m\n\u001b[0m",
      "\u001b[0;31mNameError\u001b[0m: name 'data_df' is not defined"
     ]
    }
   ],
   "source": [
    "print data_df[email_fatures].apply(NaNs_to_None, axis=0).describe()"
   ]
  },
  {
   "cell_type": "code",
   "execution_count": 262,
   "metadata": {
    "collapsed": false
   },
   "outputs": [
    {
     "name": "stdout",
     "output_type": "stream",
     "text": [
      "salary                        0\n",
      "to_messages                  59\n",
      "deferral_payments             0\n",
      "total_payments                0\n",
      "exercised_stock_options       0\n",
      "bonus                         0\n",
      "restricted_stock              0\n",
      "shared_receipt_with_poi      59\n",
      "restricted_stock_deferred     0\n",
      "total_stock_value             0\n",
      "expenses                      0\n",
      "loan_advances                 0\n",
      "from_messages                59\n",
      "other                         0\n",
      "from_this_person_to_poi      59\n",
      "poi                           0\n",
      "director_fees                 0\n",
      "deferred_income               0\n",
      "long_term_incentive           0\n",
      "email_address                34\n",
      "from_poi_to_this_person      59\n",
      "dtype: int64\n"
     ]
    }
   ],
   "source": [
    "import pandas as pd\n",
    "import numpy as np\n",
    "\n",
    "data_df = pd.DataFrame.from_dict(data_dict,orient='index')\n",
    "\n",
    "financial_features = ['salary', 'deferral_payments', 'total_payments', 'loan_advances', 'bonus'\n",
    "                 , 'restricted_stock_deferred', 'deferred_income', 'total_stock_value', 'expenses'\n",
    "                 , 'exercised_stock_options', 'other', 'long_term_incentive', 'restricted_stock'\n",
    "                 , 'director_fees']\n",
    "email_fatures = ['to_messages','from_poi_to_this_person', 'from_messages', 'from_this_person_to_poi'\n",
    "                 , 'shared_receipt_with_poi']  # remove 'email_address'\n",
    "def NaNs_to_0s(col):\n",
    "    return [0 if ele=='NaN' else ele for ele in col]\n",
    "\n",
    "def NaNs_to_None(col):\n",
    "    return [None if ele=='NaN' else ele for ele in col]\n",
    "\n",
    "def count_NAN(col):\n",
    "    return sum(1 for ele in col if ele == 'NaN')\n",
    "\n",
    "data_df[financial_features] = data_df[financial_features].apply(NaNs_to_0s, axis=0)\n",
    "data_df['poi'] = data_df['poi'].astype(int)\n",
    "print data_df.apply(count_NAN, axis=0)   "
   ]
  },
  {
   "cell_type": "markdown",
   "metadata": {},
   "source": [
    "## plot"
   ]
  },
  {
   "cell_type": "code",
   "execution_count": 154,
   "metadata": {
    "collapsed": false
   },
   "outputs": [
    {
     "data": {
      "text/plain": [
       "<matplotlib.axes._subplots.AxesSubplot at 0x11bc7fdd0>"
      ]
     },
     "execution_count": 154,
     "metadata": {},
     "output_type": "execute_result"
    },
    {
     "data": {
      "image/png": "[encoded data removed]",
      "text/plain": [
       "<matplotlib.figure.Figure at 0x11bcb1c10>"
      ]
     },
     "metadata": {},
     "output_type": "display_data"
    }
   ],
   "source": [
    "%matplotlib inline\n",
    "data_df.boxplot('bonus', by='poi')"
   ]
  },
  {
   "cell_type": "markdown",
   "metadata": {},
   "source": [
    "## add new features"
   ]
  },
  {
   "cell_type": "code",
   "execution_count": 246,
   "metadata": {
    "collapsed": false
   },
   "outputs": [],
   "source": [
    "\"\"\"\n",
    "make new feature \n",
    "1. 'email_features_miss': if email_features is missing. next step, missing email_features will be\n",
    "transformed to 0, which should by different from missing financial features.   \n",
    "2. poi_rate_to_messages = from_this_person_to_poi/to_messages  \n",
    "3. poi_rate_from_messages = from_poi_to_this_person/from_messages\n",
    "\n",
    "\"\"\"\n",
    "data_df['email_features_miss'] = data_df.apply(lambda x: 1 if x[\"to_messages\"]=='NaN' else 0, axis = 1)\n",
    "\n",
    "data_df['poi_rate_to_messages'] = data_df.apply(lambda x: 0 if x['from_this_person_to_poi']=='NaN' \\\n",
    "                                                else x['from_this_person_to_poi']*1.0/x['to_messages'], axis=1)\n",
    "\n",
    "data_df['poi_rate_from_messages'] = data_df.apply(lambda x: 0 if x['from_poi_to_this_person']=='NaN'\\\n",
    "                                                  else x['from_poi_to_this_person']*1.0/x['from_messages'], axis =1)\n",
    "\n",
    "\n",
    "\n",
    "    "
   ]
  },
  {
   "cell_type": "code",
   "execution_count": 263,
   "metadata": {
    "collapsed": false
   },
   "outputs": [
    {
     "name": "stdout",
     "output_type": "stream",
     "text": [
      "(145, 21)\n",
      "['salary' 'to_messages' 'deferral_payments' 'total_payments'\n",
      " 'exercised_stock_options' 'bonus' 'restricted_stock'\n",
      " 'shared_receipt_with_poi' 'restricted_stock_deferred' 'total_stock_value'\n",
      " 'expenses' 'loan_advances' 'from_messages' 'other'\n",
      " 'from_this_person_to_poi' 'poi' 'director_fees' 'deferred_income'\n",
      " 'long_term_incentive' 'email_address' 'from_poi_to_this_person']\n"
     ]
    }
   ],
   "source": [
    "print data_df.shape#columns.values; 24个变量\n",
    "print data_df.columns.values"
   ]
  },
  {
   "cell_type": "markdown",
   "metadata": {},
   "source": [
    "## 这些新变量不要了"
   ]
  },
  {
   "cell_type": "code",
   "execution_count": 156,
   "metadata": {
    "collapsed": false
   },
   "outputs": [],
   "source": [
    "\"\"\"create new features\n",
    "\"\"\"\n",
    "def get_new(col,p):\n",
    "    return (data_df[col].apply(abs)/(10**(p-1))%10).astype(int)\n",
    "def over_zero(ele):\n",
    "    if ele>0:\n",
    "        return 1\n",
    "    return 0\n",
    "\n",
    "def add_new_features(df):\n",
    "    df[\"bonus_over_zero\"] = df['bonus'].apply(over_zero)\n",
    "    df[\"bonus_six\"] = get_new(\"bonus\",6)\n",
    "    df[\"bonus_seven\"] = get_new(\"bonus\",7)\n",
    "    \n",
    "    df[\"expenses_over_zero\"] = df[\"expenses\"].apply(over_zero)\n",
    "    df[\"expenses_five\"] = get_new(\"expenses\",5)\n",
    "    df[\"expenses_six\"] = get_new(\"expenses\",6)\n",
    "    \n",
    "    df[\"exercised_stock_options_over_zero\"] = df[\"exercised_stock_options\"].apply(over_zero)\n",
    "    df[\"exercised_stock_options_six\"] = get_new(\"exercised_stock_options\",6)\n",
    "    df[\"exercised_stock_options_seven\"] = get_new(\"exercised_stock_options\",7)\n",
    "    df[\"exercised_stock_options_eight\"] = get_new(\"exercised_stock_options\",8)\n",
    "    \n",
    "    df[\"salary_over_zero\"] = df[\"salary\"].apply(over_zero)\n",
    "    df[\"salary_six\"] = get_new(\"salary\",6)\n",
    "    df[\"salary_seven\"] = get_new(\"salary\",7)\n",
    "    \n",
    "    df[\"restricted_stock_over_zero\"] = df[\"restricted_stock\"].apply(over_zero)\n",
    "    df[\"restricted_stock_six\"] = get_new(\"restricted_stock\",6)\n",
    "    df[\"restricted_stock_seven\"] = get_new(\"restricted_stock\",7)\n",
    "    df[\"restricted_stock_eight\"] = get_new(\"restricted_stock\",8)\n",
    "    \n",
    "    df[\"deferred_income_over_zero\"] = df[\"deferred_income\"].apply(over_zero)\n",
    "    df[\"deferred_income_five\"] = get_new(\"deferred_income\",5)\n",
    "    df[\"deferred_income_six\"] = get_new(\"deferred_income\",6)\n",
    "    df[\"deferred_income_seven\"] = get_new(\"deferred_income\",7)\n",
    "    \n",
    "    df[\"other_over_zero\"] = df[\"other\"].apply(over_zero)\n",
    "    df[\"other_six\"] = get_new(\"other\",6)\n",
    "    df[\"other_seven\"] = get_new(\"other\",7)\n",
    "    df[\"other_eight\"] = get_new(\"other\",8)\n",
    "    return df\n",
    "\n",
    "data_df = add_new_features(data_df)"
   ]
  },
  {
   "cell_type": "markdown",
   "metadata": {},
   "source": [
    "## get mydata(dic)"
   ]
  },
  {
   "cell_type": "code",
   "execution_count": 264,
   "metadata": {
    "collapsed": false
   },
   "outputs": [
    {
     "name": "stdout",
     "output_type": "stream",
     "text": [
      "20 full_columns_name: ['poi', 'salary', 'to_messages', 'deferral_payments', 'total_payments', 'exercised_stock_options', 'bonus', 'restricted_stock', 'shared_receipt_with_poi', 'restricted_stock_deferred', 'total_stock_value', 'expenses', 'loan_advances', 'from_messages', 'other', 'from_this_person_to_poi', 'director_fees', 'deferred_income', 'long_term_incentive', 'from_poi_to_this_person']\n"
     ]
    }
   ],
   "source": [
    "features_full_list = list(data_df.columns.values)\n",
    "features_full_list.remove('email_address')\n",
    "features_full_list.remove('poi')\n",
    "features_full_list = ['poi'] +features_full_list\n",
    "data_full_dic = data_df.to_dict(orient='index')\n",
    "print (\"%d full_columns_name: %s\" % (len(features_full_list), features_full_list))\n",
    "\n",
    "#def get_train_test_dataset(my_dataset,features_list):\n",
    "#    #Extract features and labels from dataset for local testing\n",
    "#    data = featureFormat(my_dataset, features_list, sort_keys = True)\n",
    "#    labels, features = targetFeatureSplit(data)\n",
    "#    # TODO: Shuffle the data\n",
    "#    from sklearn.utils import shuffle\n",
    "#    features, labels = shuffle(features, labels, random_state=1)\n",
    "#    \n",
    "#    # split train test dataset\n",
    "#    from sklearn.model_selection import train_test_split\n",
    "#    X_train, X_test, y_train, y_test = train_test_split(features, labels, test_size=0.3, random_state=42)\n",
    "#    X_train = np.array(X_train)\n",
    "#    y_train = np.array(y_train)\n",
    "#    X_test = np.array(X_test)\n",
    "#    y_test = np.array(y_test)\n",
    "#    \n",
    "#    return X_train, X_test, y_train, y_test\n",
    "#    \n",
    "#X_train, X_test, y_train, y_test = get_train_test_dataset(data_full_dic,features_full_list)  \n",
    "    \n",
    "def get_features_labels(my_dataset,features_list):\n",
    "    #Extract features and labels from dataset for local testing\n",
    "    data = featureFormat(my_dataset, features_list, sort_keys = True)\n",
    "    labels, features = targetFeatureSplit(data)\n",
    "    # TODO: Shuffle the data\n",
    "    from sklearn.utils import shuffle\n",
    "    features, labels = shuffle(features, labels, random_state=1)\n",
    "    features = np.array(features)\n",
    "    labels = np.array(labels)\n",
    "    return features, labels\n",
    "\n",
    "def get_train_test_dataset(features, labels):\n",
    "    from sklearn.model_selection import train_test_split\n",
    "    X_train, X_test, y_train, y_test = train_test_split(features, labels, test_size=0.3, random_state=42)\n",
    "    X_train = np.array(X_train)\n",
    "    y_train = np.array(y_train)\n",
    "    X_test = np.array(X_test)\n",
    "    y_test = np.array(y_test)\n",
    "    return X_train, X_test, y_train, y_test\n",
    "  \n",
    "features, labels = get_features_labels(data_full_dic,features_full_list)\n",
    "X_train, X_test, y_train, y_test = get_train_test_dataset(features, labels)"
   ]
  },
  {
   "cell_type": "markdown",
   "metadata": {},
   "source": [
    "## scaler"
   ]
  },
  {
   "cell_type": "code",
   "execution_count": 276,
   "metadata": {
    "collapsed": false
   },
   "outputs": [],
   "source": [
    "from sklearn.preprocessing import MinMaxScaler\n",
    "\n",
    "min_max_scaler = MinMaxScaler(feature_range=(0, 1))\n",
    "X_train_scaled = min_max_scaler.fit_transform(X_train)\n",
    "X_test_scaled = min_max_scaler.transform(X_test)"
   ]
  },
  {
   "cell_type": "markdown",
   "metadata": {},
   "source": [
    "## select features"
   ]
  },
  {
   "cell_type": "code",
   "execution_count": 347,
   "metadata": {
    "collapsed": false
   },
   "outputs": [],
   "source": [
    "\"\"\"\n",
    "select important features \n",
    "\"\"\"\n",
    "def select_features(X_train,y_train,X_test, method='tree',k=None):\n",
    "    from sklearn.utils import shuffle\n",
    "    X_train, y_train = shuffle(X_train, y_train, random_state=0)\n",
    "    if method == 'tree':\n",
    "        \n",
    "        from sklearn.ensemble import ExtraTreesClassifier\n",
    "        from sklearn.feature_selection import SelectFromModel   \n",
    "\n",
    "        selection_tree = ExtraTreesClassifier(random_state=32)\n",
    "        selection_tree = selection_tree.fit(X_train, y_train)\n",
    "\n",
    "        model_tree = SelectFromModel(selection_tree, prefit=True)\n",
    "        X_train_new = model_tree.transform(X_train)\n",
    "        X_test_new = model_tree.transform(X_test)\n",
    "        \n",
    "        print \"shape of X_train: \", X_train.shape\n",
    "        print \"shape of X_train_new: \", X_train_new.shape    \n",
    "        return selection_tree,X_train_new,X_test_new\n",
    "    \n",
    "    elif method == 'kbest' and k:\n",
    "        from sklearn.feature_selection import SelectKBest\n",
    "        from sklearn.feature_selection import f_classif\n",
    "\n",
    "        selection_k= SelectKBest(f_classif, k=k).fit(X_train, y_train)\n",
    "        X_train_new = selection_k.transform(X_train)\n",
    "        X_test_new = selection_k.transform(X_test)\n",
    "        print \"shape of X_train: \", X_train.shape\n",
    "        print \"shape of X_train_new: \", X_train_new.shape   \n",
    "        return selection_k,X_train_new,X_test_new\n",
    "        \n",
    "    \n",
    "\n",
    "\n"
   ]
  },
  {
   "cell_type": "code",
   "execution_count": 348,
   "metadata": {
    "collapsed": false
   },
   "outputs": [],
   "source": [
    "#selection_tree,X_train_new,X_test_new = select_features(X_train_scaled,y_train,X_test_scaled)\n",
    "X_train_new,X_test_new = X_train_scaled,X_test_scaled"
   ]
  },
  {
   "cell_type": "code",
   "execution_count": 10,
   "metadata": {
    "collapsed": false
   },
   "outputs": [
    {
     "name": "stdout",
     "output_type": "stream",
     "text": [
      "shape of X_train:  (101, 22)\n",
      "shape of X_train_new:  (101, 10)\n"
     ]
    }
   ],
   "source": [
    "selection_k,X_train_new,X_test_new = select_features(X_train_scaled,y_train,X_test_scaled,method='kbest',k=10)"
   ]
  },
  {
   "cell_type": "markdown",
   "metadata": {},
   "source": [
    "## train algorithm"
   ]
  },
  {
   "cell_type": "code",
   "execution_count": 346,
   "metadata": {
    "collapsed": true
   },
   "outputs": [],
   "source": [
    "from sklearn.naive_bayes import GaussianNB\n",
    "from sklearn.svm import SVC\n",
    "from sklearn import tree\n",
    "from sklearn.ensemble import RandomForestClassifier\n",
    "def train_model(classifier,features_train,labels_train,features_test):\n",
    "    clf = classifier\n",
    "    clf.fit(features_train, labels_train)\n",
    "    labels_pred = clf.predict(features_test)\n",
    "    return clf,labels_pred"
   ]
  },
  {
   "cell_type": "markdown",
   "metadata": {},
   "source": [
    "## evaluation metrics"
   ]
  },
  {
   "cell_type": "code",
   "execution_count": 38,
   "metadata": {
    "collapsed": true
   },
   "outputs": [],
   "source": [
    "def evaluation_metric(labels_test,labels_pred):\n",
    "    from sklearn.metrics import recall_score\n",
    "    from sklearn.metrics import precision_score\n",
    "    from sklearn.metrics import f1_score\n",
    "    \n",
    "    print \"recall_score: \",recall_score(y_test, labels_pred)\n",
    "    print \"precision_score: \",precision_score(labels_test, labels_pred)  \n",
    "    print \"f1_score: \",f1_score(labels_test, labels_pred)  \n",
    "  "
   ]
  },
  {
   "cell_type": "markdown",
   "metadata": {},
   "source": [
    "### 用tree 的到的features，建模，问题\n",
    "navie bayers 和 decision tree 完全反的;    \n",
    "SVM，randomforest 出现no TP"
   ]
  },
  {
   "cell_type": "code",
   "execution_count": 362,
   "metadata": {
    "collapsed": false
   },
   "outputs": [
    {
     "name": "stdout",
     "output_type": "stream",
     "text": [
      "recall_score:  0.444444444444\n",
      "precision_score:  0.5\n",
      "f1_score:  0.470588235294\n"
     ]
    }
   ],
   "source": [
    "# naive bayers\n",
    "clf_nb,y_pred_nb = train_model(GaussianNB(),X_train,y_train,X_test)\n",
    "evaluation_metric(y_test,y_pred_nb)"
   ]
  },
  {
   "cell_type": "code",
   "execution_count": 361,
   "metadata": {
    "collapsed": false
   },
   "outputs": [
    {
     "name": "stdout",
     "output_type": "stream",
     "text": [
      "recall_score:  0.666666666667\n",
      "precision_score:  0.214285714286\n",
      "f1_score:  0.324324324324\n"
     ]
    }
   ],
   "source": [
    "clf_nb,y_pred_nb = train_model(GaussianNB(),X_train_scaled,y_train,X_test_scaled)\n",
    "evaluation_metric(y_test,y_pred_nb)\n"
   ]
  },
  {
   "cell_type": "code",
   "execution_count": 357,
   "metadata": {
    "collapsed": false
   },
   "outputs": [
    {
     "name": "stdout",
     "output_type": "stream",
     "text": [
      "recall_score:  0.0\n",
      "precision_score:  0.0\n",
      "f1_score:  0.0\n"
     ]
    }
   ],
   "source": [
    "#svm\n",
    "clf_svm,y_pred_svm = train_model(SVC(),X_train_new,y_train,X_test_new)\n",
    "evaluation_metric(y_test,y_pred_svm)"
   ]
  },
  {
   "cell_type": "code",
   "execution_count": 355,
   "metadata": {
    "collapsed": false
   },
   "outputs": [
    {
     "name": "stdout",
     "output_type": "stream",
     "text": [
      "recall_score:  0.111111111111\n",
      "precision_score:  0.25\n",
      "f1_score:  0.153846153846\n"
     ]
    }
   ],
   "source": [
    "# decision tree\n",
    "clf_dtree,y_pred_stree = train_model(tree.DecisionTreeClassifier(),X_train_new,y_train,X_test_new)\n",
    "evaluation_metric(y_test,y_pred_stree)"
   ]
  },
  {
   "cell_type": "code",
   "execution_count": 352,
   "metadata": {
    "collapsed": false
   },
   "outputs": [
    {
     "name": "stdout",
     "output_type": "stream",
     "text": [
      "recall_score:  0.0\n",
      "precision_score:  0.0\n",
      "f1_score:  0.0\n"
     ]
    }
   ],
   "source": [
    "# random forest\n",
    "\n",
    "clf_froest,y_pred_forest = train_model(RandomForestClassifier(n_estimators=10),X_train_new,y_train,X_test_new)\n",
    "evaluation_metric(y_test,y_pred_forest)"
   ]
  },
  {
   "cell_type": "markdown",
   "metadata": {},
   "source": [
    "## Kbest "
   ]
  },
  {
   "cell_type": "code",
   "execution_count": 215,
   "metadata": {
    "collapsed": false
   },
   "outputs": [
    {
     "name": "stdout",
     "output_type": "stream",
     "text": [
      "recall_score:  0.666666666667\n",
      "precision_score:  0.285714285714\n",
      "f1_score:  0.4\n"
     ]
    }
   ],
   "source": [
    "# naive bayers\n",
    "clf_nb,y_pred_nb = train_model(GaussianNB(),X_train_new,y_train,X_test_new)\n",
    "evaluation_metric(y_test,y_pred_nb)"
   ]
  },
  {
   "cell_type": "code",
   "execution_count": 216,
   "metadata": {
    "collapsed": false
   },
   "outputs": [
    {
     "name": "stdout",
     "output_type": "stream",
     "text": [
      "recall_score:  0.0\n",
      "precision_score:  0.0\n",
      "f1_score:  0.0\n"
     ]
    }
   ],
   "source": [
    "#svm\n",
    "clf_svm,y_pred_svm = train_model(SVC(),X_train_new,y_train,X_test_new)\n",
    "evaluation_metric(y_test,y_pred_svm)"
   ]
  },
  {
   "cell_type": "code",
   "execution_count": 217,
   "metadata": {
    "collapsed": false
   },
   "outputs": [
    {
     "name": "stdout",
     "output_type": "stream",
     "text": [
      "recall_score:  0.0\n",
      "precision_score:  0.0\n",
      "f1_score:  0.0\n"
     ]
    }
   ],
   "source": [
    "# decision tree\n",
    "clf_dtree,y_pred_stree = train_model(tree.DecisionTreeClassifier(),X_train_new,y_train,X_test_new)\n",
    "evaluation_metric(y_test,y_pred_stree)"
   ]
  },
  {
   "cell_type": "code",
   "execution_count": 218,
   "metadata": {
    "collapsed": false
   },
   "outputs": [
    {
     "name": "stdout",
     "output_type": "stream",
     "text": [
      "recall_score:  0.0\n",
      "precision_score:  0.0\n",
      "f1_score:  0.0\n"
     ]
    }
   ],
   "source": [
    "# random forest\n",
    "\n",
    "clf_froest,y_pred_forest = train_model(RandomForestClassifier(n_estimators=10),X_train_new,y_train,X_test_new)\n",
    "evaluation_metric(y_test,y_pred_forest)"
   ]
  },
  {
   "cell_type": "markdown",
   "metadata": {},
   "source": [
    "## Pipiline"
   ]
  },
  {
   "cell_type": "code",
   "execution_count": null,
   "metadata": {
    "collapsed": true
   },
   "outputs": [],
   "source": [
    "from sklearn.pipeline import Pipeline\n",
    "from sklearn.svm import SVC\n",
    "from sklearn.decomposition import PCA\n",
    "estimators = [('reduce_dim', PCA()), ('clf', SVC())]\n",
    "pipe = Pipeline(estimators)\n",
    "pipe \n"
   ]
  },
  {
   "cell_type": "code",
   "execution_count": null,
   "metadata": {
    "collapsed": true
   },
   "outputs": [],
   "source": [
    "from sklearn.model_selection import GridSearchCV\n",
    "params = dict(reduce_dim__n_components=[2, 5, 10],\n",
    "              clf__C=[0.1, 10, 100])\n",
    "grid_search = GridSearchCV(pipe, param_grid=params)"
   ]
  },
  {
   "cell_type": "code",
   "execution_count": null,
   "metadata": {
    "collapsed": true
   },
   "outputs": [],
   "source": [
    "from sklearn.linear_model import LogisticRegression\n",
    "params = dict(reduce_dim=[None, PCA(5), PCA(10)],\n",
    "              clf=[SVC(), LogisticRegression()],\n",
    "              clf__C=[0.1, 10, 100])\n",
    "grid_search = GridSearchCV(pipe, param_grid=params)"
   ]
  },
  {
   "cell_type": "code",
   "execution_count": 329,
   "metadata": {
    "collapsed": false
   },
   "outputs": [],
   "source": [
    "import pandas as pd\n",
    "from numpy import mean,std\n",
    "from sklearn.grid_search import GridSearchCV\n",
    "from sklearn.pipeline import Pipeline\n",
    "from sklearn.ensemble import ExtraTreesClassifier\n",
    "from sklearn.feature_selection import SelectFromModel \n",
    "\n",
    "from sklearn.metrics import recall_score, precision_score, f1_score\n",
    "\n",
    "def scorer_r_p(estimator, X_test, y_test):\n",
    "    y_pred = estimator.predict(X_test)\n",
    "    r_score = recall_score(y_test, y_pred)\n",
    "    p_score = precision_score(y_test, y_pred)\n",
    "#    f1_score = f1_score(y_test, y_pred)\n",
    "    if r_score<0.3 or p_score<0.3:\n",
    "        return 0    \n",
    "    return r_score + p_score\n",
    "\n",
    "\n",
    "class EstimatorSelectionHelper:\n",
    "    def __init__(self, models, params):\n",
    "        if not set(models.keys()).issubset(set(params.keys())):\n",
    "            missing_params = list(set(models.keys()) - set(params.keys()))\n",
    "            raise ValueError(\"Some estimators are missing parameters: %s\" % missing_params)\n",
    "        self.models = models\n",
    "        self.params = params\n",
    "        self.keys = models.keys()\n",
    "        self.grid_searches = {}\n",
    "        \n",
    "        min_max_scaler = MinMaxScaler(feature_range=(0, 1))\n",
    "        model_tree = SelectFromModel(ExtraTreesClassifier(random_state=32), prefit=False)\n",
    "        preparation = [('scaler',min_max_scaler)\n",
    "                      ,('selector',model_tree)]\n",
    "        params_selector ={'selector__threshold':['mean','0.5*mean','1.4*mean'] }\n",
    "        self.preparation = preparation\n",
    "        self.scores_df = None\n",
    "\n",
    "    def fit(self, X, y, cv=3, n_jobs=1, verbose=1, scoring=None, refit=True):\n",
    "        for key in self.keys:\n",
    "            print(\"Running GridSearchCV for %s.\" % key)\n",
    "            model = self.models[key]\n",
    "            #params = self.params[key]\n",
    "            if isinstance(self.params[key],list):\n",
    "                params = [dict(param.items() + params_selector.items()) for param in self.params[key]]           \n",
    "            elif isinstance(self.params[key],dict):\n",
    "                params = dict(self.params[key].items() + params_selector.items())\n",
    "            preparation = self.preparation\n",
    "            pipe= Pipeline(preparation +[(key,model)])        \n",
    "            gs = GridSearchCV(pipe, params, cv=cv, n_jobs=n_jobs,verbose=verbose, scoring=scoring, refit=refit)\n",
    "            gs.fit(X,y)\n",
    "            self.grid_searches[key] = gs    \n",
    "\n",
    "    def score_summary(self, sort_by='mean_score'):\n",
    "        def row(key, scores, params):\n",
    "            d = {\n",
    "                 'estimator': key,\n",
    "                 'min_score': min(scores),\n",
    "                 'max_score': max(scores),\n",
    "                 'mean_score': mean(scores),\n",
    "                 'std_score': std(scores),\n",
    "            }\n",
    "            return pd.Series(dict(params.items() + d.items()))\n",
    "\n",
    "        rows = [row(k, gsc.cv_validation_scores, gsc.parameters) \n",
    "                     for k in self.keys\n",
    "                     for gsc in self.grid_searches[k].grid_scores_]\n",
    "        df = pd.concat(rows, axis=1).T.sort_values(by=[sort_by], ascending=False)\n",
    "\n",
    "        columns = ['estimator', 'min_score', 'mean_score', 'max_score', 'std_score']\n",
    "        columns = columns + [c for c in df.columns if c not in columns]\n",
    "        self.scores_df = df[columns]\n",
    "        return df[columns]\n",
    "    \n",
    "    def best_estimator_model(self):\n",
    "        if  isinstance(self.scores_df,pd.DataFrame):\n",
    "            model_name = self.scores_df.iloc[0,0]\n",
    "            best_estimator_ = self.grid_searches[model_name].best_estimator_\n",
    "            best_model = self.grid_searches[model_name].best_estimator_.steps[-1][-1]\n",
    "            return best_estimator_, best_model       \n",
    "        else:\n",
    "            raise ValueError('scores_df is None; run fit() and score_summary() first')"
   ]
  },
  {
   "cell_type": "code",
   "execution_count": 377,
   "metadata": {
    "collapsed": false
   },
   "outputs": [
    {
     "name": "stdout",
     "output_type": "stream",
     "text": [
      "Running GridSearchCV for AdaBoostClassifier.\n",
      "Fitting 10 folds for each of 12 candidates, totalling 120 fits\n"
     ]
    },
    {
     "name": "stderr",
     "output_type": "stream",
     "text": [
      "[Parallel(n_jobs=-1)]: Done  42 tasks      | elapsed:    3.7s\n",
      "[Parallel(n_jobs=-1)]: Done 120 out of 120 | elapsed:   13.5s finished\n"
     ]
    },
    {
     "name": "stdout",
     "output_type": "stream",
     "text": [
      "Running GridSearchCV for GradientBoostingClassifier.\n",
      "Fitting 10 folds for each of 36 candidates, totalling 360 fits\n"
     ]
    },
    {
     "name": "stderr",
     "output_type": "stream",
     "text": [
      "[Parallel(n_jobs=-1)]: Done  80 tasks      | elapsed:    3.0s\n"
     ]
    },
    {
     "name": "stdout",
     "output_type": "stream",
     "text": [
      "Running GridSearchCV for ExtraTreesClassifier.\n",
      "Fitting 10 folds for each of 12 candidates, totalling 120 fits\n"
     ]
    },
    {
     "name": "stderr",
     "output_type": "stream",
     "text": [
      "[Parallel(n_jobs=-1)]: Done 360 out of 360 | elapsed:   13.1s finished\n",
      "[Parallel(n_jobs=-1)]: Done  42 tasks      | elapsed:    4.1s\n",
      "[Parallel(n_jobs=-1)]: Done 120 out of 120 | elapsed:   17.6s finished\n"
     ]
    },
    {
     "name": "stdout",
     "output_type": "stream",
     "text": [
      "Running GridSearchCV for RandomForestClassifier.\n",
      "Fitting 10 folds for each of 12 candidates, totalling 120 fits\n"
     ]
    },
    {
     "name": "stderr",
     "output_type": "stream",
     "text": [
      "[Parallel(n_jobs=-1)]: Done  42 tasks      | elapsed:    4.2s\n",
      "[Parallel(n_jobs=-1)]: Done 120 out of 120 | elapsed:   19.5s finished\n"
     ]
    }
   ],
   "source": [
    "models1 = { \n",
    "    'ExtraTreesClassifier': ExtraTreesClassifier(),\n",
    "    'RandomForestClassifier': RandomForestClassifier(),\n",
    "    'AdaBoostClassifier': AdaBoostClassifier(),\n",
    "    'GradientBoostingClassifier': GradientBoostingClassifier()\n",
    "    #'SVC': SVC()\n",
    "}\n",
    "\n",
    "params1 = { \n",
    "    'ExtraTreesClassifier': { 'ExtraTreesClassifier__n_estimators': [16, 32, 50, 100] },\n",
    "    'RandomForestClassifier': { 'RandomForestClassifier__n_estimators': [16, 32, 50, 100] },\n",
    "    'AdaBoostClassifier':  { 'AdaBoostClassifier__n_estimators': [16, 32, 50, 100] },\n",
    "    'GradientBoostingClassifier': { 'GradientBoostingClassifier__n_estimators': [16, 32, 50, 100]\n",
    "                                   , 'GradientBoostingClassifier__learning_rate': [0.5, 0.8, 1.0] }\n",
    "    #'SVC': [\n",
    "    #    {'SVC__kernel': ['linear'], 'SVC__C': [1, 10]},\n",
    "    #    {'SVC__kernel': ['rbf'], 'SVC__C': [1, 10], 'SVC__gamma': [0.001, 0.0001]},\n",
    "    #]\n",
    "}\n",
    "\n",
    "helper1 = EstimatorSelectionHelper(models1, params1)\n",
    "helper1.fit(features, labels,cv=10, scoring='recall', n_jobs=-1)"
   ]
  },
  {
   "cell_type": "code",
   "execution_count": 378,
   "metadata": {
    "collapsed": false
   },
   "outputs": [
    {
     "name": "stdout",
     "output_type": "stream",
     "text": [
      "best model:  GradientBoostingClassifier(criterion='friedman_mse', init=None,\n",
      "              learning_rate=0.5, loss='deviance', max_depth=3,\n",
      "              max_features=None, max_leaf_nodes=None,\n",
      "              min_impurity_split=1e-07, min_samples_leaf=1,\n",
      "              min_samples_split=2, min_weight_fraction_leaf=0.0,\n",
      "              n_estimators=32, presort='auto', random_state=None,\n",
      "              subsample=1.0, verbose=0, warm_start=False)\n"
     ]
    }
   ],
   "source": [
    "scores_df1 = helper1.score_summary()\n",
    "#scores_df.iloc[0,0]\n",
    "best_estimator_1,best_model1 = helper1.best_estimator_model()\n",
    "print \"best model: \",best_model1"
   ]
  },
  {
   "cell_type": "code",
   "execution_count": 379,
   "metadata": {
    "collapsed": false
   },
   "outputs": [
    {
     "data": {
      "text/html": [
       "<div>\n",
       "<table border=\"1\" class=\"dataframe\">\n",
       "  <thead>\n",
       "    <tr style=\"text-align: right;\">\n",
       "      <th></th>\n",
       "      <th>estimator</th>\n",
       "      <th>min_score</th>\n",
       "      <th>mean_score</th>\n",
       "      <th>max_score</th>\n",
       "      <th>std_score</th>\n",
       "      <th>AdaBoostClassifier__n_estimators</th>\n",
       "      <th>ExtraTreesClassifier__n_estimators</th>\n",
       "      <th>GradientBoostingClassifier__learning_rate</th>\n",
       "      <th>GradientBoostingClassifier__n_estimators</th>\n",
       "      <th>RandomForestClassifier__n_estimators</th>\n",
       "      <th>selector__threshold</th>\n",
       "    </tr>\n",
       "  </thead>\n",
       "  <tbody>\n",
       "    <tr>\n",
       "      <th>17</th>\n",
       "      <td>GradientBoostingClassifier</td>\n",
       "      <td>0</td>\n",
       "      <td>0.55</td>\n",
       "      <td>1</td>\n",
       "      <td>0.415331</td>\n",
       "      <td>NaN</td>\n",
       "      <td>NaN</td>\n",
       "      <td>0.5</td>\n",
       "      <td>32</td>\n",
       "      <td>NaN</td>\n",
       "      <td>1.4*mean</td>\n",
       "    </tr>\n",
       "    <tr>\n",
       "      <th>8</th>\n",
       "      <td>AdaBoostClassifier</td>\n",
       "      <td>0</td>\n",
       "      <td>0.45</td>\n",
       "      <td>1</td>\n",
       "      <td>0.415331</td>\n",
       "      <td>50</td>\n",
       "      <td>NaN</td>\n",
       "      <td>NaN</td>\n",
       "      <td>NaN</td>\n",
       "      <td>NaN</td>\n",
       "      <td>1.4*mean</td>\n",
       "    </tr>\n",
       "    <tr>\n",
       "      <th>40</th>\n",
       "      <td>GradientBoostingClassifier</td>\n",
       "      <td>0</td>\n",
       "      <td>0.4</td>\n",
       "      <td>1</td>\n",
       "      <td>0.43589</td>\n",
       "      <td>NaN</td>\n",
       "      <td>NaN</td>\n",
       "      <td>1</td>\n",
       "      <td>32</td>\n",
       "      <td>NaN</td>\n",
       "      <td>0.5*mean</td>\n",
       "    </tr>\n",
       "    <tr>\n",
       "      <th>43</th>\n",
       "      <td>GradientBoostingClassifier</td>\n",
       "      <td>0</td>\n",
       "      <td>0.4</td>\n",
       "      <td>1</td>\n",
       "      <td>0.43589</td>\n",
       "      <td>NaN</td>\n",
       "      <td>NaN</td>\n",
       "      <td>1</td>\n",
       "      <td>50</td>\n",
       "      <td>NaN</td>\n",
       "      <td>0.5*mean</td>\n",
       "    </tr>\n",
       "    <tr>\n",
       "      <th>47</th>\n",
       "      <td>GradientBoostingClassifier</td>\n",
       "      <td>0</td>\n",
       "      <td>0.4</td>\n",
       "      <td>1</td>\n",
       "      <td>0.43589</td>\n",
       "      <td>NaN</td>\n",
       "      <td>NaN</td>\n",
       "      <td>1</td>\n",
       "      <td>100</td>\n",
       "      <td>NaN</td>\n",
       "      <td>1.4*mean</td>\n",
       "    </tr>\n",
       "  </tbody>\n",
       "</table>\n",
       "</div>"
      ],
      "text/plain": [
       "                     estimator min_score mean_score max_score std_score  \\\n",
       "17  GradientBoostingClassifier         0       0.55         1  0.415331   \n",
       "8           AdaBoostClassifier         0       0.45         1  0.415331   \n",
       "40  GradientBoostingClassifier         0        0.4         1   0.43589   \n",
       "43  GradientBoostingClassifier         0        0.4         1   0.43589   \n",
       "47  GradientBoostingClassifier         0        0.4         1   0.43589   \n",
       "\n",
       "   AdaBoostClassifier__n_estimators ExtraTreesClassifier__n_estimators  \\\n",
       "17                              NaN                                NaN   \n",
       "8                                50                                NaN   \n",
       "40                              NaN                                NaN   \n",
       "43                              NaN                                NaN   \n",
       "47                              NaN                                NaN   \n",
       "\n",
       "   GradientBoostingClassifier__learning_rate  \\\n",
       "17                                       0.5   \n",
       "8                                        NaN   \n",
       "40                                         1   \n",
       "43                                         1   \n",
       "47                                         1   \n",
       "\n",
       "   GradientBoostingClassifier__n_estimators  \\\n",
       "17                                       32   \n",
       "8                                       NaN   \n",
       "40                                       32   \n",
       "43                                       50   \n",
       "47                                      100   \n",
       "\n",
       "   RandomForestClassifier__n_estimators selector__threshold  \n",
       "17                                  NaN            1.4*mean  \n",
       "8                                   NaN            1.4*mean  \n",
       "40                                  NaN            0.5*mean  \n",
       "43                                  NaN            0.5*mean  \n",
       "47                                  NaN            1.4*mean  "
      ]
     },
     "execution_count": 379,
     "metadata": {},
     "output_type": "execute_result"
    }
   ],
   "source": [
    "scores_df1.iloc[:5]"
   ]
  },
  {
   "cell_type": "code",
   "execution_count": 380,
   "metadata": {
    "collapsed": false
   },
   "outputs": [
    {
     "name": "stdout",
     "output_type": "stream",
     "text": [
      "Running GridSearchCV for AdaBoostClassifier.\n",
      "Fitting 10 folds for each of 12 candidates, totalling 120 fits\n"
     ]
    },
    {
     "name": "stderr",
     "output_type": "stream",
     "text": [
      "[Parallel(n_jobs=-1)]: Done  42 tasks      | elapsed:    3.0s\n",
      "[Parallel(n_jobs=-1)]: Done 120 out of 120 | elapsed:   13.3s finished\n"
     ]
    },
    {
     "name": "stdout",
     "output_type": "stream",
     "text": [
      "Running GridSearchCV for GradientBoostingClassifier.\n",
      "Fitting 10 folds for each of 36 candidates, totalling 360 fits\n"
     ]
    },
    {
     "name": "stderr",
     "output_type": "stream",
     "text": [
      "[Parallel(n_jobs=-1)]: Done  76 tasks      | elapsed:    4.1s\n",
      "[Parallel(n_jobs=-1)]: Done 360 out of 360 | elapsed:   15.4s finished\n"
     ]
    },
    {
     "name": "stdout",
     "output_type": "stream",
     "text": [
      "Running GridSearchCV for ExtraTreesClassifier.\n",
      "Fitting 10 folds for each of 12 candidates, totalling 120 fits\n"
     ]
    },
    {
     "name": "stderr",
     "output_type": "stream",
     "text": [
      "[Parallel(n_jobs=-1)]: Done  42 tasks      | elapsed:    3.3s\n",
      "[Parallel(n_jobs=-1)]: Done 120 out of 120 | elapsed:   15.0s finished\n"
     ]
    },
    {
     "name": "stdout",
     "output_type": "stream",
     "text": [
      "Running GridSearchCV for RandomForestClassifier.\n",
      "Fitting 10 folds for each of 12 candidates, totalling 120 fits\n"
     ]
    },
    {
     "name": "stderr",
     "output_type": "stream",
     "text": [
      "[Parallel(n_jobs=-1)]: Done  42 tasks      | elapsed:    3.1s\n",
      "[Parallel(n_jobs=-1)]: Done 120 out of 120 | elapsed:   15.2s finished\n"
     ]
    },
    {
     "ename": "ValueError",
     "evalue": "scores_df is None; run fit() and score_summary() first",
     "output_type": "error",
     "traceback": [
      "\u001b[0;31m---------------------------------------------------------------------------\u001b[0m",
      "\u001b[0;31mValueError\u001b[0m                                Traceback (most recent call last)",
      "\u001b[0;32m<ipython-input-380-303d3402c1c3>\u001b[0m in \u001b[0;36m<module>\u001b[0;34m()\u001b[0m\n\u001b[1;32m      2\u001b[0m \u001b[0mhelper2\u001b[0m\u001b[0;34m.\u001b[0m\u001b[0mfit\u001b[0m\u001b[0;34m(\u001b[0m\u001b[0mfeatures\u001b[0m\u001b[0;34m,\u001b[0m \u001b[0mlabels\u001b[0m\u001b[0;34m,\u001b[0m\u001b[0mcv\u001b[0m\u001b[0;34m=\u001b[0m\u001b[0;36m10\u001b[0m\u001b[0;34m,\u001b[0m \u001b[0mscoring\u001b[0m\u001b[0;34m=\u001b[0m\u001b[0;34m'precision'\u001b[0m\u001b[0;34m,\u001b[0m \u001b[0mn_jobs\u001b[0m\u001b[0;34m=\u001b[0m\u001b[0;34m-\u001b[0m\u001b[0;36m1\u001b[0m\u001b[0;34m)\u001b[0m\u001b[0;34m\u001b[0m\u001b[0m\n\u001b[1;32m      3\u001b[0m \u001b[0mscores_df2\u001b[0m \u001b[0;34m=\u001b[0m \u001b[0mhelper1\u001b[0m\u001b[0;34m.\u001b[0m\u001b[0mscore_summary\u001b[0m\u001b[0;34m(\u001b[0m\u001b[0;34m)\u001b[0m\u001b[0;34m\u001b[0m\u001b[0m\n\u001b[0;32m----> 4\u001b[0;31m \u001b[0mbest_estimator_2\u001b[0m\u001b[0;34m,\u001b[0m\u001b[0mbest_model2\u001b[0m \u001b[0;34m=\u001b[0m \u001b[0mhelper2\u001b[0m\u001b[0;34m.\u001b[0m\u001b[0mbest_estimator_model\u001b[0m\u001b[0;34m(\u001b[0m\u001b[0;34m)\u001b[0m\u001b[0;34m\u001b[0m\u001b[0m\n\u001b[0m\u001b[1;32m      5\u001b[0m \u001b[0;32mprint\u001b[0m \u001b[0;34m\"best model: \"\u001b[0m\u001b[0;34m,\u001b[0m\u001b[0mbest_model2\u001b[0m\u001b[0;34m\u001b[0m\u001b[0m\n\u001b[1;32m      6\u001b[0m \u001b[0mscores_df2\u001b[0m\u001b[0;34m.\u001b[0m\u001b[0miloc\u001b[0m\u001b[0;34m[\u001b[0m\u001b[0;34m:\u001b[0m\u001b[0;36m5\u001b[0m\u001b[0;34m]\u001b[0m\u001b[0;34m\u001b[0m\u001b[0m\n",
      "\u001b[0;32m<ipython-input-329-986a84c8c685>\u001b[0m in \u001b[0;36mbest_estimator_model\u001b[0;34m(self)\u001b[0m\n\u001b[1;32m     79\u001b[0m             \u001b[0;32mreturn\u001b[0m \u001b[0mbest_estimator_\u001b[0m\u001b[0;34m,\u001b[0m \u001b[0mbest_model\u001b[0m\u001b[0;34m\u001b[0m\u001b[0m\n\u001b[1;32m     80\u001b[0m         \u001b[0;32melse\u001b[0m\u001b[0;34m:\u001b[0m\u001b[0;34m\u001b[0m\u001b[0m\n\u001b[0;32m---> 81\u001b[0;31m             \u001b[0;32mraise\u001b[0m \u001b[0mValueError\u001b[0m\u001b[0;34m(\u001b[0m\u001b[0;34m'scores_df is None; run fit() and score_summary() first'\u001b[0m\u001b[0;34m)\u001b[0m\u001b[0;34m\u001b[0m\u001b[0m\n\u001b[0m",
      "\u001b[0;31mValueError\u001b[0m: scores_df is None; run fit() and score_summary() first"
     ]
    }
   ],
   "source": [
    "helper2 = EstimatorSelectionHelper(models1, params1)\n",
    "helper2.fit(features, labels,cv=10, scoring='precision', n_jobs=-1)\n",
    "scores_df2 = helper2.score_summary()\n",
    "best_estimator_2,best_model2 = helper2.best_estimator_model()\n",
    "print \"best model: \",best_model2\n",
    "scores_df2.iloc[:5]"
   ]
  },
  {
   "cell_type": "code",
   "execution_count": 381,
   "metadata": {
    "collapsed": false
   },
   "outputs": [
    {
     "name": "stdout",
     "output_type": "stream",
     "text": [
      "best model:  GradientBoostingClassifier(criterion='friedman_mse', init=None,\n",
      "              learning_rate=0.5, loss='deviance', max_depth=3,\n",
      "              max_features=None, max_leaf_nodes=None,\n",
      "              min_impurity_split=1e-07, min_samples_leaf=1,\n",
      "              min_samples_split=2, min_weight_fraction_leaf=0.0,\n",
      "              n_estimators=32, presort='auto', random_state=None,\n",
      "              subsample=1.0, verbose=0, warm_start=False)\n"
     ]
    },
    {
     "data": {
      "text/html": [
       "<div>\n",
       "<table border=\"1\" class=\"dataframe\">\n",
       "  <thead>\n",
       "    <tr style=\"text-align: right;\">\n",
       "      <th></th>\n",
       "      <th>estimator</th>\n",
       "      <th>min_score</th>\n",
       "      <th>mean_score</th>\n",
       "      <th>max_score</th>\n",
       "      <th>std_score</th>\n",
       "      <th>AdaBoostClassifier__n_estimators</th>\n",
       "      <th>ExtraTreesClassifier__n_estimators</th>\n",
       "      <th>GradientBoostingClassifier__learning_rate</th>\n",
       "      <th>GradientBoostingClassifier__n_estimators</th>\n",
       "      <th>RandomForestClassifier__n_estimators</th>\n",
       "      <th>selector__threshold</th>\n",
       "    </tr>\n",
       "  </thead>\n",
       "  <tbody>\n",
       "    <tr>\n",
       "      <th>17</th>\n",
       "      <td>GradientBoostingClassifier</td>\n",
       "      <td>0</td>\n",
       "      <td>0.466667</td>\n",
       "      <td>1</td>\n",
       "      <td>0.363624</td>\n",
       "      <td>NaN</td>\n",
       "      <td>NaN</td>\n",
       "      <td>0.5</td>\n",
       "      <td>32</td>\n",
       "      <td>NaN</td>\n",
       "      <td>1.4*mean</td>\n",
       "    </tr>\n",
       "    <tr>\n",
       "      <th>9</th>\n",
       "      <td>AdaBoostClassifier</td>\n",
       "      <td>0</td>\n",
       "      <td>0.433333</td>\n",
       "      <td>1</td>\n",
       "      <td>0.416333</td>\n",
       "      <td>100</td>\n",
       "      <td>NaN</td>\n",
       "      <td>NaN</td>\n",
       "      <td>NaN</td>\n",
       "      <td>NaN</td>\n",
       "      <td>mean</td>\n",
       "    </tr>\n",
       "    <tr>\n",
       "      <th>5</th>\n",
       "      <td>AdaBoostClassifier</td>\n",
       "      <td>0</td>\n",
       "      <td>0.416667</td>\n",
       "      <td>1</td>\n",
       "      <td>0.442531</td>\n",
       "      <td>32</td>\n",
       "      <td>NaN</td>\n",
       "      <td>NaN</td>\n",
       "      <td>NaN</td>\n",
       "      <td>NaN</td>\n",
       "      <td>1.4*mean</td>\n",
       "    </tr>\n",
       "    <tr>\n",
       "      <th>8</th>\n",
       "      <td>AdaBoostClassifier</td>\n",
       "      <td>0</td>\n",
       "      <td>0.416667</td>\n",
       "      <td>1</td>\n",
       "      <td>0.381881</td>\n",
       "      <td>50</td>\n",
       "      <td>NaN</td>\n",
       "      <td>NaN</td>\n",
       "      <td>NaN</td>\n",
       "      <td>NaN</td>\n",
       "      <td>1.4*mean</td>\n",
       "    </tr>\n",
       "    <tr>\n",
       "      <th>6</th>\n",
       "      <td>AdaBoostClassifier</td>\n",
       "      <td>0</td>\n",
       "      <td>0.383333</td>\n",
       "      <td>1</td>\n",
       "      <td>0.37305</td>\n",
       "      <td>50</td>\n",
       "      <td>NaN</td>\n",
       "      <td>NaN</td>\n",
       "      <td>NaN</td>\n",
       "      <td>NaN</td>\n",
       "      <td>mean</td>\n",
       "    </tr>\n",
       "  </tbody>\n",
       "</table>\n",
       "</div>"
      ],
      "text/plain": [
       "                     estimator min_score mean_score max_score std_score  \\\n",
       "17  GradientBoostingClassifier         0   0.466667         1  0.363624   \n",
       "9           AdaBoostClassifier         0   0.433333         1  0.416333   \n",
       "5           AdaBoostClassifier         0   0.416667         1  0.442531   \n",
       "8           AdaBoostClassifier         0   0.416667         1  0.381881   \n",
       "6           AdaBoostClassifier         0   0.383333         1   0.37305   \n",
       "\n",
       "   AdaBoostClassifier__n_estimators ExtraTreesClassifier__n_estimators  \\\n",
       "17                              NaN                                NaN   \n",
       "9                               100                                NaN   \n",
       "5                                32                                NaN   \n",
       "8                                50                                NaN   \n",
       "6                                50                                NaN   \n",
       "\n",
       "   GradientBoostingClassifier__learning_rate  \\\n",
       "17                                       0.5   \n",
       "9                                        NaN   \n",
       "5                                        NaN   \n",
       "8                                        NaN   \n",
       "6                                        NaN   \n",
       "\n",
       "   GradientBoostingClassifier__n_estimators  \\\n",
       "17                                       32   \n",
       "9                                       NaN   \n",
       "5                                       NaN   \n",
       "8                                       NaN   \n",
       "6                                       NaN   \n",
       "\n",
       "   RandomForestClassifier__n_estimators selector__threshold  \n",
       "17                                  NaN            1.4*mean  \n",
       "9                                   NaN                mean  \n",
       "5                                   NaN            1.4*mean  \n",
       "8                                   NaN            1.4*mean  \n",
       "6                                   NaN                mean  "
      ]
     },
     "execution_count": 381,
     "metadata": {},
     "output_type": "execute_result"
    }
   ],
   "source": [
    "scores_df2 = helper2.score_summary()\n",
    "best_estimator_2,best_model2 = helper2.best_estimator_model()\n",
    "print \"best model: \",best_model2\n",
    "scores_df2.iloc[:5]"
   ]
  },
  {
   "cell_type": "code",
   "execution_count": 271,
   "metadata": {
    "collapsed": false,
    "scrolled": true
   },
   "outputs": [
    {
     "name": "stdout",
     "output_type": "stream",
     "text": [
      "scaler MinMaxScaler(copy=True, feature_range=(0, 1))\n",
      "selector SelectFromModel(estimator=ExtraTreesClassifier(bootstrap=False, class_weight=None, criterion='gini',\n",
      "           max_depth=None, max_features='auto', max_leaf_nodes=None,\n",
      "           min_impurity_split=1e-07, min_samples_leaf=1,\n",
      "           min_samples_split=2, min_weight_fraction_leaf=0.0,\n",
      "           n_estimators=10, n_jobs=1, oob_score=False, random_state=32,\n",
      "           verbose=0, warm_start=False),\n",
      "        prefit=False, threshold='mean')\n",
      "AdaBoostClassifier AdaBoostClassifier(algorithm='SAMME.R', base_estimator=None,\n",
      "          learning_rate=1.0, n_estimators=50, random_state=None)\n"
     ]
    }
   ],
   "source": [
    "for step in best_estimator_.steps:\n",
    "    print step[0],step[1]"
   ]
  },
  {
   "cell_type": "code",
   "execution_count": 275,
   "metadata": {
    "collapsed": false,
    "scrolled": true
   },
   "outputs": [
    {
     "data": {
      "text/plain": [
       "ExtraTreesClassifier(bootstrap=False, class_weight=None, criterion='gini',\n",
       "           max_depth=None, max_features='auto', max_leaf_nodes=None,\n",
       "           min_impurity_split=1e-07, min_samples_leaf=1,\n",
       "           min_samples_split=2, min_weight_fraction_leaf=0.0,\n",
       "           n_estimators=10, n_jobs=1, oob_score=False, random_state=32,\n",
       "           verbose=0, warm_start=False)"
      ]
     },
     "execution_count": 275,
     "metadata": {},
     "output_type": "execute_result"
    }
   ],
   "source": [
    "forest = best_estimator_.steps[1][-1].estimator_\n",
    "forest"
   ]
  },
  {
   "cell_type": "code",
   "execution_count": 314,
   "metadata": {
    "collapsed": false
   },
   "outputs": [
    {
     "data": {
      "text/plain": [
       "Pipeline(steps=[('scaler', MinMaxScaler(copy=True, feature_range=(0, 1))), ('selector', SelectFromModel(estimator=ExtraTreesClassifier(bootstrap=False, class_weight=None, criterion='gini',\n",
       "           max_depth=None, max_features='auto', max_leaf_nodes=None,\n",
       "           min_impurity_split=1e-07, min_samples_le...m='SAMME.R', base_estimator=None,\n",
       "          learning_rate=1.0, n_estimators=50, random_state=None))])"
      ]
     },
     "execution_count": 314,
     "metadata": {},
     "output_type": "execute_result"
    }
   ],
   "source": [
    "best_estimator_"
   ]
  },
  {
   "cell_type": "code",
   "execution_count": 277,
   "metadata": {
    "collapsed": false,
    "scrolled": true
   },
   "outputs": [
    {
     "name": "stdout",
     "output_type": "stream",
     "text": [
      "Feature ranking:\n",
      "1. feature 13 (0.111528)\n",
      "2. feature 16 (0.101880)\n",
      "3. feature 6 (0.080032)\n",
      "4. feature 5 (0.075923)\n",
      "5. feature 9 (0.068396)\n",
      "6. feature 0 (0.067129)\n",
      "7. feature 18 (0.061514)\n",
      "8. feature 4 (0.060429)\n",
      "9. feature 3 (0.059110)\n",
      "10. feature 7 (0.056590)\n",
      "11. feature 14 (0.055999)\n",
      "12. feature 1 (0.047120)\n",
      "13. feature 17 (0.035974)\n",
      "14. feature 12 (0.034962)\n",
      "15. feature 10 (0.029403)\n",
      "16. feature 11 (0.028566)\n",
      "17. feature 2 (0.022958)\n",
      "18. feature 15 (0.001599)\n",
      "19. feature 8 (0.000886)\n"
     ]
    },
    {
     "data": {
      "image/png": "[encoded data removed]",
      "text/plain": [
       "<matplotlib.figure.Figure at 0x11bed12d0>"
      ]
     },
     "metadata": {},
     "output_type": "display_data"
    }
   ],
   "source": [
    "%matplotlib inline\n",
    "import numpy as np\n",
    "import matplotlib.pyplot as plt\n",
    "\n",
    "from sklearn.datasets import make_classification\n",
    "from sklearn.ensemble import ExtraTreesClassifier\n",
    "\n",
    "forest.fit(X_train_scaled , y_train)\n",
    "importances = forest.feature_importances_\n",
    "#std = np.std([tree.feature_importances_ for tree in forest.estimators_],axis=0)\n",
    "indices = np.argsort(importances)[::-1]\n",
    "\n",
    "# Print the feature ranking\n",
    "print(\"Feature ranking:\")\n",
    "\n",
    "for f in range(X_train_scaled .shape[1]):\n",
    "    print(\"%d. feature %d (%f)\" % (f + 1, indices[f], importances[indices[f]]))\n",
    "\n",
    "# Plot the feature importances of the forest\n",
    "plt.figure()\n",
    "plt.title(\"Feature importances\")\n",
    "plt.bar(range(X_train_scaled.shape[1]), importances[indices],color=\"r\")#, yerr=std[indices], align=\"center\")\n",
    "plt.xticks(range(X_train_scaled.shape[1]), indices)\n",
    "plt.xlim([-1, X_train_scaled.shape[1]])\n",
    "plt.show()"
   ]
  },
  {
   "cell_type": "code",
   "execution_count": 282,
   "metadata": {
    "collapsed": false
   },
   "outputs": [
    {
     "data": {
      "text/plain": [
       "array([13, 16,  6,  5,  9,  0, 18,  4,  3,  7, 14,  1, 17, 12, 10, 11,  2,\n",
       "       15,  8])"
      ]
     },
     "execution_count": 282,
     "metadata": {},
     "output_type": "execute_result"
    }
   ],
   "source": [
    "indices\n"
   ]
  },
  {
   "cell_type": "code",
   "execution_count": 289,
   "metadata": {
    "collapsed": false
   },
   "outputs": [
    {
     "data": {
      "text/plain": [
       "array([ 0.06712889,  0.04712015,  0.02295805,  0.05911037,  0.06042886,\n",
       "        0.07592324,  0.08003241,  0.05659005,  0.00088592,  0.06839614,\n",
       "        0.02940319,  0.0285665 ,  0.03496242,  0.11152839,  0.05599861,\n",
       "        0.00159874,  0.10188032,  0.03597353,  0.06151426])"
      ]
     },
     "execution_count": 289,
     "metadata": {},
     "output_type": "execute_result"
    }
   ],
   "source": [
    "importances"
   ]
  },
  {
   "cell_type": "code",
   "execution_count": 290,
   "metadata": {
    "collapsed": false
   },
   "outputs": [
    {
     "data": {
      "text/plain": [
       "0.052631578947368418"
      ]
     },
     "execution_count": 290,
     "metadata": {},
     "output_type": "execute_result"
    }
   ],
   "source": [
    "mean(importances)"
   ]
  },
  {
   "cell_type": "markdown",
   "metadata": {},
   "source": [
    "## Task 6:\n",
    "Dump your classifier, dataset, and features_list so anyone can\n",
    "check your results. You do not need to change anything below, but make sure that the version of poi_id.py that you submit can be run on its own and generates the necessary .pkl files for validating your results.\n",
    "\n"
   ]
  },
  {
   "cell_type": "code",
   "execution_count": 387,
   "metadata": {
    "collapsed": false
   },
   "outputs": [],
   "source": [
    "from tester import dump_classifier_and_data\n",
    "#clf = GaussianNB()#best_estimator_\n",
    "#features_list = [features_full_list[1:][index] for index,importance in enumerate(importances) if importance>=1.4*mean(importances)]\n",
    "#features_list = ['poi']+features_list\n",
    "features_list = features_full_list\n",
    "my_dataset = data_full_dic\n",
    "\n",
    "clf = best_estimator_2\n",
    "#clf = Pipeline(steps=[('scaler',MinMaxScaler(copy=True, feature_range=(0, 1)))\n",
    "#                      ,('classifier', RandomForestClassifier(n_estimators=100,min_samples_split=4,max_features=3))])\n",
    "\n",
    "dump_classifier_and_data(clf, my_dataset, features_list)"
   ]
  },
  {
   "cell_type": "code",
   "execution_count": 389,
   "metadata": {
    "collapsed": false
   },
   "outputs": [
    {
     "data": {
      "text/plain": [
       "[('scaler', MinMaxScaler(copy=True, feature_range=(0, 1))),\n",
       " ('selector',\n",
       "  SelectFromModel(estimator=ExtraTreesClassifier(bootstrap=False, class_weight=None, criterion='gini',\n",
       "             max_depth=None, max_features='auto', max_leaf_nodes=None,\n",
       "             min_impurity_split=1e-07, min_samples_leaf=1,\n",
       "             min_samples_split=2, min_weight_fraction_leaf=0.0,\n",
       "             n_estimators=10, n_jobs=1, oob_score=False, random_state=32,\n",
       "             verbose=0, warm_start=False),\n",
       "          prefit=False, threshold='1.4*mean')),\n",
       " ('GradientBoostingClassifier',\n",
       "  GradientBoostingClassifier(criterion='friedman_mse', init=None,\n",
       "                learning_rate=0.5, loss='deviance', max_depth=3,\n",
       "                max_features=None, max_leaf_nodes=None,\n",
       "                min_impurity_split=1e-07, min_samples_leaf=1,\n",
       "                min_samples_split=2, min_weight_fraction_leaf=0.0,\n",
       "                n_estimators=32, presort='auto', random_state=None,\n",
       "                subsample=1.0, verbose=0, warm_start=False))]"
      ]
     },
     "execution_count": 389,
     "metadata": {},
     "output_type": "execute_result"
    }
   ],
   "source": [
    "best_estimator_2.steps"
   ]
  },
  {
   "cell_type": "markdown",
   "metadata": {},
   "source": [
    "## Test"
   ]
  },
  {
   "cell_type": "code",
   "execution_count": 234,
   "metadata": {
    "collapsed": false
   },
   "outputs": [
    {
     "data": {
      "text/plain": [
       "0.022727272727272724"
      ]
     },
     "execution_count": 234,
     "metadata": {},
     "output_type": "execute_result"
    }
   ],
   "source": []
  },
  {
   "cell_type": "code",
   "execution_count": null,
   "metadata": {
    "collapsed": true
   },
   "outputs": [],
   "source": [
    "from sklearn.naive_bayes import GaussianNB\n",
    "from sklearn.metrics import recall_score, precision_score, f1_score\n"
   ]
  },
  {
   "cell_type": "code",
   "execution_count": null,
   "metadata": {
    "collapsed": true
   },
   "outputs": [],
   "source": []
  },
  {
   "cell_type": "code",
   "execution_count": 371,
   "metadata": {
    "collapsed": false
   },
   "outputs": [
    {
     "name": "stdout",
     "output_type": "stream",
     "text": [
      "------Running GridSearchCV for GaussianNB.------\n",
      "[('scaler', MinMaxScaler(copy=True, feature_range=(0, 1))), ('GaussianNB', GaussianNB(priors=None))]\n",
      "Pipeline(steps=[('scaler', MinMaxScaler(copy=True, feature_range=(0, 1))), ('GaussianNB', GaussianNB(priors=None))])\n",
      "Fitting 3 folds for each of 2 candidates, totalling 6 fits\n",
      "------Running GridSearchCV for AdaBoostClassifier.------\n",
      "[('scaler', MinMaxScaler(copy=True, feature_range=(0, 1))), ('AdaBoostClassifier', AdaBoostClassifier(algorithm='SAMME.R', base_estimator=None,\n",
      "          learning_rate=1.0, n_estimators=50, random_state=None))]\n",
      "Pipeline(steps=[('scaler', MinMaxScaler(copy=True, feature_range=(0, 1))), ('AdaBoostClassifier', AdaBoostClassifier(algorithm='SAMME.R', base_estimator=None,\n",
      "          learning_rate=1.0, n_estimators=50, random_state=None))])\n",
      "Fitting 3 folds for each of 2 candidates, totalling 6 fits\n"
     ]
    },
    {
     "name": "stderr",
     "output_type": "stream",
     "text": [
      "[Parallel(n_jobs=1)]: Done   6 out of   6 | elapsed:    0.0s finished\n",
      "[Parallel(n_jobs=1)]: Done   6 out of   6 | elapsed:    0.8s finished\n"
     ]
    },
    {
     "name": "stdout",
     "output_type": "stream",
     "text": [
      "------Running GridSearchCV for GradientBoostingClassifier.------\n",
      "[('scaler', MinMaxScaler(copy=True, feature_range=(0, 1))), ('GradientBoostingClassifier', GradientBoostingClassifier(criterion='friedman_mse', init=None,\n",
      "              learning_rate=0.1, loss='deviance', max_depth=3,\n",
      "              max_features=None, max_leaf_nodes=None,\n",
      "              min_impurity_split=1e-07, min_samples_leaf=1,\n",
      "              min_samples_split=2, min_weight_fraction_leaf=0.0,\n",
      "              n_estimators=100, presort='auto', random_state=None,\n",
      "              subsample=1.0, verbose=0, warm_start=False))]\n",
      "Pipeline(steps=[('scaler', MinMaxScaler(copy=True, feature_range=(0, 1))), ('GradientBoostingClassifier', GradientBoostingClassifier(criterion='friedman_mse', init=None,\n",
      "              learning_rate=0.1, loss='deviance', max_depth=3,\n",
      "              max_features=None, max_leaf_nodes=None,\n",
      "              min_impu...=100, presort='auto', random_state=None,\n",
      "              subsample=1.0, verbose=0, warm_start=False))])\n",
      "Fitting 3 folds for each of 4 candidates, totalling 12 fits\n"
     ]
    },
    {
     "name": "stderr",
     "output_type": "stream",
     "text": [
      "[Parallel(n_jobs=1)]: Done  12 out of  12 | elapsed:    0.2s finished\n"
     ]
    },
    {
     "name": "stdout",
     "output_type": "stream",
     "text": [
      "------Running GridSearchCV for RandomForestClassifier.------\n",
      "[('scaler', MinMaxScaler(copy=True, feature_range=(0, 1))), ('RandomForestClassifier', RandomForestClassifier(bootstrap=True, class_weight=None, criterion='gini',\n",
      "            max_depth=None, max_features='auto', max_leaf_nodes=None,\n",
      "            min_impurity_split=1e-07, min_samples_leaf=1,\n",
      "            min_samples_split=2, min_weight_fraction_leaf=0.0,\n",
      "            n_estimators=10, n_jobs=1, oob_score=False, random_state=None,\n",
      "            verbose=0, warm_start=False))]\n",
      "Pipeline(steps=[('scaler', MinMaxScaler(copy=True, feature_range=(0, 1))), ('RandomForestClassifier', RandomForestClassifier(bootstrap=True, class_weight=None, criterion='gini',\n",
      "            max_depth=None, max_features='auto', max_leaf_nodes=None,\n",
      "            min_impurity_split=1e-07, min_samples_leaf=1,\n",
      "            min_samples_split=2, min_weight_fraction_leaf=0.0,\n",
      "            n_estimators=10, n_jobs=1, oob_score=False, random_state=None,\n",
      "            verbose=0, warm_start=False))])\n",
      "Fitting 3 folds for each of 36 candidates, totalling 108 fits\n",
      "                    estimators mean_score  min_score max_score  std_score  \\\n",
      "0                   GaussianNB   0.161905  0.0952381       0.2  0.0473005   \n",
      "1                   GaussianNB    0.15873  0.0952381  0.190476  0.0448957   \n",
      "2           AdaBoostClassifier   0.133333          0       0.4   0.188562   \n",
      "32      RandomForestClassifier          0          0         0          0   \n",
      "24      RandomForestClassifier          0          0         0          0   \n",
      "25      RandomForestClassifier          0          0         0          0   \n",
      "26      RandomForestClassifier          0          0         0          0   \n",
      "27      RandomForestClassifier          0          0         0          0   \n",
      "28      RandomForestClassifier          0          0         0          0   \n",
      "29      RandomForestClassifier          0          0         0          0   \n",
      "30      RandomForestClassifier          0          0         0          0   \n",
      "31      RandomForestClassifier          0          0         0          0   \n",
      "33      RandomForestClassifier          0          0         0          0   \n",
      "42      RandomForestClassifier          0          0         0          0   \n",
      "23      RandomForestClassifier          0          0         0          0   \n",
      "35      RandomForestClassifier          0          0         0          0   \n",
      "36      RandomForestClassifier          0          0         0          0   \n",
      "37      RandomForestClassifier          0          0         0          0   \n",
      "38      RandomForestClassifier          0          0         0          0   \n",
      "39      RandomForestClassifier          0          0         0          0   \n",
      "40      RandomForestClassifier          0          0         0          0   \n",
      "41      RandomForestClassifier          0          0         0          0   \n",
      "34      RandomForestClassifier          0          0         0          0   \n",
      "22      RandomForestClassifier          0          0         0          0   \n",
      "21      RandomForestClassifier          0          0         0          0   \n",
      "20      RandomForestClassifier          0          0         0          0   \n",
      "3           AdaBoostClassifier          0          0         0          0   \n",
      "4   GradientBoostingClassifier          0          0         0          0   \n",
      "5   GradientBoostingClassifier          0          0         0          0   \n",
      "6   GradientBoostingClassifier          0          0         0          0   \n",
      "7   GradientBoostingClassifier          0          0         0          0   \n",
      "8       RandomForestClassifier          0          0         0          0   \n",
      "9       RandomForestClassifier          0          0         0          0   \n",
      "10      RandomForestClassifier          0          0         0          0   \n",
      "11      RandomForestClassifier          0          0         0          0   \n",
      "12      RandomForestClassifier          0          0         0          0   \n",
      "13      RandomForestClassifier          0          0         0          0   \n",
      "14      RandomForestClassifier          0          0         0          0   \n",
      "15      RandomForestClassifier          0          0         0          0   \n",
      "16      RandomForestClassifier          0          0         0          0   \n",
      "17      RandomForestClassifier          0          0         0          0   \n",
      "18      RandomForestClassifier          0          0         0          0   \n",
      "19      RandomForestClassifier          0          0         0          0   \n",
      "43      RandomForestClassifier          0          0         0          0   \n",
      "\n",
      "   AdaBoostClassifier__n_estimators GaussianNB__priors  \\\n",
      "0                               NaN               None   \n",
      "1                               NaN     [0.124, 0.876]   \n",
      "2                                16                NaN   \n",
      "32                              NaN                NaN   \n",
      "24                              NaN                NaN   \n",
      "25                              NaN                NaN   \n",
      "26                              NaN                NaN   \n",
      "27                              NaN                NaN   \n",
      "28                              NaN                NaN   \n",
      "29                              NaN                NaN   \n",
      "30                              NaN                NaN   \n",
      "31                              NaN                NaN   \n",
      "33                              NaN                NaN   \n",
      "42                              NaN                NaN   \n",
      "23                              NaN                NaN   \n",
      "35                              NaN                NaN   \n",
      "36                              NaN                NaN   \n",
      "37                              NaN                NaN   \n",
      "38                              NaN                NaN   \n",
      "39                              NaN                NaN   \n",
      "40                              NaN                NaN   \n",
      "41                              NaN                NaN   \n",
      "34                              NaN                NaN   \n",
      "22                              NaN                NaN   \n",
      "21                              NaN                NaN   \n",
      "20                              NaN                NaN   \n",
      "3                                32                NaN   \n",
      "4                               NaN                NaN   \n",
      "5                               NaN                NaN   \n",
      "6                               NaN                NaN   \n",
      "7                               NaN                NaN   \n",
      "8                               NaN                NaN   \n",
      "9                               NaN                NaN   \n",
      "10                              NaN                NaN   \n",
      "11                              NaN                NaN   \n",
      "12                              NaN                NaN   \n",
      "13                              NaN                NaN   \n",
      "14                              NaN                NaN   \n",
      "15                              NaN                NaN   \n",
      "16                              NaN                NaN   \n",
      "17                              NaN                NaN   \n",
      "18                              NaN                NaN   \n",
      "19                              NaN                NaN   \n",
      "43                              NaN                NaN   \n",
      "\n",
      "   GradientBoostingClassifier__learning_rate  \\\n",
      "0                                        NaN   \n",
      "1                                        NaN   \n",
      "2                                        NaN   \n",
      "32                                       NaN   \n",
      "24                                       NaN   \n",
      "25                                       NaN   \n",
      "26                                       NaN   \n",
      "27                                       NaN   \n",
      "28                                       NaN   \n",
      "29                                       NaN   \n",
      "30                                       NaN   \n",
      "31                                       NaN   \n",
      "33                                       NaN   \n",
      "42                                       NaN   \n",
      "23                                       NaN   \n",
      "35                                       NaN   \n",
      "36                                       NaN   \n",
      "37                                       NaN   \n",
      "38                                       NaN   \n",
      "39                                       NaN   \n",
      "40                                       NaN   \n",
      "41                                       NaN   \n",
      "34                                       NaN   \n",
      "22                                       NaN   \n",
      "21                                       NaN   \n",
      "20                                       NaN   \n",
      "3                                        NaN   \n",
      "4                                        0.8   \n",
      "5                                        0.8   \n",
      "6                                          1   \n",
      "7                                          1   \n",
      "8                                        NaN   \n",
      "9                                        NaN   \n",
      "10                                       NaN   \n",
      "11                                       NaN   \n",
      "12                                       NaN   \n",
      "13                                       NaN   \n",
      "14                                       NaN   \n",
      "15                                       NaN   \n",
      "16                                       NaN   \n",
      "17                                       NaN   \n",
      "18                                       NaN   \n",
      "19                                       NaN   \n",
      "43                                       NaN   \n",
      "\n",
      "   GradientBoostingClassifier__n_estimators  \\\n",
      "0                                       NaN   \n",
      "1                                       NaN   \n",
      "2                                       NaN   \n",
      "32                                      NaN   \n",
      "24                                      NaN   \n",
      "25                                      NaN   \n",
      "26                                      NaN   \n",
      "27                                      NaN   \n",
      "28                                      NaN   \n",
      "29                                      NaN   \n",
      "30                                      NaN   \n",
      "31                                      NaN   \n",
      "33                                      NaN   \n",
      "42                                      NaN   \n",
      "23                                      NaN   \n",
      "35                                      NaN   \n",
      "36                                      NaN   \n",
      "37                                      NaN   \n",
      "38                                      NaN   \n",
      "39                                      NaN   \n",
      "40                                      NaN   \n",
      "41                                      NaN   \n",
      "34                                      NaN   \n",
      "22                                      NaN   \n",
      "21                                      NaN   \n",
      "20                                      NaN   \n",
      "3                                       NaN   \n",
      "4                                        16   \n",
      "5                                        32   \n",
      "6                                        16   \n",
      "7                                        32   \n",
      "8                                       NaN   \n",
      "9                                       NaN   \n",
      "10                                      NaN   \n",
      "11                                      NaN   \n",
      "12                                      NaN   \n",
      "13                                      NaN   \n",
      "14                                      NaN   \n",
      "15                                      NaN   \n",
      "16                                      NaN   \n",
      "17                                      NaN   \n",
      "18                                      NaN   \n",
      "19                                      NaN   \n",
      "43                                      NaN   \n",
      "\n",
      "   RandomForestClassifier__max_features  \\\n",
      "0                                   NaN   \n",
      "1                                   NaN   \n",
      "2                                   NaN   \n",
      "32                                    5   \n",
      "24                                    4   \n",
      "25                                    4   \n",
      "26                                    4   \n",
      "27                                    4   \n",
      "28                                    4   \n",
      "29                                    4   \n",
      "30                                    4   \n",
      "31                                    4   \n",
      "33                                    5   \n",
      "42                                    5   \n",
      "23                                    4   \n",
      "35                                    5   \n",
      "36                                    5   \n",
      "37                                    5   \n",
      "38                                    5   \n",
      "39                                    5   \n",
      "40                                    5   \n",
      "41                                    5   \n",
      "34                                    5   \n",
      "22                                    4   \n",
      "21                                    4   \n",
      "20                                    4   \n",
      "3                                   NaN   \n",
      "4                                   NaN   \n",
      "5                                   NaN   \n",
      "6                                   NaN   \n",
      "7                                   NaN   \n",
      "8                                     3   \n",
      "9                                     3   \n",
      "10                                    3   \n",
      "11                                    3   \n",
      "12                                    3   \n",
      "13                                    3   \n",
      "14                                    3   \n",
      "15                                    3   \n",
      "16                                    3   \n",
      "17                                    3   \n",
      "18                                    3   \n",
      "19                                    3   \n",
      "43                                    5   \n",
      "\n",
      "   RandomForestClassifier__min_samples_split  \\\n",
      "0                                        NaN   \n",
      "1                                        NaN   \n",
      "2                                        NaN   \n",
      "32                                         2   \n",
      "24                                         3   \n",
      "25                                         3   \n",
      "26                                         3   \n",
      "27                                         3   \n",
      "28                                         4   \n",
      "29                                         4   \n",
      "30                                         4   \n",
      "31                                         4   \n",
      "33                                         2   \n",
      "42                                         4   \n",
      "23                                         2   \n",
      "35                                         2   \n",
      "36                                         3   \n",
      "37                                         3   \n",
      "38                                         3   \n",
      "39                                         3   \n",
      "40                                         4   \n",
      "41                                         4   \n",
      "34                                         2   \n",
      "22                                         2   \n",
      "21                                         2   \n",
      "20                                         2   \n",
      "3                                        NaN   \n",
      "4                                        NaN   \n",
      "5                                        NaN   \n",
      "6                                        NaN   \n",
      "7                                        NaN   \n",
      "8                                          2   \n",
      "9                                          2   \n",
      "10                                         2   \n",
      "11                                         2   \n",
      "12                                         3   \n",
      "13                                         3   \n",
      "14                                         3   \n",
      "15                                         3   \n",
      "16                                         4   \n",
      "17                                         4   \n",
      "18                                         4   \n",
      "19                                         4   \n",
      "43                                         4   \n",
      "\n",
      "   RandomForestClassifier__n_estimators  \n",
      "0                                   NaN  \n",
      "1                                   NaN  \n",
      "2                                   NaN  \n",
      "32                                   16  \n",
      "24                                   16  \n",
      "25                                   32  \n",
      "26                                   50  \n",
      "27                                  100  \n",
      "28                                   16  \n",
      "29                                   32  \n",
      "30                                   50  \n",
      "31                                  100  \n",
      "33                                   32  \n",
      "42                                   50  \n",
      "23                                  100  \n",
      "35                                  100  \n",
      "36                                   16  \n",
      "37                                   32  \n",
      "38                                   50  \n",
      "39                                  100  \n",
      "40                                   16  \n",
      "41                                   32  \n",
      "34                                   50  \n",
      "22                                   50  \n",
      "21                                   32  \n",
      "20                                   16  \n",
      "3                                   NaN  \n",
      "4                                   NaN  \n",
      "5                                   NaN  \n",
      "6                                   NaN  \n",
      "7                                   NaN  \n",
      "8                                    16  \n",
      "9                                    32  \n",
      "10                                   50  \n",
      "11                                  100  \n",
      "12                                   16  \n",
      "13                                   32  \n",
      "14                                   50  \n",
      "15                                  100  \n",
      "16                                   16  \n",
      "17                                   32  \n",
      "18                                   50  \n",
      "19                                  100  \n",
      "43                                  100  \n"
     ]
    },
    {
     "name": "stderr",
     "output_type": "stream",
     "text": [
      "[Parallel(n_jobs=1)]: Done 108 out of 108 | elapsed:   25.5s finished\n"
     ]
    }
   ],
   "source": [
    "import pandas as pd\n",
    "from numpy import mean,std\n",
    "from sklearn.grid_search import GridSearchCV\n",
    "from sklearn.pipeline import Pipeline\n",
    "from sklearn.ensemble import ExtraTreesClassifier\n",
    "from sklearn.feature_selection import SelectFromModel \n",
    "from sklearn.naive_bayes import GaussianNB\n",
    "from sklearn.ensemble import (ExtraTreesClassifier, RandomForestClassifier, \n",
    "                              AdaBoostClassifier, GradientBoostingClassifier)\n",
    "from sklearn.svm import SVC\n",
    "\n",
    "min_max_scaler = MinMaxScaler(feature_range=(0, 1))\n",
    "model_tree = SelectFromModel(ExtraTreesClassifier(random_state=32), prefit=False)\n",
    "\n",
    "models = { \n",
    "    'GaussianNB':GaussianNB(),\n",
    "    #'ExtraTreesClassifier': ExtraTreesClassifier(),\n",
    "    'RandomForestClassifier': RandomForestClassifier(),\n",
    "    'AdaBoostClassifier': AdaBoostClassifier(),\n",
    "    'GradientBoostingClassifier': GradientBoostingClassifier()#,\n",
    "    #'SVC': SVC()\n",
    "}\n",
    "\n",
    "params_s = { \n",
    "    'GaussianNB': {'GaussianNB__priors':[None,[0.124,0.876]]},\n",
    "    #'ExtraTreesClassifier': { 'ExtraTreesClassifier__n_estimators': [16, 32] },\n",
    "    'RandomForestClassifier': { 'RandomForestClassifier__n_estimators': [16, 32,50,100],\n",
    "                                'RandomForestClassifier__min_samples_split': [2,3,4],\n",
    "                                'RandomForestClassifier__max_features':[3,4,5]},                   \n",
    "    'AdaBoostClassifier':  { 'AdaBoostClassifier__n_estimators': [16, 32]},\n",
    "    'GradientBoostingClassifier': { 'GradientBoostingClassifier__n_estimators': [16, 32],\n",
    "                                    'GradientBoostingClassifier__learning_rate': [0.8, 1.0]}#,\n",
    "    #'SVC':[\n",
    "    #    {'SVC__kernel': ['linear'], 'SVC__C': [1, 10]},\n",
    "    #    {'SVC__kernel': ['rbf','linear'], 'SVC__C': [1, 10], 'SVC__gamma': ['auto', 0.001, 0.0001]}\n",
    "    #   ]\n",
    "}\n",
    "\n",
    "params_selector ={'selector__threshold':['mean','0.5*mean','1.4*mean'] }\n",
    "\n",
    "keys = models.keys()\n",
    "grid_searches = {}\n",
    "    \n",
    "preparation = [('scaler',min_max_scaler)]\n",
    "              #,('selector',model_tree)]\n",
    "\n",
    "def scorer_r_p(estimator, X_test, y_test):\n",
    "    y_pred = estimator.predict(X_test)\n",
    "    r_score = recall_score(y_test, y_pred)\n",
    "    p_score = precision_score(y_test, y_pred)\n",
    "#    f1_score = f1_score(y_test, y_pred)\n",
    "    if r_score<0.3 or p_score<0.3:\n",
    "        return 0    \n",
    "    return r_score + p_score\n",
    "\n",
    "#------------------------fit ------------------------\n",
    "for key in models.keys():\n",
    "    print(\"------Running GridSearchCV for %s.------\" % key)\n",
    "    model = models[key]\n",
    "    params = params_s[key]\n",
    "    #if isinstance(params_s[key],list):\n",
    "    #    params = [dict(param.items() + params_selector.items()) for param in params_s[key]]           \n",
    "    #elif isinstance(params_s[key],dict):\n",
    "    #    params = dict(params_s[key].items() + params_selector.items())\n",
    "    estimators = preparation+[(key,model)]\n",
    "    print estimators\n",
    "    pipe= Pipeline(estimators) \n",
    "    print pipe\n",
    "    gs = GridSearchCV(pipe, params, cv=3, n_jobs=1, verbose=1, scoring='f1', refit=True)\n",
    "    gs.fit(X_train,y_train)\n",
    "    grid_searches[key] = gs     \n",
    "\n",
    "#------------------scores summary-------------------------    \n",
    "def row(k,scores,params):\n",
    "    d = {\n",
    "        'estimators': k,\n",
    "        'mean_score': mean(scores),\n",
    "        'min_score': min(scores),\n",
    "        'max_score': max(scores),\n",
    "        'std_score': std(scores)\n",
    "    }\n",
    "    return pd.Series(dict(d.items() + params.items()))\n",
    "\n",
    "\n",
    "rows = [row(k, gs.cv_validation_scores,gs.parameters)\n",
    "       for k in keys \n",
    "           for gs in grid_searches[k].grid_scores_]\n",
    "df = pd.concat(rows, axis=1).T.sort_values('mean_score',ascending=False)\n",
    "columns = ['estimators','mean_score','min_score','max_score','std_score']\n",
    "columns = columns + [col for col in df.columns.values if col not in columns]\n",
    "print df[columns]\n",
    "\n",
    "#-----------------best classifier------------------\n",
    "#grid_searches['AdaBoostClassifier'].best_estimator_.steps[2][1]\n"
   ]
  },
  {
   "cell_type": "code",
   "execution_count": 214,
   "metadata": {
    "collapsed": false,
    "scrolled": true
   },
   "outputs": [
    {
     "data": {
      "text/plain": [
       "[('scaler', MinMaxScaler(copy=True, feature_range=(0, 1))),\n",
       " ('selector',\n",
       "  SelectFromModel(estimator=ExtraTreesClassifier(bootstrap=False, class_weight=None, criterion='gini',\n",
       "             max_depth=None, max_features='auto', max_leaf_nodes=None,\n",
       "             min_impurity_split=1e-07, min_samples_leaf=1,\n",
       "             min_samples_split=2, min_weight_fraction_leaf=0.0,\n",
       "             n_estimators=10, n_jobs=1, oob_score=False, random_state=32,\n",
       "             verbose=0, warm_start=False),\n",
       "          prefit=False, threshold='0.5*mean')),\n",
       " ('AdaBoostClassifier',\n",
       "  AdaBoostClassifier(algorithm='SAMME.R', base_estimator=None,\n",
       "            learning_rate=1.0, n_estimators=32, random_state=None))]"
      ]
     },
     "execution_count": 214,
     "metadata": {},
     "output_type": "execute_result"
    }
   ],
   "source": [
    "grid_searches[df[columns].iloc[0,0]].best_estimator_.steps"
   ]
  },
  {
   "cell_type": "code",
   "execution_count": 146,
   "metadata": {
    "collapsed": false
   },
   "outputs": [
    {
     "data": {
      "text/plain": [
       "GridSearchCV(cv=None, error_score='raise',\n",
       "       estimator=SVC(C=1.0, cache_size=200, class_weight=None, coef0=0.0,\n",
       "  decision_function_shape=None, degree=3, gamma='auto', kernel='rbf',\n",
       "  max_iter=-1, probability=False, random_state=None, shrinking=True,\n",
       "  tol=0.001, verbose=False),\n",
       "       fit_params={}, iid=True, n_jobs=1,\n",
       "       param_grid={'kernel': ('linear', 'rbf'), 'C': [1, 10]},\n",
       "       pre_dispatch='2*n_jobs', refit=True, scoring=None, verbose=0)"
      ]
     },
     "execution_count": 146,
     "metadata": {},
     "output_type": "execute_result"
    }
   ],
   "source": [
    "#clf.best_score_\n",
    "clf"
   ]
  },
  {
   "cell_type": "markdown",
   "metadata": {},
   "source": [
    "### 用 model_selection 中的GridSearchCV"
   ]
  },
  {
   "cell_type": "code",
   "execution_count": 23,
   "metadata": {
    "collapsed": true
   },
   "outputs": [],
   "source": [
    "import pandas as pd\n",
    "from numpy import mean,std\n",
    "from sklearn.model_selection import GridSearchCV\n",
    "#from sklearn.grid_search import GridSearchCV\n",
    "\n",
    "'''\n",
    "refit : boolean, default=True\n",
    "Refit the best estimator with the entire dataset. \n",
    "If “False”, it is impossible to make predictions using this GridSearchCV instance after fitting.\n",
    "'''\n",
    "\n",
    "\n",
    "class ModelsSelector(object):\n",
    "\t\"\"\"docstring for ClassName\"\"\"\n",
    "\tdef __init__(self, models, params):\n",
    "\t\tif not set(models.keys()).issubset(set(params.keys())):\n",
    "\t\t\tmiss_models =  set(models.keys()) - set(params.keys())\n",
    "\t\t\traise ValueError(\"Some models are missing parameters: %s .\" % miss_models)\n",
    "\t\tself.models = models\n",
    "\t\tself.params = params\n",
    "\t\tself.keys = models.keys()\n",
    "\t\tself.grid_select = {}\n",
    "\n",
    "\tdef fit(self, X, y, cv=3, scoring=None, refit=False, verbose=1, n_jobs=1):\n",
    "\t\tfor key in self.keys:\n",
    "\t\t\tprint (\"Running GridSelectCV for %s .\" % key)\n",
    "\t\t\tmodel = self.models[key]\n",
    "\t\t\tparams = self.params[key]\n",
    "\t\t\tgs_cv = GridSearchCV(model, param_grid=params, cv=cv, scoring=scoring,\n",
    "\t\t\t\t\t\t\t\tn_jobs=n_jobs, refit=refit, verbose=verbose)\n",
    "\t\t\tgs_cv.fit\n",
    "\t\t\tself.grid_select[key] = gs_cv\n",
    "\n",
    "\n",
    "\tdef score_summary(self,sort_by='mean_score'):\n",
    "\t\tevaluate_keys = ['mean_test_score','std_test_score','mean_train_score','std_train_score','params','rank_test_score']\n",
    "\t\tcv_result_dfs = []\n",
    "\t\tfor k in self.keys:\n",
    "\t\t\tcv_result_dict = {}\n",
    "\t\t\tfor gs_cv_result_k, gs_cv_result_v in self.grid_select[k].cv_results_.items():\n",
    "\t\t\t\t#cv_result_df = pd.DataFrame.from_dict(cv_results_,orient='columns')\n",
    "\t\t\t\tif gs_cv_result_k in evaluate_keys:\n",
    "\t\t\t\t\tcv_result_dict[gs_cv_result_k] = gs_cv_result_v\n",
    " \t\t\tcv_result_dict['estimator'] = [k]*len(self.grid_select[k].cv_results_['mean_test_score'])\n",
    " \t\t\tcv_result_df = pd.DataFrame.from_dict(cv_result_dict,orient='columns')\n",
    " \t\t\tcv_result_dfs.append(cv_result_df)\n",
    " #[mydict[x] for x in evaluate_keys]\n",
    " \t\tcv_results = pd.concat(cv_result_dfs)\n",
    " \t\treturn cv_results\n"
   ]
  },
  {
   "cell_type": "code",
   "execution_count": 39,
   "metadata": {
    "collapsed": false
   },
   "outputs": [
    {
     "name": "stdout",
     "output_type": "stream",
     "text": [
      "Running GridSelectCV for SVC .\n",
      "Running GridSelectCV for AdaBoostClassifier .\n",
      "Running GridSelectCV for GradientBoostingClassifier .\n",
      "Running GridSelectCV for ExtraTreesClassifier .\n",
      "Running GridSelectCV for RandomForestClassifier .\n"
     ]
    }
   ],
   "source": [
    "helper2 = ModelsSelector(models1, params1)\n",
    "helper2.fit(X_train_new,y_train,cv=3, scoring='f1', n_jobs=-1)"
   ]
  },
  {
   "cell_type": "code",
   "execution_count": 40,
   "metadata": {
    "collapsed": false
   },
   "outputs": [
    {
     "ename": "AttributeError",
     "evalue": "'GridSearchCV' object has no attribute 'cv_results_'",
     "output_type": "error",
     "traceback": [
      "\u001b[0;31m---------------------------------------------------------------------------\u001b[0m",
      "\u001b[0;31mAttributeError\u001b[0m                            Traceback (most recent call last)",
      "\u001b[0;32m<ipython-input-40-fc648d9c5a77>\u001b[0m in \u001b[0;36m<module>\u001b[0;34m()\u001b[0m\n\u001b[0;32m----> 1\u001b[0;31m \u001b[0mhelper2\u001b[0m\u001b[0;34m.\u001b[0m\u001b[0mscore_summary\u001b[0m\u001b[0;34m(\u001b[0m\u001b[0msort_by\u001b[0m\u001b[0;34m=\u001b[0m\u001b[0;34m'mean_score'\u001b[0m\u001b[0;34m)\u001b[0m\u001b[0;34m\u001b[0m\u001b[0m\n\u001b[0m",
      "\u001b[0;32m<ipython-input-23-006a71216cb8>\u001b[0m in \u001b[0;36mscore_summary\u001b[0;34m(self, sort_by)\u001b[0m\n\u001b[1;32m     38\u001b[0m                 \u001b[0;32mfor\u001b[0m \u001b[0mk\u001b[0m \u001b[0;32min\u001b[0m \u001b[0mself\u001b[0m\u001b[0;34m.\u001b[0m\u001b[0mkeys\u001b[0m\u001b[0;34m:\u001b[0m\u001b[0;34m\u001b[0m\u001b[0m\n\u001b[1;32m     39\u001b[0m                         \u001b[0mcv_result_dict\u001b[0m \u001b[0;34m=\u001b[0m \u001b[0;34m{\u001b[0m\u001b[0;34m}\u001b[0m\u001b[0;34m\u001b[0m\u001b[0m\n\u001b[0;32m---> 40\u001b[0;31m                         \u001b[0;32mfor\u001b[0m \u001b[0mgs_cv_result_k\u001b[0m\u001b[0;34m,\u001b[0m \u001b[0mgs_cv_result_v\u001b[0m \u001b[0;32min\u001b[0m \u001b[0mself\u001b[0m\u001b[0;34m.\u001b[0m\u001b[0mgrid_select\u001b[0m\u001b[0;34m[\u001b[0m\u001b[0mk\u001b[0m\u001b[0;34m]\u001b[0m\u001b[0;34m.\u001b[0m\u001b[0mcv_results_\u001b[0m\u001b[0;34m.\u001b[0m\u001b[0mitems\u001b[0m\u001b[0;34m(\u001b[0m\u001b[0;34m)\u001b[0m\u001b[0;34m:\u001b[0m\u001b[0;34m\u001b[0m\u001b[0m\n\u001b[0m\u001b[1;32m     41\u001b[0m                                 \u001b[0;31m#cv_result_df = pd.DataFrame.from_dict(cv_results_,orient='columns')\u001b[0m\u001b[0;34m\u001b[0m\u001b[0;34m\u001b[0m\u001b[0m\n\u001b[1;32m     42\u001b[0m                                 \u001b[0;32mif\u001b[0m \u001b[0mgs_cv_result_k\u001b[0m \u001b[0;32min\u001b[0m \u001b[0mevaluate_keys\u001b[0m\u001b[0;34m:\u001b[0m\u001b[0;34m\u001b[0m\u001b[0m\n",
      "\u001b[0;31mAttributeError\u001b[0m: 'GridSearchCV' object has no attribute 'cv_results_'"
     ]
    }
   ],
   "source": [
    "helper2.score_summary(sort_by='mean_score')"
   ]
  },
  {
   "cell_type": "code",
   "execution_count": null,
   "metadata": {
    "collapsed": true
   },
   "outputs": [],
   "source": []
  }
 ],
 "metadata": {
  "kernelspec": {
   "display_name": "Python 2",
   "language": "python",
   "name": "python2"
  },
  "language_info": {
   "codemirror_mode": {
    "name": "ipython",
    "version": 2
   },
   "file_extension": ".py",
   "mimetype": "text/x-python",
   "name": "python",
   "nbconvert_exporter": "python",
   "pygments_lexer": "ipython2",
   "version": "2.7.12"
  }
 },
 "nbformat": 4,
 "nbformat_minor": 0
}
