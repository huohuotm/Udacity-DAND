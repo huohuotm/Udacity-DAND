{
 "cells": [
  {
   "cell_type": "code",
   "execution_count": 1,
   "metadata": {
    "collapsed": false
   },
   "outputs": [
    {
     "name": "stdout",
     "output_type": "stream",
     "text": [
      "/Users/weidian1/Documents/GitHub/Udacity-DAND/P5-Intro to ML/Project5/final_project\n"
     ]
    }
   ],
   "source": [
    "import os\n",
    "print os.getcwd()"
   ]
  },
  {
   "cell_type": "code",
   "execution_count": 2,
   "metadata": {
    "collapsed": false
   },
   "outputs": [
    {
     "name": "stderr",
     "output_type": "stream",
     "text": [
      "/Users/weidian1/anaconda/lib/python2.7/site-packages/sklearn/cross_validation.py:44: DeprecationWarning: This module was deprecated in version 0.18 in favor of the model_selection module into which all the refactored classes and functions are moved. Also note that the interface of the new CV iterators are different from that of this module. This module will be removed in 0.20.\n",
      "  \"This module will be removed in 0.20.\", DeprecationWarning)\n"
     ]
    }
   ],
   "source": [
    "#!/usr/bin/python\n",
    "\n",
    "import sys\n",
    "import pickle\n",
    "sys.path.append(\"../tools/\")\n",
    "sys.path.append(\"../pylof-master/\")\n",
    "\n",
    "from feature_format import featureFormat, targetFeatureSplit\n",
    "from tester import dump_classifier_and_data\n",
    "\n",
    "### Task 1: Select what features you'll use.\n",
    "### features_list is a list of strings, each of which is a feature name.\n",
    "### The first feature must be \"poi\".\n",
    "features_list = ['poi','salary',''] # You will need to use more features\n",
    "\n",
    "### Load the dictionary containing the dataset\n",
    "with open(\"final_project_dataset.pkl\", \"r\") as data_file:\n",
    "    data_dict = pickle.load(data_file)\n"
   ]
  },
  {
   "cell_type": "markdown",
   "metadata": {},
   "source": [
    "### Data Explore\n",
    "Student response addresses the most important characteristics of the dataset and uses these characteristics to inform their analysis. Important characteristics include:\n",
    "\n",
    "total number of data points  \n",
    "allocation across classes (POI/non-POI)  \n",
    "number of features used  \n",
    "are there features with many missing values? etc.  "
   ]
  },
  {
   "cell_type": "code",
   "execution_count": 3,
   "metadata": {
    "collapsed": false
   },
   "outputs": [
    {
     "name": "stdout",
     "output_type": "stream",
     "text": [
      "Total number of data points:  145\n",
      "Number of POI: 18, no. of non-POI: 127\n",
      "Number of features used:  21\n"
     ]
    }
   ],
   "source": [
    "# 异常值， 去掉total\n",
    "data_dict.pop('TOTAL', 0)\n",
    "\n",
    "n_poi,n_non_poi = 0,0\n",
    "for key in data_dict.keys():\n",
    "    if data_dict[key]['poi']==1:\n",
    "        n_poi+=1\n",
    "    else:\n",
    "        n_non_poi+=1\n",
    "             \n",
    "        \n",
    "        \n",
    "print \"Total number of data points: \", len(data_dict)\n",
    "print \"Number of POI: %d, no. of non-POI: %d\"% (n_poi, n_non_poi)\n",
    "print \"Number of features used: \",len(data_dict['METTS MARK']) # randomly pick one name, get the number of features."
   ]
  },
  {
   "cell_type": "code",
   "execution_count": 4,
   "metadata": {
    "collapsed": false
   },
   "outputs": [],
   "source": [
    "import pandas as pd\n",
    "import numpy as np\n",
    "\n",
    "df = pd.DataFrame.from_dict(data_dict,orient='index')\n"
   ]
  },
  {
   "cell_type": "code",
   "execution_count": 76,
   "metadata": {
    "collapsed": false
   },
   "outputs": [
    {
     "data": {
      "text/html": [
       "<div>\n",
       "<table border=\"1\" class=\"dataframe\">\n",
       "  <thead>\n",
       "    <tr style=\"text-align: right;\">\n",
       "      <th></th>\n",
       "      <th>salary</th>\n",
       "      <th>to_messages</th>\n",
       "      <th>deferral_payments</th>\n",
       "      <th>total_payments</th>\n",
       "      <th>exercised_stock_options</th>\n",
       "      <th>bonus</th>\n",
       "      <th>restricted_stock</th>\n",
       "      <th>shared_receipt_with_poi</th>\n",
       "      <th>restricted_stock_deferred</th>\n",
       "      <th>total_stock_value</th>\n",
       "      <th>...</th>\n",
       "      <th>loan_advances</th>\n",
       "      <th>from_messages</th>\n",
       "      <th>other</th>\n",
       "      <th>from_this_person_to_poi</th>\n",
       "      <th>poi</th>\n",
       "      <th>director_fees</th>\n",
       "      <th>deferred_income</th>\n",
       "      <th>long_term_incentive</th>\n",
       "      <th>email_address</th>\n",
       "      <th>from_poi_to_this_person</th>\n",
       "    </tr>\n",
       "  </thead>\n",
       "  <tbody>\n",
       "    <tr>\n",
       "      <th>ALLEN PHILLIP K</th>\n",
       "      <td>201955</td>\n",
       "      <td>2902</td>\n",
       "      <td>2869717</td>\n",
       "      <td>4484442</td>\n",
       "      <td>1729541</td>\n",
       "      <td>4175000</td>\n",
       "      <td>126027</td>\n",
       "      <td>1407</td>\n",
       "      <td>-126027</td>\n",
       "      <td>1729541</td>\n",
       "      <td>...</td>\n",
       "      <td>NaN</td>\n",
       "      <td>2195</td>\n",
       "      <td>152</td>\n",
       "      <td>65</td>\n",
       "      <td>False</td>\n",
       "      <td>NaN</td>\n",
       "      <td>-3081055</td>\n",
       "      <td>304805</td>\n",
       "      <td>phillip.allen@enron.com</td>\n",
       "      <td>47</td>\n",
       "    </tr>\n",
       "    <tr>\n",
       "      <th>BADUM JAMES P</th>\n",
       "      <td>NaN</td>\n",
       "      <td>NaN</td>\n",
       "      <td>178980</td>\n",
       "      <td>182466</td>\n",
       "      <td>257817</td>\n",
       "      <td>NaN</td>\n",
       "      <td>NaN</td>\n",
       "      <td>NaN</td>\n",
       "      <td>NaN</td>\n",
       "      <td>257817</td>\n",
       "      <td>...</td>\n",
       "      <td>NaN</td>\n",
       "      <td>NaN</td>\n",
       "      <td>NaN</td>\n",
       "      <td>NaN</td>\n",
       "      <td>False</td>\n",
       "      <td>NaN</td>\n",
       "      <td>NaN</td>\n",
       "      <td>NaN</td>\n",
       "      <td>NaN</td>\n",
       "      <td>NaN</td>\n",
       "    </tr>\n",
       "    <tr>\n",
       "      <th>BANNANTINE JAMES M</th>\n",
       "      <td>477</td>\n",
       "      <td>566</td>\n",
       "      <td>NaN</td>\n",
       "      <td>916197</td>\n",
       "      <td>4046157</td>\n",
       "      <td>NaN</td>\n",
       "      <td>1757552</td>\n",
       "      <td>465</td>\n",
       "      <td>-560222</td>\n",
       "      <td>5243487</td>\n",
       "      <td>...</td>\n",
       "      <td>NaN</td>\n",
       "      <td>29</td>\n",
       "      <td>864523</td>\n",
       "      <td>0</td>\n",
       "      <td>False</td>\n",
       "      <td>NaN</td>\n",
       "      <td>-5104</td>\n",
       "      <td>NaN</td>\n",
       "      <td>james.bannantine@enron.com</td>\n",
       "      <td>39</td>\n",
       "    </tr>\n",
       "    <tr>\n",
       "      <th>BAXTER JOHN C</th>\n",
       "      <td>267102</td>\n",
       "      <td>NaN</td>\n",
       "      <td>1295738</td>\n",
       "      <td>5634343</td>\n",
       "      <td>6680544</td>\n",
       "      <td>1200000</td>\n",
       "      <td>3942714</td>\n",
       "      <td>NaN</td>\n",
       "      <td>NaN</td>\n",
       "      <td>10623258</td>\n",
       "      <td>...</td>\n",
       "      <td>NaN</td>\n",
       "      <td>NaN</td>\n",
       "      <td>2660303</td>\n",
       "      <td>NaN</td>\n",
       "      <td>False</td>\n",
       "      <td>NaN</td>\n",
       "      <td>-1386055</td>\n",
       "      <td>1586055</td>\n",
       "      <td>NaN</td>\n",
       "      <td>NaN</td>\n",
       "    </tr>\n",
       "    <tr>\n",
       "      <th>BAY FRANKLIN R</th>\n",
       "      <td>239671</td>\n",
       "      <td>NaN</td>\n",
       "      <td>260455</td>\n",
       "      <td>827696</td>\n",
       "      <td>NaN</td>\n",
       "      <td>400000</td>\n",
       "      <td>145796</td>\n",
       "      <td>NaN</td>\n",
       "      <td>-82782</td>\n",
       "      <td>63014</td>\n",
       "      <td>...</td>\n",
       "      <td>NaN</td>\n",
       "      <td>NaN</td>\n",
       "      <td>69</td>\n",
       "      <td>NaN</td>\n",
       "      <td>False</td>\n",
       "      <td>NaN</td>\n",
       "      <td>-201641</td>\n",
       "      <td>NaN</td>\n",
       "      <td>frank.bay@enron.com</td>\n",
       "      <td>NaN</td>\n",
       "    </tr>\n",
       "  </tbody>\n",
       "</table>\n",
       "<p>5 rows × 21 columns</p>\n",
       "</div>"
      ],
      "text/plain": [
       "                    salary to_messages deferral_payments total_payments  \\\n",
       "ALLEN PHILLIP K     201955        2902           2869717        4484442   \n",
       "BADUM JAMES P          NaN         NaN            178980         182466   \n",
       "BANNANTINE JAMES M     477         566               NaN         916197   \n",
       "BAXTER JOHN C       267102         NaN           1295738        5634343   \n",
       "BAY FRANKLIN R      239671         NaN            260455         827696   \n",
       "\n",
       "                   exercised_stock_options    bonus restricted_stock  \\\n",
       "ALLEN PHILLIP K                    1729541  4175000           126027   \n",
       "BADUM JAMES P                       257817      NaN              NaN   \n",
       "BANNANTINE JAMES M                 4046157      NaN          1757552   \n",
       "BAXTER JOHN C                      6680544  1200000          3942714   \n",
       "BAY FRANKLIN R                         NaN   400000           145796   \n",
       "\n",
       "                   shared_receipt_with_poi restricted_stock_deferred  \\\n",
       "ALLEN PHILLIP K                       1407                   -126027   \n",
       "BADUM JAMES P                          NaN                       NaN   \n",
       "BANNANTINE JAMES M                     465                   -560222   \n",
       "BAXTER JOHN C                          NaN                       NaN   \n",
       "BAY FRANKLIN R                         NaN                    -82782   \n",
       "\n",
       "                   total_stock_value           ...           loan_advances  \\\n",
       "ALLEN PHILLIP K              1729541           ...                     NaN   \n",
       "BADUM JAMES P                 257817           ...                     NaN   \n",
       "BANNANTINE JAMES M           5243487           ...                     NaN   \n",
       "BAXTER JOHN C               10623258           ...                     NaN   \n",
       "BAY FRANKLIN R                 63014           ...                     NaN   \n",
       "\n",
       "                   from_messages    other from_this_person_to_poi    poi  \\\n",
       "ALLEN PHILLIP K             2195      152                      65  False   \n",
       "BADUM JAMES P                NaN      NaN                     NaN  False   \n",
       "BANNANTINE JAMES M            29   864523                       0  False   \n",
       "BAXTER JOHN C                NaN  2660303                     NaN  False   \n",
       "BAY FRANKLIN R               NaN       69                     NaN  False   \n",
       "\n",
       "                   director_fees deferred_income long_term_incentive  \\\n",
       "ALLEN PHILLIP K              NaN        -3081055              304805   \n",
       "BADUM JAMES P                NaN             NaN                 NaN   \n",
       "BANNANTINE JAMES M           NaN           -5104                 NaN   \n",
       "BAXTER JOHN C                NaN        -1386055             1586055   \n",
       "BAY FRANKLIN R               NaN         -201641                 NaN   \n",
       "\n",
       "                                 email_address from_poi_to_this_person  \n",
       "ALLEN PHILLIP K        phillip.allen@enron.com                      47  \n",
       "BADUM JAMES P                              NaN                     NaN  \n",
       "BANNANTINE JAMES M  james.bannantine@enron.com                      39  \n",
       "BAXTER JOHN C                              NaN                     NaN  \n",
       "BAY FRANKLIN R             frank.bay@enron.com                     NaN  \n",
       "\n",
       "[5 rows x 21 columns]"
      ]
     },
     "execution_count": 76,
     "metadata": {},
     "output_type": "execute_result"
    }
   ],
   "source": [
    "df.head(5)"
   ]
  },
  {
   "cell_type": "code",
   "execution_count": 77,
   "metadata": {
    "collapsed": false
   },
   "outputs": [
    {
     "name": "stdout",
     "output_type": "stream",
     "text": [
      "salary                        0\n",
      "to_messages                  59\n",
      "deferral_payments             0\n",
      "total_payments                0\n",
      "exercised_stock_options       0\n",
      "bonus                         0\n",
      "restricted_stock              0\n",
      "shared_receipt_with_poi      59\n",
      "restricted_stock_deferred     0\n",
      "total_stock_value             0\n",
      "expenses                      0\n",
      "loan_advances                 0\n",
      "from_messages                59\n",
      "other                         0\n",
      "from_this_person_to_poi      59\n",
      "poi                           0\n",
      "director_fees                 0\n",
      "deferred_income               0\n",
      "long_term_incentive           0\n",
      "email_address                34\n",
      "from_poi_to_this_person      59\n",
      "dtype: int64\n"
     ]
    }
   ],
   "source": [
    "financial_features = ['salary', 'deferral_payments', 'total_payments', 'loan_advances', 'bonus'\n",
    "                 , 'restricted_stock_deferred', 'deferred_income', 'total_stock_value', 'expenses'\n",
    "                 , 'exercised_stock_options', 'other', 'long_term_incentive', 'restricted_stock'\n",
    "                 , 'director_fees']\n",
    "email_fatures = ['to_messages','from_poi_to_this_person', 'from_messages', 'from_this_person_to_poi'\n",
    "                 , 'shared_receipt_with_poi']  # remove 'email_address'\n",
    "def NaNs_to_0s(col):\n",
    "    return [0 if ele=='NaN' else ele for ele in col]\n",
    "\n",
    "def count_NAN(col):\n",
    "    return sum(1 for ele in col if ele == 'NaN')\n",
    "\n",
    "df[financial_features] = df[financial_features].apply(NaNs_to_0s, axis=0)\n",
    "print df.apply(count_NAN, axis=0)    "
   ]
  },
  {
   "cell_type": "markdown",
   "metadata": {},
   "source": [
    "> One thing that should be noted about the financial features is that the values were extracted from the \"final_project/enron61702insiderpay.pdf\" document. Cells in the table marked as \"-\" are parsed as NaN values in the saved data dictionary, but actually represent values of 0. https://discussions.udacity.com/t/how-to-start-the-final-project/177617/6  \n",
    "\n",
    "\n"
   ]
  },
  {
   "cell_type": "code",
   "execution_count": 78,
   "metadata": {
    "collapsed": false
   },
   "outputs": [
    {
     "name": "stdout",
     "output_type": "stream",
     "text": [
      "                              to_messages from_poi_to_this_person  \\\n",
      "BADUM JAMES P                         NaN                     NaN   \n",
      "BAXTER JOHN C                         NaN                     NaN   \n",
      "BAY FRANKLIN R                        NaN                     NaN   \n",
      "BAZELIDES PHILIP J                    NaN                     NaN   \n",
      "BELFER ROBERT                         NaN                     NaN   \n",
      "BERBERIAN DAVID                       NaN                     NaN   \n",
      "BLAKE JR. NORMAN P                    NaN                     NaN   \n",
      "BUTTS ROBERT H                        NaN                     NaN   \n",
      "CHAN RONNIE                           NaN                     NaN   \n",
      "CHRISTODOULOU DIOMEDES                NaN                     NaN   \n",
      "CLINE KENNETH W                       NaN                     NaN   \n",
      "CUMBERLAND MICHAEL S                  NaN                     NaN   \n",
      "DETMERING TIMOTHY J                   NaN                     NaN   \n",
      "DIMICHELE RICHARD G                   NaN                     NaN   \n",
      "DUNCAN JOHN H                         NaN                     NaN   \n",
      "ECHOLS JOHN B                         NaN                     NaN   \n",
      "ELLIOTT STEVEN                        NaN                     NaN   \n",
      "FASTOW ANDREW S                       NaN                     NaN   \n",
      "FUGH JOHN L                           NaN                     NaN   \n",
      "GAHN ROBERT S                         NaN                     NaN   \n",
      "GATHMANN WILLIAM D                    NaN                     NaN   \n",
      "GILLIS JOHN                           NaN                     NaN   \n",
      "GOLD JOSEPH                           NaN                     NaN   \n",
      "GRAMM WENDY L                         NaN                     NaN   \n",
      "GRAY RODNEY                           NaN                     NaN   \n",
      "HERMANN ROBERT J                      NaN                     NaN   \n",
      "HIRKO JOSEPH                          NaN                     NaN   \n",
      "JAEDICKE ROBERT                       NaN                     NaN   \n",
      "KISHKILL JOSEPH G                     NaN                     NaN   \n",
      "KOPPER MICHAEL J                      NaN                     NaN   \n",
      "LEMAISTRE CHARLES                     NaN                     NaN   \n",
      "LINDHOLM TOD A                        NaN                     NaN   \n",
      "LOCKHART EUGENE E                     NaN                     NaN   \n",
      "LOWRY CHARLES P                       NaN                     NaN   \n",
      "MENDELSOHN JOHN                       NaN                     NaN   \n",
      "MEYER JEROME J                        NaN                     NaN   \n",
      "MORDAUNT KRISTINA M                   NaN                     NaN   \n",
      "NOLES JAMES L                         NaN                     NaN   \n",
      "OVERDYKE JR JERE C                    NaN                     NaN   \n",
      "PAI LOU L                             NaN                     NaN   \n",
      "PEREIRA PAULO V. FERRAZ               NaN                     NaN   \n",
      "PRENTICE JAMES                        NaN                     NaN   \n",
      "REYNOLDS LAWRENCE                     NaN                     NaN   \n",
      "SAVAGE FRANK                          NaN                     NaN   \n",
      "SCRIMSHAW MATTHEW                     NaN                     NaN   \n",
      "STABLER FRANK                         NaN                     NaN   \n",
      "SULLIVAN-SHAKLOVITZ COLLEEN           NaN                     NaN   \n",
      "THE TRAVEL AGENCY IN THE PARK         NaN                     NaN   \n",
      "URQUHART JOHN A                       NaN                     NaN   \n",
      "WAKEHAM JOHN                          NaN                     NaN   \n",
      "WALTERS GARETH W                      NaN                     NaN   \n",
      "WESTFAHL RICHARD K                    NaN                     NaN   \n",
      "WHALEY DAVID A                        NaN                     NaN   \n",
      "WHITE JR THOMAS E                     NaN                     NaN   \n",
      "WINOKUR JR. HERBERT S                 NaN                     NaN   \n",
      "WODRASKA JOHN                         NaN                     NaN   \n",
      "WROBEL BRUCE                          NaN                     NaN   \n",
      "YEAGER F SCOTT                        NaN                     NaN   \n",
      "YEAP SOON                             NaN                     NaN   \n",
      "\n",
      "                              from_messages from_this_person_to_poi  \\\n",
      "BADUM JAMES P                           NaN                     NaN   \n",
      "BAXTER JOHN C                           NaN                     NaN   \n",
      "BAY FRANKLIN R                          NaN                     NaN   \n",
      "BAZELIDES PHILIP J                      NaN                     NaN   \n",
      "BELFER ROBERT                           NaN                     NaN   \n",
      "BERBERIAN DAVID                         NaN                     NaN   \n",
      "BLAKE JR. NORMAN P                      NaN                     NaN   \n",
      "BUTTS ROBERT H                          NaN                     NaN   \n",
      "CHAN RONNIE                             NaN                     NaN   \n",
      "CHRISTODOULOU DIOMEDES                  NaN                     NaN   \n",
      "CLINE KENNETH W                         NaN                     NaN   \n",
      "CUMBERLAND MICHAEL S                    NaN                     NaN   \n",
      "DETMERING TIMOTHY J                     NaN                     NaN   \n",
      "DIMICHELE RICHARD G                     NaN                     NaN   \n",
      "DUNCAN JOHN H                           NaN                     NaN   \n",
      "ECHOLS JOHN B                           NaN                     NaN   \n",
      "ELLIOTT STEVEN                          NaN                     NaN   \n",
      "FASTOW ANDREW S                         NaN                     NaN   \n",
      "FUGH JOHN L                             NaN                     NaN   \n",
      "GAHN ROBERT S                           NaN                     NaN   \n",
      "GATHMANN WILLIAM D                      NaN                     NaN   \n",
      "GILLIS JOHN                             NaN                     NaN   \n",
      "GOLD JOSEPH                             NaN                     NaN   \n",
      "GRAMM WENDY L                           NaN                     NaN   \n",
      "GRAY RODNEY                             NaN                     NaN   \n",
      "HERMANN ROBERT J                        NaN                     NaN   \n",
      "HIRKO JOSEPH                            NaN                     NaN   \n",
      "JAEDICKE ROBERT                         NaN                     NaN   \n",
      "KISHKILL JOSEPH G                       NaN                     NaN   \n",
      "KOPPER MICHAEL J                        NaN                     NaN   \n",
      "LEMAISTRE CHARLES                       NaN                     NaN   \n",
      "LINDHOLM TOD A                          NaN                     NaN   \n",
      "LOCKHART EUGENE E                       NaN                     NaN   \n",
      "LOWRY CHARLES P                         NaN                     NaN   \n",
      "MENDELSOHN JOHN                         NaN                     NaN   \n",
      "MEYER JEROME J                          NaN                     NaN   \n",
      "MORDAUNT KRISTINA M                     NaN                     NaN   \n",
      "NOLES JAMES L                           NaN                     NaN   \n",
      "OVERDYKE JR JERE C                      NaN                     NaN   \n",
      "PAI LOU L                               NaN                     NaN   \n",
      "PEREIRA PAULO V. FERRAZ                 NaN                     NaN   \n",
      "PRENTICE JAMES                          NaN                     NaN   \n",
      "REYNOLDS LAWRENCE                       NaN                     NaN   \n",
      "SAVAGE FRANK                            NaN                     NaN   \n",
      "SCRIMSHAW MATTHEW                       NaN                     NaN   \n",
      "STABLER FRANK                           NaN                     NaN   \n",
      "SULLIVAN-SHAKLOVITZ COLLEEN             NaN                     NaN   \n",
      "THE TRAVEL AGENCY IN THE PARK           NaN                     NaN   \n",
      "URQUHART JOHN A                         NaN                     NaN   \n",
      "WAKEHAM JOHN                            NaN                     NaN   \n",
      "WALTERS GARETH W                        NaN                     NaN   \n",
      "WESTFAHL RICHARD K                      NaN                     NaN   \n",
      "WHALEY DAVID A                          NaN                     NaN   \n",
      "WHITE JR THOMAS E                       NaN                     NaN   \n",
      "WINOKUR JR. HERBERT S                   NaN                     NaN   \n",
      "WODRASKA JOHN                           NaN                     NaN   \n",
      "WROBEL BRUCE                            NaN                     NaN   \n",
      "YEAGER F SCOTT                          NaN                     NaN   \n",
      "YEAP SOON                               NaN                     NaN   \n",
      "\n",
      "                              shared_receipt_with_poi    poi  salary  \n",
      "BADUM JAMES P                                     NaN  False       0  \n",
      "BAXTER JOHN C                                     NaN  False  267102  \n",
      "BAY FRANKLIN R                                    NaN  False  239671  \n",
      "BAZELIDES PHILIP J                                NaN  False   80818  \n",
      "BELFER ROBERT                                     NaN  False       0  \n",
      "BERBERIAN DAVID                                   NaN  False  216582  \n",
      "BLAKE JR. NORMAN P                                NaN  False       0  \n",
      "BUTTS ROBERT H                                    NaN  False  261516  \n",
      "CHAN RONNIE                                       NaN  False       0  \n",
      "CHRISTODOULOU DIOMEDES                            NaN  False       0  \n",
      "CLINE KENNETH W                                   NaN  False       0  \n",
      "CUMBERLAND MICHAEL S                              NaN  False  184899  \n",
      "DETMERING TIMOTHY J                               NaN  False  210500  \n",
      "DIMICHELE RICHARD G                               NaN  False  262788  \n",
      "DUNCAN JOHN H                                     NaN  False       0  \n",
      "ECHOLS JOHN B                                     NaN  False  182245  \n",
      "ELLIOTT STEVEN                                    NaN  False  170941  \n",
      "FASTOW ANDREW S                                   NaN   True  440698  \n",
      "FUGH JOHN L                                       NaN  False       0  \n",
      "GAHN ROBERT S                                     NaN  False  192008  \n",
      "GATHMANN WILLIAM D                                NaN  False       0  \n",
      "GILLIS JOHN                                       NaN  False       0  \n",
      "GOLD JOSEPH                                       NaN  False  272880  \n",
      "GRAMM WENDY L                                     NaN  False       0  \n",
      "GRAY RODNEY                                       NaN  False    6615  \n",
      "HERMANN ROBERT J                                  NaN  False  262663  \n",
      "HIRKO JOSEPH                                      NaN   True       0  \n",
      "JAEDICKE ROBERT                                   NaN  False       0  \n",
      "KISHKILL JOSEPH G                                 NaN  False  174246  \n",
      "KOPPER MICHAEL J                                  NaN   True  224305  \n",
      "LEMAISTRE CHARLES                                 NaN  False       0  \n",
      "LINDHOLM TOD A                                    NaN  False  236457  \n",
      "LOCKHART EUGENE E                                 NaN  False       0  \n",
      "LOWRY CHARLES P                                   NaN  False       0  \n",
      "MENDELSOHN JOHN                                   NaN  False       0  \n",
      "MEYER JEROME J                                    NaN  False       0  \n",
      "MORDAUNT KRISTINA M                               NaN  False  267093  \n",
      "NOLES JAMES L                                     NaN  False       0  \n",
      "OVERDYKE JR JERE C                                NaN  False   94941  \n",
      "PAI LOU L                                         NaN  False  261879  \n",
      "PEREIRA PAULO V. FERRAZ                           NaN  False       0  \n",
      "PRENTICE JAMES                                    NaN  False       0  \n",
      "REYNOLDS LAWRENCE                                 NaN  False   76399  \n",
      "SAVAGE FRANK                                      NaN  False       0  \n",
      "SCRIMSHAW MATTHEW                                 NaN  False       0  \n",
      "STABLER FRANK                                     NaN  False  239502  \n",
      "SULLIVAN-SHAKLOVITZ COLLEEN                       NaN  False  162779  \n",
      "THE TRAVEL AGENCY IN THE PARK                     NaN  False       0  \n",
      "URQUHART JOHN A                                   NaN  False       0  \n",
      "WAKEHAM JOHN                                      NaN  False       0  \n",
      "WALTERS GARETH W                                  NaN  False       0  \n",
      "WESTFAHL RICHARD K                                NaN  False   63744  \n",
      "WHALEY DAVID A                                    NaN  False       0  \n",
      "WHITE JR THOMAS E                                 NaN  False  317543  \n",
      "WINOKUR JR. HERBERT S                             NaN  False       0  \n",
      "WODRASKA JOHN                                     NaN  False       0  \n",
      "WROBEL BRUCE                                      NaN  False       0  \n",
      "YEAGER F SCOTT                                    NaN   True  158403  \n",
      "YEAP SOON                                         NaN  False       0  \n"
     ]
    }
   ],
   "source": [
    "# if the same person missing email_features\n",
    "feas = email_fatures + ['poi','salary']\n",
    "print df.ix[(df['to_messages']=='NaN')][feas]\n"
   ]
  },
  {
   "cell_type": "markdown",
   "metadata": {},
   "source": [
    "有且只有59个人email_features(except email_address) 全部missing，其余人没有任何feature missing。\n",
    "\n",
    "FASTOW ANDREW S ;the chief financial officer of Enron Corporation\n",
    "HIRKO JOSEPH :former co-chief executive officer of Enron Broadband Services (EBS)\n",
    "KOPPER MICHAEL J:a former Enron Corporation finance executive, ran illicit partnerships allowing the company to conceal debt off its balance sheets.\n",
    "WROBEL BRUCE : Senior Vice President of Strategic Development for Enron Broadband Services (EBS)"
   ]
  },
  {
   "cell_type": "code",
   "execution_count": 5,
   "metadata": {
    "collapsed": false
   },
   "outputs": [
    {
     "name": "stdout",
     "output_type": "stream",
     "text": [
      "{'salary': 365788, 'to_messages': 807, 'deferral_payments': 'NaN', 'total_payments': 1061827, 'exercised_stock_options': 'NaN', 'bonus': 600000, 'restricted_stock': 585062, 'shared_receipt_with_poi': 702, 'restricted_stock_deferred': 'NaN', 'total_stock_value': 585062, 'expenses': 94299, 'loan_advances': 'NaN', 'from_messages': 29, 'other': 1740, 'from_this_person_to_poi': 1, 'poi': False, 'director_fees': 'NaN', 'deferred_income': 'NaN', 'long_term_incentive': 'NaN', 'email_address': 'mark.metts@enron.com', 'from_poi_to_this_person': 38}\n"
     ]
    }
   ],
   "source": [
    "print data_dict['METTS MARK']\n",
    "features_list = ['poi','salary', 'deferral_payments', 'total_payments', 'loan_advances', 'bonus'\n",
    "                 , 'restricted_stock_deferred', 'deferred_income', 'total_stock_value', 'expenses'\n",
    "                 , 'exercised_stock_options', 'other', 'long_term_incentive', 'restricted_stock', 'director_fees'\n",
    "                 ,'to_messages', 'from_poi_to_this_person', 'from_messages', 'from_this_person_to_poi'\n",
    "                 , 'shared_receipt_with_poi'] # You will need to use more features"
   ]
  },
  {
   "cell_type": "markdown",
   "metadata": {},
   "source": [
    "* financial features: ['salary', 'deferral_payments', 'total_payments', 'loan_advances', 'bonus', 'restricted_stock_deferred', 'deferred_income', 'total_stock_value', 'expenses', 'exercised_stock_options', 'other', 'long_term_incentive', 'restricted_stock', 'director_fees'] (all units are in US dollars)\n",
    "\n",
    "* email features: ['to_messages', 'email_address', 'from_poi_to_this_person', 'from_messages', 'from_this_person_to_poi', 'shared_receipt_with_poi'] (units are generally number of emails messages; notable exception is ‘email_address’, which is a text string) \n",
    "* POI label: [‘poi’] (boolean, represented as integer)"
   ]
  },
  {
   "cell_type": "code",
   "execution_count": 22,
   "metadata": {
    "collapsed": false
   },
   "outputs": [],
   "source": [
    "### Store to my_dataset for easy export below.\n",
    "my_dataset = data_dict\n",
    "\n",
    "### Extract features and labels from dataset for local testing\n",
    "data = featureFormat(my_dataset, features_list, sort_keys = True)\n",
    "labels, features = targetFeatureSplit(data)\n"
   ]
  },
  {
   "cell_type": "code",
   "execution_count": null,
   "metadata": {
    "collapsed": true
   },
   "outputs": [],
   "source": [
    "# outliers lof\n",
    "features_tuples = [tuple(row) for row in features]\n",
    "from lof import outliers\n",
    "lof = outliers(20, features_tuples)\n",
    "\n",
    "for outlier in lof:\n",
    "    print outlier[\"lof\"],outlier[\"instance\"]  "
   ]
  },
  {
   "cell_type": "code",
   "execution_count": 24,
   "metadata": {
    "collapsed": false
   },
   "outputs": [
    {
     "name": "stdout",
     "output_type": "stream",
     "text": [
      "shape of X_train:  (100, 19)\n",
      "[ 0.07597011  0.02106515  0.04194739  0.02004991  0.1376218   0.01235172\n",
      "  0.06241739  0.04597266  0.1018082   0.08935221  0.05750866  0.04914737\n",
      "  0.06703985  0.00171173  0.03369883  0.04670702  0.04292946  0.05600735\n",
      "  0.03669318]\n",
      "shape of X_train_new:  (100, 8)\n"
     ]
    }
   ],
   "source": [
    "# split train test dataset\n",
    "from sklearn.model_selection import train_test_split\n",
    "X_train, X_test, y_train, y_test = train_test_split(features, labels, test_size=0.3, random_state=42)\n",
    "X_train = np.array(X_train)\n",
    "y_train = np.array(y_train)\n",
    "# TODO: Shuffle the data\n",
    "from sklearn.utils import shuffle\n",
    "X_train, y_train = shuffle(X_train, y_train, random_state=0)\n",
    "\n",
    "# tree selection\n",
    "from sklearn.ensemble import ExtraTreesClassifier\n",
    "from sklearn.feature_selection import SelectFromModel\n",
    "print \"shape of X_train: \", X_train.shape\n",
    "\n",
    "clf_tree = ExtraTreesClassifier(random_state=32)\n",
    "clf_tree = clf_tree.fit(X_train, y_train)\n",
    "print clf_tree.feature_importances_  \n",
    "\n",
    "model_tree = SelectFromModel(clf_tree, prefit=True)\n",
    "X_train_new = model_tree.transform(X_train)\n",
    "print \"shape of X_train_new: \", X_train_new.shape               \n"
   ]
  },
  {
   "cell_type": "code",
   "execution_count": 43,
   "metadata": {
    "collapsed": false
   },
   "outputs": [
    {
     "name": "stdout",
     "output_type": "stream",
     "text": [
      "['poi', 'bonus', 'expenses', 'exercised_stock_options', 'salary', 'restricted_stock', 'deferred_income', 'other', 'from_this_person_to_poi']\n",
      "[4, 8, 9, 0, 12, 6, 10, 17]\n"
     ]
    }
   ],
   "source": [
    "#reselect features by feature_importances_\n",
    "fea_imp = clf_tree.feature_importances_\n",
    "features_new_index = sorted(range(len(fea_imp)), key=lambda k: fea_imp[k], reverse = True)[:8]\n",
    "features_new_list=[]\n",
    "for f in features_new_index:\n",
    "    features_new_list.append(features_list[1:][f])\n",
    "features_new_list = ['poi'] +features_new_list    \n",
    "\n",
    "print features_new_list\n",
    "print features_new_index"
   ]
  },
  {
   "cell_type": "code",
   "execution_count": 50,
   "metadata": {
    "collapsed": true
   },
   "outputs": [],
   "source": [
    "### Task 2: Remove outliers\n",
    "### Task 3: Create new feature(s)\n",
    "### Store to my_dataset for easy export below.\n",
    "my_dataset = data_dict\n",
    "\n",
    "### Extract features and labels from dataset for local testing\n",
    "data = featureFormat(my_dataset, features_list, sort_keys = True)\n",
    "labels, features = targetFeatureSplit(data)\n",
    "labels = np.array(labels)\n",
    "features = np.array(features)\n"
   ]
  },
  {
   "cell_type": "code",
   "execution_count": 56,
   "metadata": {
    "collapsed": false
   },
   "outputs": [
    {
     "data": {
      "text/plain": [
       "numpy.ndarray"
      ]
     },
     "execution_count": 56,
     "metadata": {},
     "output_type": "execute_result"
    }
   ],
   "source": [
    "type(features)"
   ]
  },
  {
   "cell_type": "code",
   "execution_count": null,
   "metadata": {
    "collapsed": true
   },
   "outputs": [],
   "source": [
    "### Task 4: Try a varity of classifiers\n",
    "### Please name your classifier clf for easy export below.\n",
    "### Note that if you want to do PCA or other multi-stage operations,\n",
    "### you'll need to use Pipelines. For more info:\n",
    "### http://scikit-learn.org/stable/modules/pipeline.html\n",
    "\n",
    "# Provided to give you a starting point. Try a variety of classifiers.\n",
    "from sklearn.naive_bayes import GaussianNB\n",
    "clf = GaussianNB()\n",
    "\n",
    "\n"
   ]
  },
  {
   "cell_type": "code",
   "execution_count": 52,
   "metadata": {
    "collapsed": true
   },
   "outputs": [],
   "source": [
    "### Task 5: Tune your classifier to achieve better than .3 precision and recall \n",
    "### using our testing script. Check the tester.py script in the final project\n",
    "### folder for details on the evaluation method, especially the test_classifier\n",
    "### function. Because of the small size of the dataset, the script uses\n",
    "### stratified shuffle split cross validation. For more info: \n",
    "### http://scikit-learn.org/stable/modules/generated/sklearn.cross_validation.StratifiedShuffleSplit.html\n",
    "\n",
    "# Example starting point. Try investigating other evaluation techniques!\n",
    "from sklearn.cross_validation import train_test_split\n",
    "features_train, features_test, labels_train, labels_test = \\\n",
    "    train_test_split(features, labels, test_size=0.3, random_state=42)\n"
   ]
  },
  {
   "cell_type": "code",
   "execution_count": 60,
   "metadata": {
    "collapsed": false
   },
   "outputs": [
    {
     "data": {
      "text/plain": [
       "array([ 0.,  0.,  0.,  0.,  0.,  0.,  0.,  1.,  0.,  0.,  0.,  1.,  0.,\n",
       "        0.,  0.,  0.,  0.,  0.,  0.,  0.,  0.,  0.,  0.,  0.,  0.,  0.,\n",
       "        0.,  0.,  0.,  0.,  0.,  0.,  0.,  0.,  0.,  0.,  1.,  1.,  0.,\n",
       "        0.,  0.,  0.,  0.,  0.])"
      ]
     },
     "execution_count": 60,
     "metadata": {},
     "output_type": "execute_result"
    }
   ],
   "source": [
    "from sklearn.naive_bayes import GaussianNB\n",
    "clf = GaussianNB()\n",
    "clf.fit(features_train, labels_train)\n",
    "clf.predict(features_test)"
   ]
  },
  {
   "cell_type": "code",
   "execution_count": 61,
   "metadata": {
    "collapsed": false
   },
   "outputs": [
    {
     "name": "stdout",
     "output_type": "stream",
     "text": [
      "recall_score:  0.4\n",
      "precision_score:  0.5\n"
     ]
    }
   ],
   "source": [
    "from sklearn.metrics import recall_score\n",
    "from sklearn.metrics import precision_score\n",
    "print \"recall_score: \",recall_score(labels_test, clf.predict(features_test))\n",
    "print \"precision_score: \",precision_score(labels_test, clf.predict(features_test))  \n"
   ]
  },
  {
   "cell_type": "code",
   "execution_count": null,
   "metadata": {
    "collapsed": true
   },
   "outputs": [],
   "source": [
    "### Task 6: Dump your classifier, dataset, and features_list so anyone can\n",
    "### check your results. You do not need to change anything below, but make sure\n",
    "### that the version of poi_id.py that you submit can be run on its own and\n",
    "### generates the necessary .pkl files for validating your results.\n",
    "\n",
    "dump_classifier_and_data(clf, my_dataset, features_list)"
   ]
  }
 ],
 "metadata": {
  "kernelspec": {
   "display_name": "Python 2",
   "language": "python",
   "name": "python2"
  },
  "language_info": {
   "codemirror_mode": {
    "name": "ipython",
    "version": 2
   },
   "file_extension": ".py",
   "mimetype": "text/x-python",
   "name": "python",
   "nbconvert_exporter": "python",
   "pygments_lexer": "ipython2",
   "version": "2.7.12"
  }
 },
 "nbformat": 4,
 "nbformat_minor": 0
}
