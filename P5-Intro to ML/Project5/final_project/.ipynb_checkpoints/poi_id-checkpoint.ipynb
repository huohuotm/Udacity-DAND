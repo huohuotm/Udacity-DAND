{
 "cells": [
  {
   "cell_type": "code",
   "execution_count": 1,
   "metadata": {
    "collapsed": false
   },
   "outputs": [
    {
     "name": "stdout",
     "output_type": "stream",
     "text": [
      "/Users/weidian1/Documents/GitHub/Udacity-DAND/P5-Intro to ML/Project5/final_project\n"
     ]
    }
   ],
   "source": [
    "import os\n",
    "print os.getcwd()"
   ]
  },
  {
   "cell_type": "code",
   "execution_count": 113,
   "metadata": {
    "collapsed": false
   },
   "outputs": [],
   "source": [
    "#!/usr/bin/python\n",
    "\n",
    "import sys\n",
    "import pickle\n",
    "sys.path.append(\"../tools/\")\n",
    "#sys.path.append(\"../pylof-master/\")\n",
    "\n",
    "from feature_format import featureFormat, targetFeatureSplit\n",
    "from tester import dump_classifier_and_data\n",
    "\n",
    "### Task 1: Select what features you'll use.\n",
    "### features_list is a list of strings, each of which is a feature name.\n",
    "### The first feature must be \"poi\".\n",
    "#features_list = ['poi','salary',''] # You will need to use more features\n",
    "\n",
    "### Load the dictionary containing the dataset\n",
    "with open(\"final_project_dataset.pkl\", \"r\") as data_file:\n",
    "    data_dict = pickle.load(data_file)\n"
   ]
  },
  {
   "cell_type": "markdown",
   "metadata": {},
   "source": [
    "### Data Explore\n",
    "Student response addresses the most important characteristics of the dataset and uses these characteristics to inform their analysis. Important characteristics include:\n",
    "\n",
    "total number of data points  \n",
    "allocation across classes (POI/non-POI)  \n",
    "number of features used  \n",
    "are there features with many missing values? etc.  "
   ]
  },
  {
   "cell_type": "code",
   "execution_count": 114,
   "metadata": {
    "collapsed": false
   },
   "outputs": [
    {
     "name": "stdout",
     "output_type": "stream",
     "text": [
      "Total number of data points:  145\n",
      "Number of POI: 18, no. of non-POI: 127\n",
      "Number of features used:  21\n"
     ]
    }
   ],
   "source": [
    "# 异常值， 去掉total\n",
    "data_dict.pop('TOTAL', 0)\n",
    "\n",
    "n_poi,n_non_poi = 0,0\n",
    "for key in data_dict.keys():\n",
    "    if data_dict[key]['poi']==1:\n",
    "        n_poi+=1\n",
    "    else:\n",
    "        n_non_poi+=1\n",
    "             \n",
    "        \n",
    "        \n",
    "print \"Total number of data points: \", len(data_dict)\n",
    "print \"Number of POI: %d, no. of non-POI: %d\"% (n_poi, n_non_poi)\n",
    "print \"Number of features used: \",len(data_dict['METTS MARK']) # randomly pick one name, get the number of features."
   ]
  },
  {
   "cell_type": "code",
   "execution_count": 115,
   "metadata": {
    "collapsed": false
   },
   "outputs": [],
   "source": [
    "import pandas as pd\n",
    "import numpy as np\n",
    "\n",
    "df = pd.DataFrame.from_dict(data_dict,orient='index')\n",
    "#df.head(5)"
   ]
  },
  {
   "cell_type": "code",
   "execution_count": 116,
   "metadata": {
    "collapsed": false
   },
   "outputs": [
    {
     "name": "stdout",
     "output_type": "stream",
     "text": [
      "salary                        0\n",
      "to_messages                  59\n",
      "deferral_payments             0\n",
      "total_payments                0\n",
      "exercised_stock_options       0\n",
      "bonus                         0\n",
      "restricted_stock              0\n",
      "shared_receipt_with_poi      59\n",
      "restricted_stock_deferred     0\n",
      "total_stock_value             0\n",
      "expenses                      0\n",
      "loan_advances                 0\n",
      "from_messages                59\n",
      "other                         0\n",
      "from_this_person_to_poi      59\n",
      "poi                           0\n",
      "director_fees                 0\n",
      "deferred_income               0\n",
      "long_term_incentive           0\n",
      "email_address                34\n",
      "from_poi_to_this_person      59\n",
      "dtype: int64\n"
     ]
    }
   ],
   "source": [
    "financial_features = ['salary', 'deferral_payments', 'total_payments', 'loan_advances', 'bonus'\n",
    "                 , 'restricted_stock_deferred', 'deferred_income', 'total_stock_value', 'expenses'\n",
    "                 , 'exercised_stock_options', 'other', 'long_term_incentive', 'restricted_stock'\n",
    "                 , 'director_fees']\n",
    "email_fatures = ['to_messages','from_poi_to_this_person', 'from_messages', 'from_this_person_to_poi'\n",
    "                 , 'shared_receipt_with_poi']  # remove 'email_address'\n",
    "def NaNs_to_0s(col):\n",
    "    return [0 if ele=='NaN' else ele for ele in col]\n",
    "\n",
    "def count_NAN(col):\n",
    "    return sum(1 for ele in col if ele == 'NaN')\n",
    "\n",
    "df[financial_features] = df[financial_features].apply(NaNs_to_0s, axis=0)\n",
    "df['poi'] = df['poi'].astype(int)\n",
    "print df.apply(count_NAN, axis=0)    "
   ]
  },
  {
   "cell_type": "markdown",
   "metadata": {},
   "source": [
    "> One thing that should be noted about the financial features is that the values were extracted from the \"final_project/enron61702insiderpay.pdf\" document. Cells in the table marked as \"-\" are parsed as NaN values in the saved data dictionary, but actually represent values of 0. https://discussions.udacity.com/t/how-to-start-the-final-project/177617/6  \n",
    "\n",
    "\n"
   ]
  },
  {
   "cell_type": "code",
   "execution_count": 87,
   "metadata": {
    "collapsed": false
   },
   "outputs": [
    {
     "name": "stdout",
     "output_type": "stream",
     "text": [
      "                              to_messages from_poi_to_this_person  \\\n",
      "BADUM JAMES P                         NaN                     NaN   \n",
      "BAXTER JOHN C                         NaN                     NaN   \n",
      "BAY FRANKLIN R                        NaN                     NaN   \n",
      "BAZELIDES PHILIP J                    NaN                     NaN   \n",
      "BELFER ROBERT                         NaN                     NaN   \n",
      "BERBERIAN DAVID                       NaN                     NaN   \n",
      "BLAKE JR. NORMAN P                    NaN                     NaN   \n",
      "BUTTS ROBERT H                        NaN                     NaN   \n",
      "CHAN RONNIE                           NaN                     NaN   \n",
      "CHRISTODOULOU DIOMEDES                NaN                     NaN   \n",
      "CLINE KENNETH W                       NaN                     NaN   \n",
      "CUMBERLAND MICHAEL S                  NaN                     NaN   \n",
      "DETMERING TIMOTHY J                   NaN                     NaN   \n",
      "DIMICHELE RICHARD G                   NaN                     NaN   \n",
      "DUNCAN JOHN H                         NaN                     NaN   \n",
      "ECHOLS JOHN B                         NaN                     NaN   \n",
      "ELLIOTT STEVEN                        NaN                     NaN   \n",
      "FASTOW ANDREW S                       NaN                     NaN   \n",
      "FUGH JOHN L                           NaN                     NaN   \n",
      "GAHN ROBERT S                         NaN                     NaN   \n",
      "GATHMANN WILLIAM D                    NaN                     NaN   \n",
      "GILLIS JOHN                           NaN                     NaN   \n",
      "GOLD JOSEPH                           NaN                     NaN   \n",
      "GRAMM WENDY L                         NaN                     NaN   \n",
      "GRAY RODNEY                           NaN                     NaN   \n",
      "HERMANN ROBERT J                      NaN                     NaN   \n",
      "HIRKO JOSEPH                          NaN                     NaN   \n",
      "JAEDICKE ROBERT                       NaN                     NaN   \n",
      "KISHKILL JOSEPH G                     NaN                     NaN   \n",
      "KOPPER MICHAEL J                      NaN                     NaN   \n",
      "LEMAISTRE CHARLES                     NaN                     NaN   \n",
      "LINDHOLM TOD A                        NaN                     NaN   \n",
      "LOCKHART EUGENE E                     NaN                     NaN   \n",
      "LOWRY CHARLES P                       NaN                     NaN   \n",
      "MENDELSOHN JOHN                       NaN                     NaN   \n",
      "MEYER JEROME J                        NaN                     NaN   \n",
      "MORDAUNT KRISTINA M                   NaN                     NaN   \n",
      "NOLES JAMES L                         NaN                     NaN   \n",
      "OVERDYKE JR JERE C                    NaN                     NaN   \n",
      "PAI LOU L                             NaN                     NaN   \n",
      "PEREIRA PAULO V. FERRAZ               NaN                     NaN   \n",
      "PRENTICE JAMES                        NaN                     NaN   \n",
      "REYNOLDS LAWRENCE                     NaN                     NaN   \n",
      "SAVAGE FRANK                          NaN                     NaN   \n",
      "SCRIMSHAW MATTHEW                     NaN                     NaN   \n",
      "STABLER FRANK                         NaN                     NaN   \n",
      "SULLIVAN-SHAKLOVITZ COLLEEN           NaN                     NaN   \n",
      "THE TRAVEL AGENCY IN THE PARK         NaN                     NaN   \n",
      "URQUHART JOHN A                       NaN                     NaN   \n",
      "WAKEHAM JOHN                          NaN                     NaN   \n",
      "WALTERS GARETH W                      NaN                     NaN   \n",
      "WESTFAHL RICHARD K                    NaN                     NaN   \n",
      "WHALEY DAVID A                        NaN                     NaN   \n",
      "WHITE JR THOMAS E                     NaN                     NaN   \n",
      "WINOKUR JR. HERBERT S                 NaN                     NaN   \n",
      "WODRASKA JOHN                         NaN                     NaN   \n",
      "WROBEL BRUCE                          NaN                     NaN   \n",
      "YEAGER F SCOTT                        NaN                     NaN   \n",
      "YEAP SOON                             NaN                     NaN   \n",
      "\n",
      "                              from_messages from_this_person_to_poi  \\\n",
      "BADUM JAMES P                           NaN                     NaN   \n",
      "BAXTER JOHN C                           NaN                     NaN   \n",
      "BAY FRANKLIN R                          NaN                     NaN   \n",
      "BAZELIDES PHILIP J                      NaN                     NaN   \n",
      "BELFER ROBERT                           NaN                     NaN   \n",
      "BERBERIAN DAVID                         NaN                     NaN   \n",
      "BLAKE JR. NORMAN P                      NaN                     NaN   \n",
      "BUTTS ROBERT H                          NaN                     NaN   \n",
      "CHAN RONNIE                             NaN                     NaN   \n",
      "CHRISTODOULOU DIOMEDES                  NaN                     NaN   \n",
      "CLINE KENNETH W                         NaN                     NaN   \n",
      "CUMBERLAND MICHAEL S                    NaN                     NaN   \n",
      "DETMERING TIMOTHY J                     NaN                     NaN   \n",
      "DIMICHELE RICHARD G                     NaN                     NaN   \n",
      "DUNCAN JOHN H                           NaN                     NaN   \n",
      "ECHOLS JOHN B                           NaN                     NaN   \n",
      "ELLIOTT STEVEN                          NaN                     NaN   \n",
      "FASTOW ANDREW S                         NaN                     NaN   \n",
      "FUGH JOHN L                             NaN                     NaN   \n",
      "GAHN ROBERT S                           NaN                     NaN   \n",
      "GATHMANN WILLIAM D                      NaN                     NaN   \n",
      "GILLIS JOHN                             NaN                     NaN   \n",
      "GOLD JOSEPH                             NaN                     NaN   \n",
      "GRAMM WENDY L                           NaN                     NaN   \n",
      "GRAY RODNEY                             NaN                     NaN   \n",
      "HERMANN ROBERT J                        NaN                     NaN   \n",
      "HIRKO JOSEPH                            NaN                     NaN   \n",
      "JAEDICKE ROBERT                         NaN                     NaN   \n",
      "KISHKILL JOSEPH G                       NaN                     NaN   \n",
      "KOPPER MICHAEL J                        NaN                     NaN   \n",
      "LEMAISTRE CHARLES                       NaN                     NaN   \n",
      "LINDHOLM TOD A                          NaN                     NaN   \n",
      "LOCKHART EUGENE E                       NaN                     NaN   \n",
      "LOWRY CHARLES P                         NaN                     NaN   \n",
      "MENDELSOHN JOHN                         NaN                     NaN   \n",
      "MEYER JEROME J                          NaN                     NaN   \n",
      "MORDAUNT KRISTINA M                     NaN                     NaN   \n",
      "NOLES JAMES L                           NaN                     NaN   \n",
      "OVERDYKE JR JERE C                      NaN                     NaN   \n",
      "PAI LOU L                               NaN                     NaN   \n",
      "PEREIRA PAULO V. FERRAZ                 NaN                     NaN   \n",
      "PRENTICE JAMES                          NaN                     NaN   \n",
      "REYNOLDS LAWRENCE                       NaN                     NaN   \n",
      "SAVAGE FRANK                            NaN                     NaN   \n",
      "SCRIMSHAW MATTHEW                       NaN                     NaN   \n",
      "STABLER FRANK                           NaN                     NaN   \n",
      "SULLIVAN-SHAKLOVITZ COLLEEN             NaN                     NaN   \n",
      "THE TRAVEL AGENCY IN THE PARK           NaN                     NaN   \n",
      "URQUHART JOHN A                         NaN                     NaN   \n",
      "WAKEHAM JOHN                            NaN                     NaN   \n",
      "WALTERS GARETH W                        NaN                     NaN   \n",
      "WESTFAHL RICHARD K                      NaN                     NaN   \n",
      "WHALEY DAVID A                          NaN                     NaN   \n",
      "WHITE JR THOMAS E                       NaN                     NaN   \n",
      "WINOKUR JR. HERBERT S                   NaN                     NaN   \n",
      "WODRASKA JOHN                           NaN                     NaN   \n",
      "WROBEL BRUCE                            NaN                     NaN   \n",
      "YEAGER F SCOTT                          NaN                     NaN   \n",
      "YEAP SOON                               NaN                     NaN   \n",
      "\n",
      "                              shared_receipt_with_poi    poi  salary  \n",
      "BADUM JAMES P                                     NaN  False       0  \n",
      "BAXTER JOHN C                                     NaN  False  267102  \n",
      "BAY FRANKLIN R                                    NaN  False  239671  \n",
      "BAZELIDES PHILIP J                                NaN  False   80818  \n",
      "BELFER ROBERT                                     NaN  False       0  \n",
      "BERBERIAN DAVID                                   NaN  False  216582  \n",
      "BLAKE JR. NORMAN P                                NaN  False       0  \n",
      "BUTTS ROBERT H                                    NaN  False  261516  \n",
      "CHAN RONNIE                                       NaN  False       0  \n",
      "CHRISTODOULOU DIOMEDES                            NaN  False       0  \n",
      "CLINE KENNETH W                                   NaN  False       0  \n",
      "CUMBERLAND MICHAEL S                              NaN  False  184899  \n",
      "DETMERING TIMOTHY J                               NaN  False  210500  \n",
      "DIMICHELE RICHARD G                               NaN  False  262788  \n",
      "DUNCAN JOHN H                                     NaN  False       0  \n",
      "ECHOLS JOHN B                                     NaN  False  182245  \n",
      "ELLIOTT STEVEN                                    NaN  False  170941  \n",
      "FASTOW ANDREW S                                   NaN   True  440698  \n",
      "FUGH JOHN L                                       NaN  False       0  \n",
      "GAHN ROBERT S                                     NaN  False  192008  \n",
      "GATHMANN WILLIAM D                                NaN  False       0  \n",
      "GILLIS JOHN                                       NaN  False       0  \n",
      "GOLD JOSEPH                                       NaN  False  272880  \n",
      "GRAMM WENDY L                                     NaN  False       0  \n",
      "GRAY RODNEY                                       NaN  False    6615  \n",
      "HERMANN ROBERT J                                  NaN  False  262663  \n",
      "HIRKO JOSEPH                                      NaN   True       0  \n",
      "JAEDICKE ROBERT                                   NaN  False       0  \n",
      "KISHKILL JOSEPH G                                 NaN  False  174246  \n",
      "KOPPER MICHAEL J                                  NaN   True  224305  \n",
      "LEMAISTRE CHARLES                                 NaN  False       0  \n",
      "LINDHOLM TOD A                                    NaN  False  236457  \n",
      "LOCKHART EUGENE E                                 NaN  False       0  \n",
      "LOWRY CHARLES P                                   NaN  False       0  \n",
      "MENDELSOHN JOHN                                   NaN  False       0  \n",
      "MEYER JEROME J                                    NaN  False       0  \n",
      "MORDAUNT KRISTINA M                               NaN  False  267093  \n",
      "NOLES JAMES L                                     NaN  False       0  \n",
      "OVERDYKE JR JERE C                                NaN  False   94941  \n",
      "PAI LOU L                                         NaN  False  261879  \n",
      "PEREIRA PAULO V. FERRAZ                           NaN  False       0  \n",
      "PRENTICE JAMES                                    NaN  False       0  \n",
      "REYNOLDS LAWRENCE                                 NaN  False   76399  \n",
      "SAVAGE FRANK                                      NaN  False       0  \n",
      "SCRIMSHAW MATTHEW                                 NaN  False       0  \n",
      "STABLER FRANK                                     NaN  False  239502  \n",
      "SULLIVAN-SHAKLOVITZ COLLEEN                       NaN  False  162779  \n",
      "THE TRAVEL AGENCY IN THE PARK                     NaN  False       0  \n",
      "URQUHART JOHN A                                   NaN  False       0  \n",
      "WAKEHAM JOHN                                      NaN  False       0  \n",
      "WALTERS GARETH W                                  NaN  False       0  \n",
      "WESTFAHL RICHARD K                                NaN  False   63744  \n",
      "WHALEY DAVID A                                    NaN  False       0  \n",
      "WHITE JR THOMAS E                                 NaN  False  317543  \n",
      "WINOKUR JR. HERBERT S                             NaN  False       0  \n",
      "WODRASKA JOHN                                     NaN  False       0  \n",
      "WROBEL BRUCE                                      NaN  False       0  \n",
      "YEAGER F SCOTT                                    NaN   True  158403  \n",
      "YEAP SOON                                         NaN  False       0  \n"
     ]
    }
   ],
   "source": [
    "# if the same person missing email_features\n",
    "feas = email_fatures + ['poi','salary']\n",
    "print df.ix[(df['to_messages']=='NaN')][feas]\n"
   ]
  },
  {
   "cell_type": "markdown",
   "metadata": {},
   "source": [
    "有且只有59个人email_features(except email_address) 全部missing，其余人没有任何feature missing。\n",
    "\n",
    "FASTOW ANDREW S ;the chief financial officer of Enron Corporation\n",
    "HIRKO JOSEPH :former co-chief executive officer of Enron Broadband Services (EBS)\n",
    "KOPPER MICHAEL J:a former Enron Corporation finance executive, ran illicit partnerships allowing the company to conceal debt off its balance sheets.\n",
    "WROBEL BRUCE : Senior Vice President of Strategic Development for Enron Broadband Services (EBS)"
   ]
  },
  {
   "cell_type": "code",
   "execution_count": 5,
   "metadata": {
    "collapsed": false
   },
   "outputs": [
    {
     "name": "stdout",
     "output_type": "stream",
     "text": [
      "{'salary': 365788, 'to_messages': 807, 'deferral_payments': 'NaN', 'total_payments': 1061827, 'exercised_stock_options': 'NaN', 'bonus': 600000, 'restricted_stock': 585062, 'shared_receipt_with_poi': 702, 'restricted_stock_deferred': 'NaN', 'total_stock_value': 585062, 'expenses': 94299, 'loan_advances': 'NaN', 'from_messages': 29, 'other': 1740, 'from_this_person_to_poi': 1, 'poi': False, 'director_fees': 'NaN', 'deferred_income': 'NaN', 'long_term_incentive': 'NaN', 'email_address': 'mark.metts@enron.com', 'from_poi_to_this_person': 38}\n"
     ]
    }
   ],
   "source": [
    "print data_dict['METTS MARK']\n",
    "features_list = ['poi','salary', 'deferral_payments', 'total_payments', 'loan_advances', 'bonus'\n",
    "                 , 'restricted_stock_deferred', 'deferred_income', 'total_stock_value', 'expenses'\n",
    "                 , 'exercised_stock_options', 'other', 'long_term_incentive', 'restricted_stock', 'director_fees'\n",
    "                 ,'to_messages', 'from_poi_to_this_person', 'from_messages', 'from_this_person_to_poi'\n",
    "                 , 'shared_receipt_with_poi'] # You will need to use more features"
   ]
  },
  {
   "cell_type": "markdown",
   "metadata": {},
   "source": [
    "* financial features: ['salary', 'deferral_payments', 'total_payments', 'loan_advances', 'bonus', 'restricted_stock_deferred', 'deferred_income', 'total_stock_value', 'expenses', 'exercised_stock_options', 'other', 'long_term_incentive', 'restricted_stock', 'director_fees'] (all units are in US dollars)\n",
    "\n",
    "* email features: ['to_messages', 'email_address', 'from_poi_to_this_person', 'from_messages', 'from_this_person_to_poi', 'shared_receipt_with_poi'] (units are generally number of emails messages; notable exception is ‘email_address’, which is a text string) \n",
    "* POI label: [‘poi’] (boolean, represented as integer)"
   ]
  },
  {
   "cell_type": "code",
   "execution_count": 118,
   "metadata": {
    "collapsed": false
   },
   "outputs": [],
   "source": [
    "# make new feature 'email_features_miss': if email_features is missing. next step, missing email_features will be\n",
    "#transformed to 0, which should by different from missing financial features. \n",
    "df['email_features_miss'] = df.apply(lambda x: 1 if x[\"to_messages\"]=='NaN' else 0, axis = 1)\n"
   ]
  },
  {
   "cell_type": "code",
   "execution_count": 238,
   "metadata": {
    "collapsed": false,
    "scrolled": true
   },
   "outputs": [
    {
     "data": {
      "text/plain": [
       "salary                                                201955\n",
       "to_messages                                             2902\n",
       "deferral_payments                                    2869717\n",
       "total_payments                                       4484442\n",
       "exercised_stock_options                              1729541\n",
       "bonus                                                4175000\n",
       "restricted_stock                                      126027\n",
       "shared_receipt_with_poi                                 1407\n",
       "restricted_stock_deferred                            -126027\n",
       "total_stock_value                                    1729541\n",
       "expenses                                               13868\n",
       "loan_advances                                              0\n",
       "from_messages                                           2195\n",
       "other                                                    152\n",
       "from_this_person_to_poi                                   65\n",
       "poi                                                        0\n",
       "director_fees                                              0\n",
       "deferred_income                                     -3081055\n",
       "long_term_incentive                                   304805\n",
       "email_address                        phillip.allen@enron.com\n",
       "from_poi_to_this_person                                   47\n",
       "email_features_miss                                        0\n",
       "bonus_six                                                  1\n",
       "bonus_over_zero                                            1\n",
       "bonus_seven                                                4\n",
       "expenses_over_zero                                         1\n",
       "expenses_five                                              1\n",
       "expenses_six                                               0\n",
       "exercised_stock_options_over_zero                          1\n",
       "restricted_stock_six                                       1\n",
       "bonus_first                                                0\n",
       "exercised_stock_options_six                                7\n",
       "exercised_stock_options_seven                              1\n",
       "exercised_stock_options_eight                              0\n",
       "salary_over_zero                                           1\n",
       "salary_six                                                 2\n",
       "salary_seven                                               0\n",
       "restricted_stock_over_zero                                 1\n",
       "restricted_stock_seven                                     0\n",
       "restricted_stock_eight                                     0\n",
       "deferred_income_over_zero                                  0\n",
       "deferred_income_five                                       8\n",
       "deferred_income_six                                        0\n",
       "deferred_income_seven                                      3\n",
       "other_over_zero                                            1\n",
       "other_six                                                  0\n",
       "other_seven                                                0\n",
       "other_eight                                                0\n",
       "Name: ALLEN PHILLIP K, dtype: object"
      ]
     },
     "execution_count": 238,
     "metadata": {},
     "output_type": "execute_result"
    }
   ],
   "source": [
    "#df.shape\n",
    "df.iloc[0]"
   ]
  },
  {
   "cell_type": "code",
   "execution_count": 148,
   "metadata": {
    "collapsed": false
   },
   "outputs": [
    {
     "data": {
      "text/html": [
       "<div>\n",
       "<table border=\"1\" class=\"dataframe\">\n",
       "  <thead>\n",
       "    <tr style=\"text-align: right;\">\n",
       "      <th></th>\n",
       "      <th>bonus</th>\n",
       "      <th>expenses</th>\n",
       "      <th>exercised_stock_options</th>\n",
       "      <th>salary</th>\n",
       "      <th>restricted_stock</th>\n",
       "      <th>deferred_income</th>\n",
       "      <th>other</th>\n",
       "    </tr>\n",
       "  </thead>\n",
       "  <tbody>\n",
       "    <tr>\n",
       "      <th>count</th>\n",
       "      <td>1.450000e+02</td>\n",
       "      <td>145.000000</td>\n",
       "      <td>1.450000e+02</td>\n",
       "      <td>1.450000e+02</td>\n",
       "      <td>1.450000e+02</td>\n",
       "      <td>1.450000e+02</td>\n",
       "      <td>1.450000e+02</td>\n",
       "    </tr>\n",
       "    <tr>\n",
       "      <th>mean</th>\n",
       "      <td>6.713353e+05</td>\n",
       "      <td>35131.372414</td>\n",
       "      <td>2.061486e+06</td>\n",
       "      <td>1.841671e+05</td>\n",
       "      <td>8.625464e+05</td>\n",
       "      <td>-1.923475e+05</td>\n",
       "      <td>2.952100e+05</td>\n",
       "    </tr>\n",
       "    <tr>\n",
       "      <th>std</th>\n",
       "      <td>1.230148e+06</td>\n",
       "      <td>45247.175705</td>\n",
       "      <td>4.781941e+06</td>\n",
       "      <td>1.969598e+05</td>\n",
       "      <td>2.010852e+06</td>\n",
       "      <td>6.041174e+05</td>\n",
       "      <td>1.127404e+06</td>\n",
       "    </tr>\n",
       "    <tr>\n",
       "      <th>min</th>\n",
       "      <td>0.000000e+00</td>\n",
       "      <td>0.000000</td>\n",
       "      <td>0.000000e+00</td>\n",
       "      <td>0.000000e+00</td>\n",
       "      <td>-2.604490e+06</td>\n",
       "      <td>-3.504386e+06</td>\n",
       "      <td>0.000000e+00</td>\n",
       "    </tr>\n",
       "    <tr>\n",
       "      <th>25%</th>\n",
       "      <td>0.000000e+00</td>\n",
       "      <td>0.000000</td>\n",
       "      <td>0.000000e+00</td>\n",
       "      <td>0.000000e+00</td>\n",
       "      <td>0.000000e+00</td>\n",
       "      <td>-3.666600e+04</td>\n",
       "      <td>0.000000e+00</td>\n",
       "    </tr>\n",
       "    <tr>\n",
       "      <th>50%</th>\n",
       "      <td>3.000000e+05</td>\n",
       "      <td>18834.000000</td>\n",
       "      <td>6.078370e+05</td>\n",
       "      <td>2.105000e+05</td>\n",
       "      <td>3.605280e+05</td>\n",
       "      <td>0.000000e+00</td>\n",
       "      <td>9.470000e+02</td>\n",
       "    </tr>\n",
       "    <tr>\n",
       "      <th>75%</th>\n",
       "      <td>8.000000e+05</td>\n",
       "      <td>53122.000000</td>\n",
       "      <td>1.668260e+06</td>\n",
       "      <td>2.690760e+05</td>\n",
       "      <td>6.989200e+05</td>\n",
       "      <td>0.000000e+00</td>\n",
       "      <td>1.504580e+05</td>\n",
       "    </tr>\n",
       "    <tr>\n",
       "      <th>max</th>\n",
       "      <td>8.000000e+06</td>\n",
       "      <td>228763.000000</td>\n",
       "      <td>3.434838e+07</td>\n",
       "      <td>1.111258e+06</td>\n",
       "      <td>1.476169e+07</td>\n",
       "      <td>0.000000e+00</td>\n",
       "      <td>1.035973e+07</td>\n",
       "    </tr>\n",
       "  </tbody>\n",
       "</table>\n",
       "</div>"
      ],
      "text/plain": [
       "              bonus       expenses  exercised_stock_options        salary  \\\n",
       "count  1.450000e+02     145.000000             1.450000e+02  1.450000e+02   \n",
       "mean   6.713353e+05   35131.372414             2.061486e+06  1.841671e+05   \n",
       "std    1.230148e+06   45247.175705             4.781941e+06  1.969598e+05   \n",
       "min    0.000000e+00       0.000000             0.000000e+00  0.000000e+00   \n",
       "25%    0.000000e+00       0.000000             0.000000e+00  0.000000e+00   \n",
       "50%    3.000000e+05   18834.000000             6.078370e+05  2.105000e+05   \n",
       "75%    8.000000e+05   53122.000000             1.668260e+06  2.690760e+05   \n",
       "max    8.000000e+06  228763.000000             3.434838e+07  1.111258e+06   \n",
       "\n",
       "       restricted_stock  deferred_income         other  \n",
       "count      1.450000e+02     1.450000e+02  1.450000e+02  \n",
       "mean       8.625464e+05    -1.923475e+05  2.952100e+05  \n",
       "std        2.010852e+06     6.041174e+05  1.127404e+06  \n",
       "min       -2.604490e+06    -3.504386e+06  0.000000e+00  \n",
       "25%        0.000000e+00    -3.666600e+04  0.000000e+00  \n",
       "50%        3.605280e+05     0.000000e+00  9.470000e+02  \n",
       "75%        6.989200e+05     0.000000e+00  1.504580e+05  \n",
       "max        1.476169e+07     0.000000e+00  1.035973e+07  "
      ]
     },
     "execution_count": 148,
     "metadata": {},
     "output_type": "execute_result"
    }
   ],
   "source": [
    "df[['bonus', 'expenses', 'exercised_stock_options', 'salary', 'restricted_stock', 'deferred_income'\n",
    ", 'other', 'from_this_person_to_poi']].describe()"
   ]
  },
  {
   "cell_type": "code",
   "execution_count": 237,
   "metadata": {
    "collapsed": false
   },
   "outputs": [],
   "source": [
    "\"\"\"create new features\n",
    "\"\"\"\n",
    "def get_new(col,p):\n",
    "    return (df[col].apply(abs)/(10**(p-1))%10).astype(int)\n",
    "def over_zero(ele):\n",
    "    if ele>0:\n",
    "        return 1\n",
    "    return 0\n",
    "\n",
    "def add_new_features(df):\n",
    "    df[\"bonus_over_zero\"] = df['bonus'].apply(over_zero)\n",
    "    df[\"bonus_six\"] = get_new(\"bonus\",6)\n",
    "    df[\"bonus_seven\"] = get_new(\"bonus\",7)\n",
    "    \n",
    "    df[\"expenses_over_zero\"] = df[\"expenses\"].apply(over_zero)\n",
    "    df[\"expenses_five\"] = get_new(\"expenses\",5)\n",
    "    df[\"expenses_six\"] = get_new(\"expenses\",6)\n",
    "    \n",
    "    df[\"exercised_stock_options_over_zero\"] = df[\"exercised_stock_options\"].apply(over_zero)\n",
    "    df[\"exercised_stock_options_six\"] = get_new(\"exercised_stock_options\",6)\n",
    "    df[\"exercised_stock_options_seven\"] = get_new(\"exercised_stock_options\",7)\n",
    "    df[\"exercised_stock_options_eight\"] = get_new(\"exercised_stock_options\",8)\n",
    "    \n",
    "    df[\"salary_over_zero\"] = df[\"salary\"].apply(over_zero)\n",
    "    df[\"salary_six\"] = get_new(\"salary\",6)\n",
    "    df[\"salary_seven\"] = get_new(\"salary\",7)\n",
    "    \n",
    "    df[\"restricted_stock_over_zero\"] = df[\"restricted_stock\"].apply(over_zero)\n",
    "    df[\"restricted_stock_six\"] = get_new(\"restricted_stock\",6)\n",
    "    df[\"restricted_stock_seven\"] = get_new(\"restricted_stock\",7)\n",
    "    df[\"restricted_stock_eight\"] = get_new(\"restricted_stock\",8)\n",
    "    \n",
    "    df[\"deferred_income_over_zero\"] = df[\"deferred_income\"].apply(over_zero)\n",
    "    df[\"deferred_income_five\"] = get_new(\"deferred_income\",5)\n",
    "    df[\"deferred_income_six\"] = get_new(\"deferred_income\",6)\n",
    "    df[\"deferred_income_seven\"] = get_new(\"deferred_income\",7)\n",
    "    \n",
    "    df[\"other_over_zero\"] = df[\"other\"].apply(over_zero)\n",
    "    df[\"other_six\"] = get_new(\"other\",6)\n",
    "    df[\"other_seven\"] = get_new(\"other\",7)\n",
    "    df[\"other_eight\"] = get_new(\"other\",8)\n",
    "    return df\n",
    "\n",
    "df = add_new_features(df)\n"
   ]
  },
  {
   "cell_type": "code",
   "execution_count": 129,
   "metadata": {
    "collapsed": false
   },
   "outputs": [
    {
     "data": {
      "image/png": "[encoded data removed]",
      "text/plain": [
       "<matplotlib.figure.Figure at 0x11bdf6210>"
      ]
     },
     "metadata": {},
     "output_type": "display_data"
    }
   ],
   "source": [
    "\"\"\"Plot \n",
    "importanct features:\n",
    "    ['bonus', 'expenses', 'exercised_stock_options', 'salary', 'restricted_stock', 'deferred_income'\n",
    ", 'other', 'from_this_person_to_poi']\n",
    "\"\"\"\n",
    "\n",
    "import matplotlib.pyplot as plt\n",
    "%matplotlib inline  \n",
    "\n",
    "\n",
    "colors=['blue','red']\n",
    "for ele in range(df.shape[0]):\n",
    "    x,y = df.iloc[ele][['salary','bonus']]\n",
    "    if x>800000 or y>6000000:\n",
    "        pass\n",
    "    else:\n",
    "        poi = df.iloc[ele]['poi']\n",
    "        plt.scatter(x,y,color=colors[poi])\n"
   ]
  },
  {
   "cell_type": "code",
   "execution_count": 140,
   "metadata": {
    "collapsed": false,
    "scrolled": true
   },
   "outputs": [
    {
     "data": {
      "image/png": "[encoded data removed]",
      "text/plain": [
       "<matplotlib.figure.Figure at 0x11b4a9090>"
      ]
     },
     "metadata": {},
     "output_type": "display_data"
    }
   ],
   "source": [
    "colors=['blue','red']\n",
    "for ele in range(df.shape[0]):\n",
    "    x,y = df.iloc[ele][['expenses','bonus']]\n",
    "\n",
    "    poi = df.iloc[ele]['poi']\n",
    "    plt.scatter(x,y,color=colors[poi])\n"
   ]
  },
  {
   "cell_type": "code",
   "execution_count": null,
   "metadata": {
    "collapsed": true
   },
   "outputs": [],
   "source": [
    "#%matplotlib inline\n",
    "import seaborn as sns\n",
    "#import matplotlib.pyplot as plt\n",
    "from numpy import median\n",
    "sns.set_style(\"whitegrid\")\n",
    "tips = sns.load_dataset(\"tips\")\n",
    "ax = sns.barplot(x=\"day\", y=\"total_bill\", data=tips,ci=None)#,estimator=median,ci=95 ) #默认统计均值\n",
    "\n",
    "#给柱状图添加数据标签\n",
    "x_ticks =[] \n",
    "for p in ax.patches:  #遍历每一组\n",
    "    x=p.get_bbox().get_points()[:,0] #bar的左右x坐标值\n",
    "    y=p.get_bbox().get_points()[1,1] #bar的y值\n",
    "    #在bar上方添加数据 \n",
    "    ax.annotate('{:.2f}'.format(y), (x.mean(), y), ha='center', va='bottom') \n",
    "    x_ticks.append(x.mean()) #获取每组类别名的x_loc\n",
    "#修改 每组的类别名x_tick\n",
    "plt.xticks(x_ticks,['Thursday','Friday','Saturday','Sunday']) # add x_ticks (location,ticks)\n",
    "plt.show()"
   ]
  },
  {
   "cell_type": "code",
   "execution_count": 145,
   "metadata": {
    "collapsed": false
   },
   "outputs": [
    {
     "data": {
      "image/png": "[encoded data removed]",
      "text/plain": [
       "<matplotlib.figure.Figure at 0x11c4686d0>"
      ]
     },
     "metadata": {},
     "output_type": "display_data"
    }
   ],
   "source": [
    "import seaborn as sns\n",
    "ax = sns.boxplot(x=\"poi\", y=\"salary\", data=df)#,estimator=median,ci=95 ) #默认统计均值"
   ]
  },
  {
   "cell_type": "code",
   "execution_count": 22,
   "metadata": {
    "collapsed": false
   },
   "outputs": [],
   "source": [
    "### Store to my_dataset for easy export below.\n",
    "my_dataset = data_dict\n",
    "\n",
    " \n"
   ]
  },
  {
   "cell_type": "code",
   "execution_count": null,
   "metadata": {
    "collapsed": true
   },
   "outputs": [],
   "source": [
    "### Extract features and labels from dataset for local testing\n",
    "data = featureFormat(my_dataset, features_list, sort_keys = True)\n",
    "labels, features = targetFeatureSplit(data)"
   ]
  },
  {
   "cell_type": "code",
   "execution_count": null,
   "metadata": {
    "collapsed": true
   },
   "outputs": [],
   "source": [
    "# Scaler\n",
    "\n",
    "\n",
    "\n",
    "\n"
   ]
  },
  {
   "cell_type": "code",
   "execution_count": null,
   "metadata": {
    "collapsed": true
   },
   "outputs": [],
   "source": [
    "# outliers lof\n",
    "features_tuples = [tuple(row) for row in features]\n",
    "from lof import outliers\n",
    "lof = outliers(20, features_tuples)\n",
    "\n",
    "for outlier in lof:\n",
    "    print outlier[\"lof\"],outlier[\"instance\"]  "
   ]
  },
  {
   "cell_type": "code",
   "execution_count": 260,
   "metadata": {
    "collapsed": false
   },
   "outputs": [
    {
     "name": "stdout",
     "output_type": "stream",
     "text": [
      "shape of X_train:  (101, 45)\n",
      "[ 0.02451693  0.01316203  0.03048142  0.02318614  0.03084023  0.02158263\n",
      "  0.02359271  0.00716481  0.02191103  0.02671263  0.00548098  0.02080062\n",
      "  0.02693546  0.02149065  0.01688188  0.          0.01804292  0.0275014\n",
      "  0.03392836  0.0131753   0.01711595  0.08263934  0.00835895  0.02651871\n",
      "  0.03289312  0.00597068  0.01968515  0.03994056  0.02388271  0.01435639\n",
      "  0.00717012  0.12033109  0.05667137  0.00238827  0.02315595  0.01585168\n",
      "  0.00119414  0.          0.01942019  0.01206077  0.00602754  0.03030314\n",
      "  0.01712294  0.00835895  0.00119414]\n",
      "shape of X_train_new:  (101, 18)\n"
     ]
    }
   ],
   "source": [
    "\"\"\"\n",
    "select important features\n",
    "\"\"\"\n",
    "def select_features(my_dataset,features_list):\n",
    "    #Extract features and labels from dataset for local testing\n",
    "    data = featureFormat(my_dataset, features_list, sort_keys = True)\n",
    "    labels, features = targetFeatureSplit(data)\n",
    "    # TODO: Shuffle the data\n",
    "    from sklearn.utils import shuffle\n",
    "    features, labels = shuffle(features, labels, random_state=1)\n",
    "    \n",
    "    # split train test dataset\n",
    "    from sklearn.model_selection import train_test_split\n",
    "    X_train, X_test, y_train, y_test = train_test_split(features, labels, test_size=0.3, random_state=42)\n",
    "    X_train = np.array(X_train)\n",
    "    y_train = np.array(y_train)\n",
    "    # TODO: Shuffle the data\n",
    "    X_train, y_train = shuffle(X_train, y_train, random_state=0)\n",
    "    \n",
    "    # tree selection\n",
    "    from sklearn.ensemble import ExtraTreesClassifier\n",
    "    from sklearn.feature_selection import SelectFromModel\n",
    "    print \"shape of X_train: \", X_train.shape\n",
    "    \n",
    "    clf_tree = ExtraTreesClassifier(random_state=32)\n",
    "    clf_tree = clf_tree.fit(X_train, y_train)\n",
    "    print clf_tree.feature_importances_  \n",
    "    \n",
    "    model_tree = SelectFromModel(clf_tree, prefit=True)\n",
    "    X_train_new = model_tree.transform(X_train)\n",
    "    print \"shape of X_train_new: \", X_train_new.shape    \n",
    "\n",
    "    return clf_tree \n",
    "\n",
    "df_dict = df.to_dict(orient='index')\n",
    "fea_list = list(df.columns.values)\n",
    "fea_list.remove('email_address')\n",
    "clf_tree = select_features(df_dict,fea_list)"
   ]
  },
  {
   "cell_type": "code",
   "execution_count": 257,
   "metadata": {
    "collapsed": false
   },
   "outputs": [
    {
     "name": "stdout",
     "output_type": "stream",
     "text": [
      "['poi', 'salary_over_zero', 'bonus_over_zero', 'salary_six', 'restricted_stock_six', 'from_poi_to_this_person', 'expenses_five', 'bonus', 'total_payments', 'other_over_zero', 'long_term_incentive', 'other', 'expenses', 'expenses_over_zero', 'to_messages', 'exercised_stock_options_six', 'shared_receipt_with_poi', 'exercised_stock_options', 'restricted_stock_over_zero']\n",
      "[31, 21, 32, 27, 18, 24, 4, 2, 41, 17, 12, 9, 23, 0, 28, 6, 3, 34]\n"
     ]
    }
   ],
   "source": [
    "#reselect features by feature_importances_\n",
    "def reselect_features(clf_tree,features_list):\n",
    "    fea_imp = clf_tree.feature_importances_\n",
    "    features_new_index = sorted(range(len(fea_imp)), key=lambda k: fea_imp[k], reverse = True)[:18]\n",
    "    features_new_list=[]\n",
    "    for f in features_new_index:\n",
    "        features_new_list.append(features_list[1:][f])\n",
    "    features_new_list = ['poi'] +features_new_list    \n",
    "    \n",
    "    return features_new_list,features_new_index\n",
    "    \n",
    "features_new_list,features_new_index = reselect_features(clf_tree,fea_list)\n",
    "print features_new_list\n",
    "print features_new_index"
   ]
  },
  {
   "cell_type": "code",
   "execution_count": 50,
   "metadata": {
    "collapsed": true
   },
   "outputs": [],
   "source": [
    "### Task 2: Remove outliers\n",
    "### Task 3: Create new feature(s)\n",
    "### Store to my_dataset for easy export below.\n",
    "my_dataset = data_dict\n",
    "\n",
    "### Extract features and labels from dataset for local testing\n",
    "data = featureFormat(my_dataset, features_list, sort_keys = True)\n",
    "labels, features = targetFeatureSplit(data)\n",
    "labels = np.array(labels)\n",
    "features = np.array(features)\n"
   ]
  },
  {
   "cell_type": "code",
   "execution_count": null,
   "metadata": {
    "collapsed": true
   },
   "outputs": [],
   "source": [
    "### Task 4: Try a varity of classifiers\n",
    "### Please name your classifier clf for easy export below.\n",
    "### Note that if you want to do PCA or other multi-stage operations,\n",
    "### you'll need to use Pipelines. For more info:\n",
    "### http://scikit-learn.org/stable/modules/pipeline.html\n",
    "\n",
    "# Provided to give you a starting point. Try a variety of classifiers.\n",
    "from sklearn.naive_bayes import GaussianNB\n",
    "clf = GaussianNB()\n",
    "\n",
    "\n"
   ]
  },
  {
   "cell_type": "code",
   "execution_count": 262,
   "metadata": {
    "collapsed": false
   },
   "outputs": [],
   "source": [
    "### Task 5: Tune your classifier to achieve better than .3 precision and recall \n",
    "### using our testing script. Check the tester.py script in the final project\n",
    "### folder for details on the evaluation method, especially the test_classifier\n",
    "### function. Because of the small size of the dataset, the script uses\n",
    "### stratified shuffle split cross validation. For more info: \n",
    "### http://scikit-learn.org/stable/modules/generated/sklearn.cross_validation.StratifiedShuffleSplit.html\n",
    "\n",
    "# Example starting point. Try investigating other evaluation techniques!\n",
    "def get_train_test_dataset(my_dataset,features_list):\n",
    "    #Extract features and labels from dataset for local testing\n",
    "    data = featureFormat(my_dataset, features_list, sort_keys = True)\n",
    "    labels, features = targetFeatureSplit(data)\n",
    "    # TODO: Shuffle the data\n",
    "    from sklearn.utils import shuffle\n",
    "    features, labels = shuffle(features, labels, random_state=1)\n",
    "    \n",
    "    from sklearn.cross_validation import train_test_split\n",
    "    features_train, features_test, labels_train, labels_test = \\\n",
    "        train_test_split(features, labels, test_size=0.3, random_state=42)\n",
    "\n",
    "    return features_train, features_test, labels_train, labels_test\n",
    " \n",
    "features_train, features_test, labels_train, labels_test = get_train_test_dataset(df_dict,features_new_list)\n"
   ]
  },
  {
   "cell_type": "code",
   "execution_count": 270,
   "metadata": {
    "collapsed": false
   },
   "outputs": [],
   "source": [
    "from sklearn.naive_bayes import GaussianNB\n",
    "from sklearn.svm import SVC\n",
    "def train_model(classifier):\n",
    "    clf = classifier\n",
    "    clf.fit(features_train, labels_train)\n",
    "    labels_pred = clf.predict(features_test)\n",
    "    return clf,labels_pred\n",
    "\n"
   ]
  },
  {
   "cell_type": "code",
   "execution_count": 277,
   "metadata": {
    "collapsed": false
   },
   "outputs": [],
   "source": [
    "def evaluation_metric(labels_test,labels_pred):\n",
    "    from sklearn.metrics import recall_score\n",
    "    from sklearn.metrics import precision_score\n",
    "    from sklearn.metrics import f1_score\n",
    "    \n",
    "    print \"recall_score: \",recall_score(labels_test, labels_pred)\n",
    "    print \"precision_score: \",precision_score(labels_test, labels_pred)  \n",
    "    print \"f1_score: \",f1_score(labels_test, labels_pred)  \n",
    "    "
   ]
  },
  {
   "cell_type": "code",
   "execution_count": 265,
   "execution_count": 278,
   "metadata": {
    "collapsed": false
   },
   "outputs": [
    {
     "name": "stdout",
     "output_type": "stream",
     "text": [
      "recall_score:  0.333333333333\n",
      "precision_score:  0.6\n",
      "f1_score:  0.428571428571\n"
     ]
    }
   ],
   "source": [
    "# naive bayers\n",
    "clf_nb,labels_pred_nb = train_model(GaussianNB())\n",
    "evaluation_metric(labels_test,labels_pred_nb)"
   ]
  },
  {
   "cell_type": "code",
   "execution_count": 283,
   "metadata": {
    "collapsed": false
   },
   "outputs": [
    {
     "name": "stdout",
     "output_type": "stream",
     "text": [
      "recall_score:  0.0\n",
      "precision_score:  0.0\n",
      "f1_score:  0.0\n"
     ]
    }
   ],
   "source": [
    "#svm\n",
    "clf_svm,labels_pred_svm = train_model(SVC())\n",
    "evaluation_metric(labels_test,labels_pred_svm)"
   ]
  },
  {
   "cell_type": "code",
   "execution_count": 280,
   "metadata": {
    "collapsed": false
   },
   "outputs": [
    {
     "name": "stdout",
     "output_type": "stream",
     "text": [
      "recall_score:  0.111111111111\n",
      "precision_score:  0.333333333333\n",
      "f1_score:  0.166666666667\n"
     ]
    }
   ],
   "source": [
    "# decision tree\n",
    "from sklearn import tree\n",
    "clf_dtree,labels_pred_stree = train_model(tree.DecisionTreeClassifier())\n",
    "evaluation_metric(labels_test,labels_pred_stree)"
   ]
  },
  {
   "cell_type": "code",
   "execution_count": 282,
   "metadata": {
    "collapsed": false
   },
   "outputs": [
    {
     "name": "stdout",
     "output_type": "stream",
     "text": [
      "recall_score:  0.0\n",
      "precision_score:  0.0\n",
      "f1_score:  0.0\n"
     ]
    }
   ],
   "source": [
    "# random forest\n",
    "from sklearn.ensemble import RandomForestClassifier\n",
    "clf_froest,labels_pred_forest = train_model(RandomForestClassifier(n_estimators=10))\n",
    "evaluation_metric(labels_test,labels_pred_forest)"
   ]
  },
  {
   "cell_type": "code",
   "execution_count": 268,
   "metadata": {
    "collapsed": false
   },
   "outputs": [
    {
     "data": {
      "text/plain": [
       "[array([  1.00000000e+00,   1.00000000e+00,   2.00000000e+00,\n",
       "          6.00000000e+00,   2.40000000e+02,   1.00000000e+00,\n",
       "          1.20000000e+06,   1.49034400e+06,   1.00000000e+00,\n",
       "          0.00000000e+00,   1.01740000e+05,   1.65140000e+04,\n",
       "          1.00000000e+00,   1.75800000e+03,   0.00000000e+00,\n",
       "          1.13200000e+03,   0.00000000e+00,   1.00000000e+00]),\n",
       " array([  1.00000000e+00,   1.00000000e+00,   2.00000000e+00,\n",
       "          8.00000000e+00,   3.20000000e+01,   3.00000000e+00,\n",
       "          1.50000000e+06,   2.88682000e+05,   1.00000000e+00,\n",
       "          1.61701100e+06,   1.13500000e+04,   3.40390000e+04,\n",
       "          1.00000000e+00,   1.04500000e+03,   5.00000000e+00,\n",
       "          1.03500000e+03,   5.53800100e+06,   1.00000000e+00]),\n",
       " array([  1.00000000e+00,   1.00000000e+00,   3.00000000e+00,\n",
       "          3.00000000e+00,   6.60000000e+01,   8.00000000e+00,\n",
       "          3.00000000e+06,   4.74797900e+06,   1.00000000e+00,\n",
       "          1.29498100e+06,   1.66100000e+03,   8.61740000e+04,\n",
       "          1.00000000e+00,   3.09300000e+03,   2.00000000e+00,\n",
       "          2.09700000e+03,   2.29111300e+06,   1.00000000e+00]),\n",
       " array([  0.00000000e+00,   0.00000000e+00,   0.00000000e+00,\n",
       "          6.00000000e+00,   0.00000000e+00,   0.00000000e+00,\n",
       "          0.00000000e+00,   1.54562900e+07,   1.00000000e+00,\n",
       "          0.00000000e+00,   1.37864000e+05,   0.00000000e+00,\n",
       "          0.00000000e+00,   5.23000000e+02,   6.00000000e+00,\n",
       "          4.63000000e+02,   2.60449000e+06,   0.00000000e+00]),\n",
       " array([  1.00000000e+00,   1.00000000e+00,   2.00000000e+00,\n",
       "          1.00000000e+00,   1.99000000e+02,   3.00000000e+00,\n",
       "          1.25000000e+06,   1.63929700e+06,   1.00000000e+00,\n",
       "          3.75304000e+05,   4.86000000e+02,   3.58180000e+04,\n",
       "          1.00000000e+00,   2.59800000e+03,   0.00000000e+00,\n",
       "          2.18800000e+03,   0.00000000e+00,   1.00000000e+00]),\n",
       " array([  1.00000000e+00,   1.00000000e+00,   2.00000000e+00,\n",
       "          4.00000000e+00,   0.00000000e+00,   3.00000000e+00,\n",
       "          1.00000000e+06,   3.12338300e+06,   1.00000000e+00,\n",
       "          0.00000000e+00,   1.82945700e+06,   3.20470000e+04,\n",
       "          1.00000000e+00,   0.00000000e+00,   3.00000000e+00,\n",
       "          0.00000000e+00,   1.53641670e+07,   1.00000000e+00]),\n",
       " array([  1.00000000e+00,   1.00000000e+00,   2.00000000e+00,\n",
       "          1.00000000e+00,   2.28000000e+02,   1.00000000e+00,\n",
       "          5.24999900e+06,   5.50163000e+06,   1.00000000e+00,\n",
       "          0.00000000e+00,   2.10698000e+05,   1.73550000e+04,\n",
       "          1.00000000e+00,   7.99100000e+03,   9.00000000e+00,\n",
       "          5.52100000e+03,   9.53136000e+05,   1.00000000e+00]),\n",
       " array([  1.00000000e+00,   1.00000000e+00,   3.00000000e+00,\n",
       "          2.00000000e+00,   5.30000000e+01,   2.00000000e+00,\n",
       "          7.00000000e+05,   1.58742100e+06,   1.00000000e+00,\n",
       "          3.00000000e+05,   1.50458000e+05,   1.27017000e+05,\n",
       "          1.00000000e+00,   2.37400000e+03,   6.00000000e+00,\n",
       "          2.27100000e+03,   6.71737000e+05,   1.00000000e+00])]"
      ]
     },
     "execution_count": 268,
     "metadata": {},
     "output_type": "execute_result"
    }
   ],
   "source": [
    "# 识别错误的数据点\n",
    "[features_test[i] for i in range(len(labels_pred)) if labels_pred[i]!=labels_test[i]]\n"
   ]
  },
  {
   "cell_type": "code",
   "execution_count": null,
   "metadata": {
    "collapsed": true
   },
   "outputs": [],
   "source": [
    "### Task 6: Dump your classifier, dataset, and features_list so anyone can\n",
    "### check your results. You do not need to change anything below, but make sure\n",
    "### that the version of poi_id.py that you submit can be run on its own and\n",
    "### generates the necessary .pkl files for validating your results.\n",
    "\n",
    "dump_classifier_and_data(clf, my_dataset, features_list)"
   ]
  }
 ],
 "metadata": {
  "kernelspec": {
   "display_name": "Python 2",
   "language": "python",
   "name": "python2"
  },
  "language_info": {
   "codemirror_mode": {
    "name": "ipython",
    "version": 2
   },
   "file_extension": ".py",
   "mimetype": "text/x-python",
   "name": "python",
   "nbconvert_exporter": "python",
   "pygments_lexer": "ipython2",
   "version": "2.7.12"
  }
 },
 "nbformat": 4,
 "nbformat_minor": 0
}
