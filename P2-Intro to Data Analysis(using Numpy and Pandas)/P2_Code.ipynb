{
 "cells": [
  {
   "cell_type": "markdown",
   "metadata": {},
   "source": [
    "# Content：\n",
    "##   [1. Backgroud Information](#jump1)\n",
    "\n",
    "##  [2. Investigation into Data](#jump2)\n",
    "\n",
    "### [2.1 Put questions](#jump2.1)\n",
    "### [2.2 Wrangle data](#jump2.2)\n",
    "### [2.3 Explore data](#jump2.3)\n",
    "### [2.4 Draw conclusions](#jump2.4)\n"
   ]
  },
  {
   "cell_type": "markdown",
   "metadata": {},
   "source": [
    "<span id=\"jump1\">\n",
    "# 1. Background  Information\n",
    "</span>\n",
    "\n",
    "The sinking of the RMS Titanic is one of the most infamous shipwrecks in history.  On April 15, 1912, during her maiden voyage, the Titanic sank after colliding with an iceberg, killing 1502 out of 2224 passengers and crew. This sensational tragedy shocked the international community and led to better safety regulations for ships.\n",
    "\n",
    "One of the reasons that the shipwreck led to such loss of life was that there were not enough lifeboats for the passengers and crew. Although there was some element of luck involved in surviving the sinking, some groups of people were more likely to survive than others, such as women, children, and the upper-class.\n",
    "\n",
    "Ref:https://www.kaggle.com/c/titanic"
   ]
  },
  {
   "cell_type": "markdown",
   "metadata": {},
   "source": [
    "### Dataset Variable Description--Titanic\n",
    "variable|description\n",
    "---|---\n",
    "Survival  |      Survival (0 = No; 1 = Yes)\n",
    "Pclass     |     Passenger Class (1 = 1st; 2 = 2nd; 3 = 3rd)\n",
    "Name        |    Name\n",
    "Sex          |   Sex\n",
    "Age           |  Age\n",
    "Sibsp        |   Number of Siblings/Spouses Aboard\n",
    "Parch    |       Number of Parents/Children Aboard\n",
    "Ticket    |      Ticket Number\n",
    "Fare       |     Passenger Fare\n",
    "Cabin       |    Cabin\n",
    "Embarked     |   Port of Embarkation (C = Cherbourg; Q = Queenstown; S = Southampton)"
   ]
  },
  {
   "cell_type": "markdown",
   "metadata": {},
   "source": [
    "<span id=\"jump2\">\n",
    "#  2. Investigation into Data\n",
    "</span>\n",
    "\n",
    "<span id=\"jump2.1\">\n",
    "## 2.1 Put questions:\n",
    "</span>\n",
    "1. Was it true that Women or children were more likely to survive?\n",
    "2. How did the social class influence the survival rate? \n",
    "3. What about the survival rate considering both social classs and crowd?"
   ]
  },
  {
   "cell_type": "markdown",
   "metadata": {},
   "source": [
    "<span id=\"jump2.2\">\n",
    "## 2.2 Wrangle data\n",
    "</span2.2>\n",
    "1. Drop rows containing missing data.\n",
    "2. Add new column 'Who'.  \n",
    "\n",
    "Who| Condition\n",
    "---|---\n",
    "child| age < 18\n",
    "man|age >= 18 & male\n",
    "woman|age>=18 & female"
   ]
  },
  {
   "cell_type": "code",
   "execution_count": 133,
   "metadata": {
    "collapsed": false
   },
   "outputs": [],
   "source": [
    "import pandas as pd\n",
    "import numpy as np\n",
    "import matplotlib.pyplot as plt\n",
    "import seaborn as sns\n",
    "%matplotlib inline"
   ]
  },
  {
   "cell_type": "code",
   "execution_count": 134,
   "metadata": {
    "collapsed": false
   },
   "outputs": [
    {
     "data": {
      "text/html": [
       "<div>\n",
       "<table border=\"1\" class=\"dataframe\">\n",
       "  <thead>\n",
       "    <tr style=\"text-align: right;\">\n",
       "      <th></th>\n",
       "      <th>PassengerId</th>\n",
       "      <th>Survived</th>\n",
       "      <th>Pclass</th>\n",
       "      <th>Name</th>\n",
       "      <th>Sex</th>\n",
       "      <th>Age</th>\n",
       "      <th>SibSp</th>\n",
       "      <th>Parch</th>\n",
       "      <th>Ticket</th>\n",
       "      <th>Fare</th>\n",
       "      <th>Cabin</th>\n",
       "      <th>Embarked</th>\n",
       "    </tr>\n",
       "  </thead>\n",
       "  <tbody>\n",
       "    <tr>\n",
       "      <th>0</th>\n",
       "      <td>1</td>\n",
       "      <td>0</td>\n",
       "      <td>3</td>\n",
       "      <td>Braund, Mr. Owen Harris</td>\n",
       "      <td>male</td>\n",
       "      <td>22.0</td>\n",
       "      <td>1</td>\n",
       "      <td>0</td>\n",
       "      <td>A/5 21171</td>\n",
       "      <td>7.2500</td>\n",
       "      <td>NaN</td>\n",
       "      <td>S</td>\n",
       "    </tr>\n",
       "    <tr>\n",
       "      <th>1</th>\n",
       "      <td>2</td>\n",
       "      <td>1</td>\n",
       "      <td>1</td>\n",
       "      <td>Cumings, Mrs. John Bradley (Florence Briggs Th...</td>\n",
       "      <td>female</td>\n",
       "      <td>38.0</td>\n",
       "      <td>1</td>\n",
       "      <td>0</td>\n",
       "      <td>PC 17599</td>\n",
       "      <td>71.2833</td>\n",
       "      <td>C85</td>\n",
       "      <td>C</td>\n",
       "    </tr>\n",
       "    <tr>\n",
       "      <th>2</th>\n",
       "      <td>3</td>\n",
       "      <td>1</td>\n",
       "      <td>3</td>\n",
       "      <td>Heikkinen, Miss. Laina</td>\n",
       "      <td>female</td>\n",
       "      <td>26.0</td>\n",
       "      <td>0</td>\n",
       "      <td>0</td>\n",
       "      <td>STON/O2. 3101282</td>\n",
       "      <td>7.9250</td>\n",
       "      <td>NaN</td>\n",
       "      <td>S</td>\n",
       "    </tr>\n",
       "    <tr>\n",
       "      <th>3</th>\n",
       "      <td>4</td>\n",
       "      <td>1</td>\n",
       "      <td>1</td>\n",
       "      <td>Futrelle, Mrs. Jacques Heath (Lily May Peel)</td>\n",
       "      <td>female</td>\n",
       "      <td>35.0</td>\n",
       "      <td>1</td>\n",
       "      <td>0</td>\n",
       "      <td>113803</td>\n",
       "      <td>53.1000</td>\n",
       "      <td>C123</td>\n",
       "      <td>S</td>\n",
       "    </tr>\n",
       "    <tr>\n",
       "      <th>4</th>\n",
       "      <td>5</td>\n",
       "      <td>0</td>\n",
       "      <td>3</td>\n",
       "      <td>Allen, Mr. William Henry</td>\n",
       "      <td>male</td>\n",
       "      <td>35.0</td>\n",
       "      <td>0</td>\n",
       "      <td>0</td>\n",
       "      <td>373450</td>\n",
       "      <td>8.0500</td>\n",
       "      <td>NaN</td>\n",
       "      <td>S</td>\n",
       "    </tr>\n",
       "  </tbody>\n",
       "</table>\n",
       "</div>"
      ],
      "text/plain": [
       "   PassengerId  Survived  Pclass  \\\n",
       "0            1         0       3   \n",
       "1            2         1       1   \n",
       "2            3         1       3   \n",
       "3            4         1       1   \n",
       "4            5         0       3   \n",
       "\n",
       "                                                Name     Sex   Age  SibSp  \\\n",
       "0                            Braund, Mr. Owen Harris    male  22.0      1   \n",
       "1  Cumings, Mrs. John Bradley (Florence Briggs Th...  female  38.0      1   \n",
       "2                             Heikkinen, Miss. Laina  female  26.0      0   \n",
       "3       Futrelle, Mrs. Jacques Heath (Lily May Peel)  female  35.0      1   \n",
       "4                           Allen, Mr. William Henry    male  35.0      0   \n",
       "\n",
       "   Parch            Ticket     Fare Cabin Embarked  \n",
       "0      0         A/5 21171   7.2500   NaN        S  \n",
       "1      0          PC 17599  71.2833   C85        C  \n",
       "2      0  STON/O2. 3101282   7.9250   NaN        S  \n",
       "3      0            113803  53.1000  C123        S  \n",
       "4      0            373450   8.0500   NaN        S  "
      ]
     },
     "execution_count": 134,
     "metadata": {},
     "output_type": "execute_result"
    }
   ],
   "source": [
    "titanic = pd.read_csv('titanic_data.csv')\n",
    "titanic.head(5)"
   ]
  },
  {
   "cell_type": "code",
   "execution_count": 135,
   "metadata": {
    "collapsed": false
   },
   "outputs": [
    {
     "name": "stdout",
     "output_type": "stream",
     "text": [
      "<class 'pandas.core.frame.DataFrame'>\n",
      "RangeIndex: 891 entries, 0 to 890\n",
      "Data columns (total 12 columns):\n",
      "PassengerId    891 non-null int64\n",
      "Survived       891 non-null int64\n",
      "Pclass         891 non-null int64\n",
      "Name           891 non-null object\n",
      "Sex            891 non-null object\n",
      "Age            714 non-null float64\n",
      "SibSp          891 non-null int64\n",
      "Parch          891 non-null int64\n",
      "Ticket         891 non-null object\n",
      "Fare           891 non-null float64\n",
      "Cabin          204 non-null object\n",
      "Embarked       889 non-null object\n",
      "dtypes: float64(2), int64(5), object(5)\n",
      "memory usage: 83.6+ KB\n"
     ]
    }
   ],
   "source": [
    "titanic.info()"
   ]
  },
  {
   "cell_type": "markdown",
   "metadata": {},
   "source": [
    "We get 890 rows of data. And three columns, 'Age', 'Cabin', 'Embarked', have missing data. \n"
   ]
  },
  {
   "cell_type": "code",
   "execution_count": 136,
   "metadata": {
    "collapsed": false
   },
   "outputs": [
    {
     "name": "stdout",
     "output_type": "stream",
     "text": [
      "After drop null rows, we get 714 rows of data.\n"
     ]
    }
   ],
   "source": [
    "# Drop null rows\n",
    "new_titanic = titanic[['PassengerId','Survived','Pclass','Age','Sex']].dropna(axis=0)\n",
    "new_titanic.head()\n",
    "print 'After drop null rows, we get {} rows of data.'.format(new_titanic.shape[0])"
   ]
  },
  {
   "cell_type": "code",
   "execution_count": 137,
   "metadata": {
    "collapsed": false
   },
   "outputs": [],
   "source": [
    "# Add a new column 'Who', value: man, woman, child（age < 18）\n",
    "def get_who(age_sex_df):\n",
    "    if age_sex_df[0] < 18:\n",
    "        return 'child'\n",
    "    elif age_sex_df[1] == 'female':\n",
    "        return 'woman'\n",
    "    return 'man'"
   ]
  },
  {
   "cell_type": "code",
   "execution_count": 138,
   "metadata": {
    "collapsed": false,
    "scrolled": true
   },
   "outputs": [
    {
     "data": {
      "text/html": [
       "<div>\n",
       "<table border=\"1\" class=\"dataframe\">\n",
       "  <thead>\n",
       "    <tr style=\"text-align: right;\">\n",
       "      <th></th>\n",
       "      <th>PassengerId</th>\n",
       "      <th>Survived</th>\n",
       "      <th>Pclass</th>\n",
       "      <th>Age</th>\n",
       "      <th>Sex</th>\n",
       "      <th>Who</th>\n",
       "    </tr>\n",
       "  </thead>\n",
       "  <tbody>\n",
       "    <tr>\n",
       "      <th>0</th>\n",
       "      <td>1</td>\n",
       "      <td>0</td>\n",
       "      <td>3</td>\n",
       "      <td>22.0</td>\n",
       "      <td>male</td>\n",
       "      <td>man</td>\n",
       "    </tr>\n",
       "    <tr>\n",
       "      <th>1</th>\n",
       "      <td>2</td>\n",
       "      <td>1</td>\n",
       "      <td>1</td>\n",
       "      <td>38.0</td>\n",
       "      <td>female</td>\n",
       "      <td>woman</td>\n",
       "    </tr>\n",
       "    <tr>\n",
       "      <th>2</th>\n",
       "      <td>3</td>\n",
       "      <td>1</td>\n",
       "      <td>3</td>\n",
       "      <td>26.0</td>\n",
       "      <td>female</td>\n",
       "      <td>woman</td>\n",
       "    </tr>\n",
       "    <tr>\n",
       "      <th>3</th>\n",
       "      <td>4</td>\n",
       "      <td>1</td>\n",
       "      <td>1</td>\n",
       "      <td>35.0</td>\n",
       "      <td>female</td>\n",
       "      <td>woman</td>\n",
       "    </tr>\n",
       "    <tr>\n",
       "      <th>4</th>\n",
       "      <td>5</td>\n",
       "      <td>0</td>\n",
       "      <td>3</td>\n",
       "      <td>35.0</td>\n",
       "      <td>male</td>\n",
       "      <td>man</td>\n",
       "    </tr>\n",
       "  </tbody>\n",
       "</table>\n",
       "</div>"
      ],
      "text/plain": [
       "   PassengerId  Survived  Pclass   Age     Sex    Who\n",
       "0            1         0       3  22.0    male    man\n",
       "1            2         1       1  38.0  female  woman\n",
       "2            3         1       3  26.0  female  woman\n",
       "3            4         1       1  35.0  female  woman\n",
       "4            5         0       3  35.0    male    man"
      ]
     },
     "execution_count": 138,
     "metadata": {},
     "output_type": "execute_result"
    }
   ],
   "source": [
    "new_titanic['Who'] = new_titanic[['Age','Sex']].apply(get_who,axis=1)\n",
    "new_titanic.head(5)"
   ]
  },
  {
   "cell_type": "markdown",
   "metadata": {},
   "source": [
    "<span id=\"jump2.3\">\n",
    "## 2.3 Explore data:\n",
    "</span>\n",
    "1. Find the generally survival rate.\n",
    "2. Find the survival rate of differnent crowds(men, women, children).\n",
    "3. Find the survival rate of different sociaty classes.\n",
    "4. Find the survival rate of different corwds of different class"
   ]
  },
  {
   "cell_type": "code",
   "execution_count": 139,
   "metadata": {
    "collapsed": true
   },
   "outputs": [],
   "source": [
    "#Make a function: divide data set into groups by variable_1,variable_2\n",
    "def grouping(data,var_1=None,var_2=None):\n",
    "    if var_2:\n",
    "        res = data.groupby([var_1,var_2], as_index=False).count()\n",
    "        res.columns  = [var_1,var_2,'People_num']\n",
    "    else:\n",
    "        res = data.groupby(var_1,as_index=False).count()\n",
    "        res.columns  = [var_1,'People_num']\n",
    "    return res"
   ]
  },
  {
   "cell_type": "code",
   "execution_count": 140,
   "metadata": {
    "collapsed": false
   },
   "outputs": [
    {
     "name": "stdout",
     "output_type": "stream",
     "text": [
      "The generally survival rate is 0.41\n"
     ]
    },
    {
     "data": {
      "text/html": [
       "<div>\n",
       "<table border=\"1\" class=\"dataframe\">\n",
       "  <thead>\n",
       "    <tr style=\"text-align: right;\">\n",
       "      <th></th>\n",
       "      <th>Survived</th>\n",
       "      <th>People_num</th>\n",
       "      <th>Rate</th>\n",
       "    </tr>\n",
       "  </thead>\n",
       "  <tbody>\n",
       "    <tr>\n",
       "      <th>0</th>\n",
       "      <td>0</td>\n",
       "      <td>424</td>\n",
       "      <td>0.593838</td>\n",
       "    </tr>\n",
       "    <tr>\n",
       "      <th>1</th>\n",
       "      <td>1</td>\n",
       "      <td>290</td>\n",
       "      <td>0.406162</td>\n",
       "    </tr>\n",
       "  </tbody>\n",
       "</table>\n",
       "</div>"
      ],
      "text/plain": [
       "   Survived  People_num      Rate\n",
       "0         0         424  0.593838\n",
       "1         1         290  0.406162"
      ]
     },
     "execution_count": 140,
     "metadata": {},
     "output_type": "execute_result"
    }
   ],
   "source": [
    "# Get the absolute frequency and relative frequency of 'Survived' column\n",
    "data_survived = grouping(new_titanic[['PassengerId','Survived']],'Survived')\n",
    "data_survived['Rate']=data_survived['People_num'] / data_survived['People_num'].sum()\n",
    "print 'The generally survival rate is {0:.2f}'.format(data_survived.iloc[1,2]) \n",
    "data_survived"
   ]
  },
  {
   "cell_type": "code",
   "execution_count": 149,
   "metadata": {
    "collapsed": false
   },
   "outputs": [
    {
     "data": {
      "text/plain": [
       "([<matplotlib.axis.XTick at 0x11c5e0f50>,\n",
       "  <matplotlib.axis.XTick at 0x1029f6e90>],\n",
       " <a list of 2 Text xticklabel objects>)"
      ]
     },
     "execution_count": 149,
     "metadata": {},
     "output_type": "execute_result"
    },
    {
     "data": {
      "image/png": "[encoded data removed]",
      "text/plain": [
       "<matplotlib.figure.Figure at 0x11e7d7150>"
      ]
     },
     "metadata": {},
     "output_type": "display_data"
    }
   ],
   "source": [
    "# Bar plot: survived and died people\n",
    "import matplotlib.ticker as ticker\n",
    "\n",
    "sns.set_style(\"whitegrid\")\n",
    "plt.figure(figsize=(4,4))\n",
    "ax = sns.countplot(x=\"Survived\", data=new_titanic)\n",
    "ncount = len(new_titanic)\n",
    "plt.title('Survived or Died')\n",
    "plt.ylabel('Number of People')\n",
    "plt.xlabel('')\n",
    "ax.set_ylim(0,ncount)\n",
    "# Use a LinearLocator to ensure the correct number of ticks\n",
    "ax.yaxis.set_major_locator(ticker.LinearLocator(8))\n",
    "# Make twin axis\n",
    "ax2=ax.twinx()\n",
    "ax2.set_ylim(0,100)\n",
    "ax2.set_ylabel('Frequency [%]')\n",
    "# And use a MultipleLocator to ensure a tick spacing of 100/7\n",
    "ax2.yaxis.set_major_locator(ticker.MultipleLocator(100./7))\n",
    "ax2.grid(None) #turn the grid on ax2 off,\n",
    "x_ticks =[]\n",
    "for p in ax.patches:\n",
    "    x=p.get_bbox().get_points()[:,0]\n",
    "    y=p.get_bbox().get_points()[1,1]\n",
    "    ax.annotate('({},  {:.1f}%)'.format(int(y),100.*y/ncount), (x.mean(), y), ha='center', va='bottom') # set the alignment of the text\n",
    "    x_ticks.append(x.mean())\n",
    "plt.xticks(x_ticks,['Died','Survived']) # add x_ticks (location,ticks)\n"
   ]
  },
  {
   "cell_type": "markdown",
   "metadata": {},
   "source": [
    "From the plot above, we can find that 424 people died, meanwhile, only 290 people survived, making up 59.4% and 40.6% respectively with the pupoluation of 714 people. So, without any other relative infomation, I would consider that one passenger would have a probability of 40.6% to survive."
   ]
  },
  {
   "cell_type": "code",
   "execution_count": 87,
   "metadata": {
    "collapsed": false
   },
   "outputs": [],
   "source": [
    "#Fuction: get the absolute frequency of specify column, and survival rate \n",
    "# df['PassagerId',col,'Survived']:  col is the column we look into\n",
    "# cat1, cat2, cat3 are the values of col\n",
    "\n",
    "def get_fre_sur(df,cat1,cat2,cat3):\n",
    "    col = list(df.columns)\n",
    "    res_1 = grouping(df[col[0:2]],var_1=col[1])\n",
    "    res_2 = grouping(df,var_1=col[1],var_2=col[2])\n",
    "    for cat in [cat1,cat2,cat3]:\n",
    "        cat_index = [cat1,cat2,cat3].index(cat)\n",
    "        cat_rate = res_2.iloc[cat_index*2+1,2]*1.0/res_1.iloc[cat_index,1]\n",
    "        print str(cat) + ' has a probability of {0:.2} to survive.'.format(cat_rate)\n",
    "    return res_1,res_2"
   ]
  },
  {
   "cell_type": "code",
   "execution_count": 88,
   "metadata": {
    "collapsed": false
   },
   "outputs": [
    {
     "name": "stdout",
     "output_type": "stream",
     "text": [
      "Children has a probability of 0.54 to survive.\n",
      "Men has a probability of 0.18 to survive.\n",
      "Women has a probability of 0.77 to survive.\n",
      "     Who  People_num\n",
      "0  child         113\n",
      "1    man         395\n",
      "2  woman         206\n",
      "     Who  Survived  People_num\n",
      "0  child         0          52\n",
      "1  child         1          61\n",
      "2    man         0         325\n",
      "3    man         1          70\n",
      "4  woman         0          47\n",
      "5  woman         1         159\n"
     ]
    }
   ],
   "source": [
    "# get the number of children, men, women; absolute frequency and relative frequency of survior \n",
    "s1,s2 = get_fre_sur(new_titanic[['PassengerId','Who','Survived']],'Children','Men','Women')\n",
    "print s1\n",
    "print s2"
   ]
  },
  {
   "cell_type": "code",
   "execution_count": 90,
   "metadata": {
    "collapsed": false
   },
   "outputs": [
    {
     "data": {
      "image/png": "[encoded data removed]",
      "text/plain": [
       "<matplotlib.figure.Figure at 0x113a5d0d0>"
      ]
     },
     "metadata": {},
     "output_type": "display_data"
    }
   ],
   "source": [
    "# bar chart: the survived and died people number of children, men, women\n",
    "# line chart: survival rate of children, men, women\n",
    "bx = sns.countplot(x=\"Who\", hue=\"Survived\",data=new_titanic,palette=\"muted\")\n",
    "bx.set(ylabel = 'People Number',ylim = (0,400))\n",
    "plt.legend(('Died', 'Survived'),loc =2)\n",
    "bx.yaxis.set_major_locator(ticker.LinearLocator(6))\n",
    "\n",
    "bx2 = bx.twinx()\n",
    "bx2 = sns.pointplot(x=\"Who\", y=\"Survived\",join=True, data=new_titanic,color = sns.xkcd_rgb[\"pale red\"],ci = None)\n",
    "bx2.set( ylabel=\"Survival Probability\")\n",
    "bx2.set_ylim(0,1)\n",
    "bx2.yaxis.set_major_locator(ticker.LinearLocator(6))\n",
    "\n",
    "fakeLine1 = plt.Line2D([0,0],[0,1], color=sns.xkcd_rgb[\"pale red\"], marker='o', linestyle='-')\n",
    "#Create legend from custom artist/label lists\n",
    "bx2.legend([fakeLine1], [\"Survival Probability\"])\n",
    "plt.legend()\n",
    "bx2.grid(False)\n",
    "plt.show()\n",
    "\n",
    "#ref:\n",
    "#https://stanford.edu/~mwaskom/software/seaborn/examples/index.html\n",
    "#http://stackoverflow.com/questions/26868304/how-to-get-rid-of-grid-lines-when-plotting-with-seaborn-pandas-with-secondary\n",
    "#http://matplotlib.org/api/lines_api.html\n",
    "#http://stackoverflow.com/questions/26558816/matplotlib-scatter-plot-with-legend"
   ]
  },
  {
   "cell_type": "markdown",
   "metadata": {},
   "source": [
    "From the plot above, we can find that men who accounts for most weight, has the lowerest survival rate below 0.2, meanwhile, women has the heightest survival rate about 0.8.\n",
    "\n",
    "Ps: The line here that join each point allows interactions to be judged by differences in slope, which is easier for the eyes than comparing the heights of several groups of points. It's not an indication that the variables are continuous, or ordered. "
   ]
  },
  {
   "cell_type": "code",
   "execution_count": 91,
   "metadata": {
    "collapsed": false
   },
   "outputs": [
    {
     "name": "stdout",
     "output_type": "stream",
     "text": [
      "First class has a probability of 0.66 to survive.\n",
      "Second class has a probability of 0.48 to survive.\n",
      "Third class has a probability of 0.24 to survive.\n",
      "   Pclass  People_num\n",
      "0       1         186\n",
      "1       2         173\n",
      "2       3         355\n",
      "   Pclass  Survived  People_num\n",
      "0       1         0          64\n",
      "1       1         1         122\n",
      "2       2         0          90\n",
      "3       2         1          83\n",
      "4       3         0         270\n",
      "5       3         1          85\n"
     ]
    }
   ],
   "source": [
    "# get the number of different classes; absolute frequency and relative frequency of survior \n",
    "c1,c2 = get_fre_sur(new_titanic[['PassengerId','Pclass','Survived']],'First class','Second class','Third class')\n",
    "print c1\n",
    "print c2"
   ]
  },
  {
   "cell_type": "code",
   "execution_count": 108,
   "metadata": {
    "collapsed": false
   },
   "outputs": [
    {
     "data": {
      "image/png": "[encoded data removed]",
      "text/plain": [
       "<matplotlib.figure.Figure at 0x11e089690>"
      ]
     },
     "metadata": {},
     "output_type": "display_data"
    }
   ],
   "source": [
    "# bar chart: the survived and died people number of classes\n",
    "# line chart: survival rate of classes\n",
    "cx = sns.countplot(x=\"Pclass\", hue=\"Survived\",data=new_titanic,palette=\"muted\")\n",
    "cx.set(ylabel = 'People Number',ylim = (0,400))\n",
    "plt.legend(('Died', 'Survived'),loc =2)\n",
    "cx.yaxis.set_major_locator(ticker.LinearLocator(6))\n",
    "\n",
    "cx2 = cx.twinx()\n",
    "cx2 = sns.pointplot(x=\"Pclass\", y=\"Survived\",join=True, data=new_titanic,color = sns.xkcd_rgb[\"pale red\"],ci = None)\n",
    "cx2.set( ylabel=\"Survival Probability\")\n",
    "cx2.set_ylim(0,1)\n",
    "cx2.yaxis.set_major_locator(ticker.LinearLocator(6))\n",
    "\n",
    "fakeLine1 = plt.Line2D([0,0],[0,1], color=sns.xkcd_rgb[\"pale red\"], marker='o', linestyle='-')\n",
    "#Create legend from custom artist/label lists\n",
    "cx2.legend([fakeLine1], [\"Survival Probability\"])\n",
    "plt.legend()\n",
    "cx2.grid(False)\n",
    "plt.show()\n"
   ]
  },
  {
   "cell_type": "markdown",
   "metadata": {},
   "source": [
    "From the plot above, it's obvious that the survival rate decreases with decreasing class. People of class three has the most population, but lowest survival rate about 0.2."
   ]
  },
  {
   "cell_type": "code",
   "execution_count": 92,
   "metadata": {
    "collapsed": false
   },
   "outputs": [
    {
     "data": {
      "image/png": "[encoded data removed]",
      "text/plain": [
       "<matplotlib.figure.Figure at 0x11bfc6590>"
      ]
     },
     "metadata": {},
     "output_type": "display_data"
    }
   ],
   "source": [
    "# bar chart: the people number of 3 classes,3 crowds \n",
    "sns.factorplot(x=\"Who\", col=\"Pclass\",data=new_titanic, kind=\"count\")\n",
    "plt.show()"
   ]
  },
  {
   "cell_type": "markdown",
   "metadata": {},
   "source": [
    "From the plot above, we can find that in social class one and class two, the compositions of the crowd are almost the same, but very different from class three. Men accounts for most of the weight and child least in top two classes, while, women accounts the least percentage in class three. One possible reason for this phenomenon is that older children in class three have more family responsibilities than children in top two classes, therefore, they meight do some work for money in \"Titanic\".\n",
    "\n"
   ]
  },
  {
   "cell_type": "code",
   "execution_count": 93,
   "metadata": {
    "collapsed": false
   },
   "outputs": [
    {
     "data": {
      "image/png": "[encoded data removed]",
      "text/plain": [
       "<matplotlib.figure.Figure at 0x11c46af50>"
      ]
     },
     "metadata": {},
     "output_type": "display_data"
    }
   ],
   "source": [
    "#pointplot: survival rate of three corwds of three classes.\n",
    "cx = sns.pointplot(x=\"Pclass\", y=\"Survived\", join=True, hue='Who', data=new_titanic,ci=None)\n",
    "cx.set(ylabel = 'Survived Probabilty',ylim = (0,1.0))\n",
    "cx.yaxis.set_major_locator(ticker.LinearLocator(11))\n"
   ]
  },
  {
   "cell_type": "markdown",
   "metadata": {},
   "source": [
    "It's obvious in the plot above that at the same social class, the survival rates of women and children is about the same, and always higher than men.   \n",
    "Women of the class one has the highest survival rate near 100%, meanwhile, men of class two has the lowest survival rate lower than 10%.  \n",
    "It's not hard to understand that women is given the priority of surviving while facing emergency, especially women of high social class.  \n",
    "One possible reason for this phenomenon that men of class three is more likely to survive than class two, is that daily hard work bring those men stronger bodies."
   ]
  },
  {
   "cell_type": "markdown",
   "metadata": {},
   "source": [
    "<span id=\"jump2.4\">\n",
    "## 2.4 Draw conclusions:\n",
    "</span>\n",
    "1. Women and children were more likely to survive in this tragedy, especially women with a survival rate of 0.77, much higher than the generally survival rate 0.40. But, it didn't mean that a woman or child must survive.\n",
    "2. The survival rate decreased with decreasing class.\n",
    "3. Women and children of top two classes had a high survival rate about 0.9, especially women of class one had a nearly 100 percent chance to survive.\n",
    "\n",
    "However, we need to be cautious about the above analysis. According to [kaggle](https://www.kaggle.com/c/titanic),  titanic carried 2224 passengers and deck crews. This data set concludes 890 passengers' information, which only accounts for 40% of the total population. With so little data, it's too difficult to completely show the fact, even impossible to calculate the survival rate precisely.  \n",
    "  \n",
    "Besides, this data set is filled with missing value, which I choose to omit. Though it's really convenient, it will possibly remove some useful infomation together and affect analysis results. For example, the survival rate of passengers who don't have age information is 0.29 given in the following table, which is much less than the generally survival rate calculated before. If we recalculate the survival rate using this whole data set, the survival rate will certainly be smaller.  \n",
    "   \n",
    "If this dataset add a new variable to distinguish passengers and staff, We can guess a one's survival probability more accurately. When facing emergency, staff are supposed to help passengers, leaving themselves little time and few ships to escape.\n"
   ]
  },
  {
   "cell_type": "code",
   "execution_count": 132,
   "metadata": {
    "collapsed": false
   },
   "outputs": [
    {
     "name": "stdout",
     "output_type": "stream",
     "text": [
      "The survival rate of passengers(without age information) is 0.29.\n"
     ]
    },
    {
     "data": {
      "text/html": [
       "<div>\n",
       "<table border=\"1\" class=\"dataframe\">\n",
       "  <thead>\n",
       "    <tr style=\"text-align: right;\">\n",
       "      <th></th>\n",
       "      <th>Survived</th>\n",
       "      <th>People_num</th>\n",
       "      <th>Rate</th>\n",
       "    </tr>\n",
       "  </thead>\n",
       "  <tbody>\n",
       "    <tr>\n",
       "      <th>0</th>\n",
       "      <td>0</td>\n",
       "      <td>125</td>\n",
       "      <td>0.706215</td>\n",
       "    </tr>\n",
       "    <tr>\n",
       "      <th>1</th>\n",
       "      <td>1</td>\n",
       "      <td>52</td>\n",
       "      <td>0.293785</td>\n",
       "    </tr>\n",
       "  </tbody>\n",
       "</table>\n",
       "</div>"
      ],
      "text/plain": [
       "   Survived  People_num      Rate\n",
       "0         0         125  0.706215\n",
       "1         1          52  0.293785"
      ]
     },
     "execution_count": 132,
     "metadata": {},
     "output_type": "execute_result"
    }
   ],
   "source": [
    "#titanic_null_age:a data set, include passengers without age information\n",
    "#Calculate the number and survival rate of these passengers \n",
    "titanic_null_age = titanic[titanic['Age'].isnull()][['PassengerId','Survived']]\n",
    "table_sur = grouping(titanic_null_age,'Survived')\n",
    "table_sur['Rate'] = table_sur['People_num']/table_sur['People_num'].sum()\n",
    "print \"The survival rate of passengers(without age information) is {:.2}.\".format(table_sur.iloc[1,2])\n",
    "table_sur"
   ]
  }
 ],
 "metadata": {
  "kernelspec": {
   "display_name": "Python 2",
   "language": "python",
   "name": "python2"
  },
  "language_info": {
   "codemirror_mode": {
    "name": "ipython",
    "version": 2
   },
   "file_extension": ".py",
   "mimetype": "text/x-python",
   "name": "python",
   "nbconvert_exporter": "python",
   "pygments_lexer": "ipython2",
   "version": "2.7.12"
  }
 },
 "nbformat": 4,
 "nbformat_minor": 0
}
